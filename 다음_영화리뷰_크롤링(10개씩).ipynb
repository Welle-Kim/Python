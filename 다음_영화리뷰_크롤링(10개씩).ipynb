{
  "nbformat": 4,
  "nbformat_minor": 0,
  "metadata": {
    "colab": {
      "name": "\b다음 영화리뷰 크롤링.ipynb",
      "provenance": [],
      "authorship_tag": "ABX9TyPRi+BwIJVig8IOlFfEe1aM",
      "include_colab_link": true
    },
    "kernelspec": {
      "name": "python3",
      "display_name": "Python 3"
    },
    "language_info": {
      "name": "python"
    }
  },
  "cells": [
    {
      "cell_type": "markdown",
      "metadata": {
        "id": "view-in-github",
        "colab_type": "text"
      },
      "source": [
        "<a href=\"https://colab.research.google.com/github/Welle-Kim/Python/blob/master/%08%EB%8B%A4%EC%9D%8C_%EC%98%81%ED%99%94%EB%A6%AC%EB%B7%B0_%ED%81%AC%EB%A1%A4%EB%A7%81(10%EA%B0%9C%EC%94%A9).ipynb\" target=\"_parent\"><img src=\"https://colab.research.google.com/assets/colab-badge.svg\" alt=\"Open In Colab\"/></a>"
      ]
    },
    {
      "cell_type": "code",
      "execution_count": null,
      "metadata": {
        "id": "EZU1Z7Gtn_Xh"
      },
      "outputs": [],
      "source": [
        "from selenium import webdriver\n",
        "from bs4 import BeautifulSoup as bs\n",
        "from urllib.parse import quote\n",
        "import requests\n",
        "import time\n",
        "import pandas as pd\n",
        "import re\n",
        "import csv\n",
        "import ssl\n",
        "ssl._create_default_https_context = ssl._create_unverified_context\n",
        "\n",
        "from selenium import webdriver\n",
        "import pandas as pd\n",
        "import numpy as np\n",
        "\n",
        "driver = webdriver.Chrome(\"/opt/homebrew/bin/chromedriver\")\n",
        "# driver = webdriver.Chrome(\"c:/pydata/chromedriver\")\n",
        "review_data=[]\n",
        "\n",
        "kakaopage=[122749,154400,158429,131275,152019,152509,142910,114296,137956,147303]\n",
        "\n",
        "\n",
        "cnt=1\n",
        "for k in kakaopage:\n",
        "    driver.get(\"https://movie.daum.net/moviedb/grade?movieId=\"+str(k))\n",
        "    driver.execute_script(\"window.scrollTo(0, 53)\") \n",
        "\n",
        "    while True:\n",
        "        try:\n",
        "            last_height = driver.execute_script(\"return document.body.scrollHeight\")\n",
        "            driver.execute_script(\"window.scrollTo(0, document.body.scrollHeight);\")\n",
        "            time.sleep(1)\n",
        "            new_height = driver.execute_script(\"return document.body.scrollHeight\")\n",
        "            if new_height == last_height:\n",
        "                xpath1 = \"\"\"//*[@id=\"alex-area\"]/div/div/div/div[3]/div[1]/button\"\"\"\n",
        "                driver.find_element_by_xpath(xpath1).click()\n",
        "        except:\n",
        "            break\n",
        "        last_height = new_height\n",
        "    \n",
        "    html = driver.page_source\n",
        "    soup=bs(html,\"html.parser\")\n",
        "    movie=soup.find(\"span\",class_='txt_tit').text\n",
        "\n",
        "    reviews=soup.find_all(\"div\",class_=\"cmt_info\")\n",
        "    \n",
        "    for review in reviews:\n",
        "        try:\n",
        "            sentences=review.find(\"p\",class_='desc_txt font_size_').text.strip()\n",
        "            sentence=re.sub('[^ ㄱ-ㅣ가-힣+]','',sentences)\n",
        "        \n",
        "        except AttributeError as err:\n",
        "            continue\n",
        "        \n",
        "        score=review.find(\"div\").text.strip()\n",
        "        review_data.append([movie,sentence,score])\n",
        "        #print(review_data)\n",
        "        \n",
        "driver.close()\n",
        "        \n",
        "df=pd.DataFrame(review_data,columns=[\"Movie\",\"Sentence\",\"Score\"])\n",
        "display(df.head(10))\n",
        "display(df.tail(10))\n",
        "df.to_csv(\"./개봉예정_영화관순_1~10순위.csv\",header=True,index=False,encoding=\"utf8\")\n",
        "df.to_excel(\"./개봉예정_영화관순_1~10순위.xlsx\",header=True,index=False)\n",
        "\n",
        "print(\"작업이 완료되었습니다.\")"
      ]
    }
  ]
}