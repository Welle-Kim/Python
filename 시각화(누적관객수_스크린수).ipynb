{
  "cells": [
    {
      "cell_type": "markdown",
      "metadata": {
        "id": "view-in-github",
        "colab_type": "text"
      },
      "source": [
        "<a href=\"https://colab.research.google.com/github/Welle-Kim/Python/blob/master/%EC%8B%9C%EA%B0%81%ED%99%94(%EB%88%84%EC%A0%81%EA%B4%80%EA%B0%9D%EC%88%98_%EC%8A%A4%ED%81%AC%EB%A6%B0%EC%88%98).ipynb\" target=\"_parent\"><img src=\"https://colab.research.google.com/assets/colab-badge.svg\" alt=\"Open In Colab\"/></a>"
      ]
    },
    {
      "cell_type": "code",
      "execution_count": null,
      "id": "935bd7fb",
      "metadata": {
        "id": "935bd7fb"
      },
      "outputs": [],
      "source": [
        "import pandas as pd\n",
        "import numpy as np\n",
        "import matplotlib\n",
        "import matplotlib.pyplot as plt\n",
        "import csv"
      ]
    },
    {
      "cell_type": "code",
      "execution_count": null,
      "id": "6d55b8b2",
      "metadata": {
        "id": "6d55b8b2"
      },
      "outputs": [],
      "source": [
        "plt.rc('font', family='Malgun Gothic')"
      ]
    },
    {
      "cell_type": "code",
      "execution_count": null,
      "id": "2b6f15cf",
      "metadata": {
        "id": "2b6f15cf",
        "outputId": "640b2d48-f415-4ce2-ec0a-44b23bd0faff"
      },
      "outputs": [
        {
          "name": "stderr",
          "output_type": "stream",
          "text": [
            "C:\\Users\\sangm\\AppData\\Local\\Temp\\ipykernel_33196\\1557325089.py:4: SettingWithCopyWarning: \n",
            "A value is trying to be set on a copy of a slice from a DataFrame.\n",
            "Try using .loc[row_indexer,col_indexer] = value instead\n",
            "\n",
            "See the caveats in the documentation: https://pandas.pydata.org/pandas-docs/stable/user_guide/indexing.html#returning-a-view-versus-a-copy\n",
            "  df2020_10[\"누적관객수\"] = df2020_10[\"누적관객수\"].str.replace(\",\",\"\")\n",
            "C:\\Users\\sangm\\AppData\\Local\\Temp\\ipykernel_33196\\1557325089.py:5: SettingWithCopyWarning: \n",
            "A value is trying to be set on a copy of a slice from a DataFrame.\n",
            "Try using .loc[row_indexer,col_indexer] = value instead\n",
            "\n",
            "See the caveats in the documentation: https://pandas.pydata.org/pandas-docs/stable/user_guide/indexing.html#returning-a-view-versus-a-copy\n",
            "  df2020_10[\"스크린수\"] = df2020_10[\"스크린수\"].str.replace(\",\",\"\")\n"
          ]
        },
        {
          "data": {
            "image/png": "[encoded data removed]",
            "text/plain": [
              "<Figure size 1080x432 with 2 Axes>"
            ]
          },
          "metadata": {
            "needs_background": "light"
          },
          "output_type": "display_data"
        }
      ],
      "source": [
        "\n",
        "\n",
        "df2020 = pd.read_csv(\"./screen_2020.csv\", encoding=\"utf-8\")\n",
        "df2020_10 =df2020.head(10)\n",
        "\n",
        "df2020_10[\"누적관객수\"] = df2020_10[\"누적관객수\"].str.replace(\",\",\"\")\n",
        "df2020_10[\"스크린수\"] = df2020_10[\"스크린수\"].str.replace(\",\",\"\")\n",
        "\n",
        "df2020_10 = df2020_10.astype({\"스크린수\":int, \"누적관객수\":int})\n",
        "\n",
        "x = df2020_10['영화명']\n",
        "y1 = df2020_10['누적관객수']\n",
        "y2 = df2020_10['스크린수']\n",
        "\n",
        "fig, ax1 = plt.subplots(figsize=(15, 6))\n",
        "ax1.bar( x, y1, color = 'red', width=0.5, alpha=0.9)\n",
        "ax1.set_ylabel('누적관객수', color = 'red')\n",
        "ax1.set_xticks(x, df2020_10[\"영화명\"], rotation=90)\n",
        "\n",
        "\n",
        "ax1.set_title('스크린수 대비 누적관객수(2020)', fontsize=15)\n",
        "ax1.set_xlabel('영화제목', fontsize=14) \n",
        "\n",
        "ax2 = ax1.twinx()\n",
        "ax2.bar(x, y2, color = 'blue', width=0.5, alpha=0.4)\n",
        "ax2.set_ylabel('스크린수', color = 'blue')\n",
        "\n",
        "\n",
        "\n",
        "plt.show()"
      ]
    },
    {
      "cell_type": "code",
      "execution_count": null,
      "id": "ecf7ff79",
      "metadata": {
        "id": "ecf7ff79"
      },
      "outputs": [],
      "source": [
        ""
      ]
    }
  ],
  "metadata": {
    "kernelspec": {
      "display_name": "Python 3 (ipykernel)",
      "language": "python",
      "name": "python3"
    },
    "language_info": {
      "codemirror_mode": {
        "name": "ipython",
        "version": 3
      },
      "file_extension": ".py",
      "mimetype": "text/x-python",
      "name": "python",
      "nbconvert_exporter": "python",
      "pygments_lexer": "ipython3",
      "version": "3.9.7"
    },
    "colab": {
      "name": "시각화(누적관객수_스크린수).ipynb",
      "provenance": [],
      "toc_visible": true,
      "include_colab_link": true
    }
  },
  "nbformat": 4,
  "nbformat_minor": 5
}