{
  "nbformat": 4,
  "nbformat_minor": 0,
  "metadata": {
    "colab": {
      "provenance": [],
      "authorship_tag": "ABX9TyM6LLSOe6peHKYBD36YeSEp",
      "include_colab_link": true
    },
    "kernelspec": {
      "name": "python3",
      "display_name": "Python 3"
    },
    "language_info": {
      "name": "python"
    }
  },
  "cells": [
    {
      "cell_type": "markdown",
      "metadata": {
        "id": "view-in-github",
        "colab_type": "text"
      },
      "source": [
        "<a href=\"https://colab.research.google.com/github/Welle-Kim/Python/blob/master/%EB%A6%AC%EB%88%85%EC%8A%A43.ipynb\" target=\"_parent\"><img src=\"https://colab.research.google.com/assets/colab-badge.svg\" alt=\"Open In Colab\"/></a>"
      ]
    },
    {
      "cell_type": "code",
      "execution_count": null,
      "metadata": {
        "colab": {
          "base_uri": "https://localhost:8080/",
          "height": 36
        },
        "id": "oTSfMlKhB2o9",
        "outputId": "2bcd658c-37c6-46c1-cdf9-14abd1acd91a"
      },
      "outputs": [
        {
          "output_type": "execute_result",
          "data": {
            "text/plain": [
              "'/content'"
            ],
            "application/vnd.google.colaboratory.intrinsic+json": {
              "type": "string"
            }
          },
          "metadata": {},
          "execution_count": 1
        }
      ],
      "source": [
        "pwd"
      ]
    },
    {
      "cell_type": "code",
      "source": [
        "! cat > my1.txt"
      ],
      "metadata": {
        "id": "Ts6rHb8kB4tp",
        "colab": {
          "base_uri": "https://localhost:8080/"
        },
        "outputId": "97001980-c557-4f97-ed9a-9a4c7f436ba5"
      },
      "execution_count": 1,
      "outputs": [
        {
          "output_type": "stream",
          "name": "stdout",
          "text": [
            "^C\n"
          ]
        }
      ]
    },
    {
      "cell_type": "code",
      "source": [
        "! cat > my2.txt"
      ],
      "metadata": {
        "id": "Bn_i_HSZCA07",
        "colab": {
          "base_uri": "https://localhost:8080/"
        },
        "outputId": "5e0a5492-40b5-46e7-dc46-4c82278e7b23"
      },
      "execution_count": 2,
      "outputs": [
        {
          "output_type": "stream",
          "name": "stdout",
          "text": [
            "^C\n"
          ]
        }
      ]
    },
    {
      "cell_type": "code",
      "source": [
        "!file my1.txt"
      ],
      "metadata": {
        "colab": {
          "base_uri": "https://localhost:8080/"
        },
        "id": "hJtC2_f0MFpT",
        "outputId": "b023d1d4-008b-4b3b-80db-66210394ec50"
      },
      "execution_count": 4,
      "outputs": [
        {
          "output_type": "stream",
          "name": "stdout",
          "text": [
            "my1.txt: empty\n"
          ]
        }
      ]
    },
    {
      "cell_type": "code",
      "source": [
        "!file my2.txt"
      ],
      "metadata": {
        "colab": {
          "base_uri": "https://localhost:8080/"
        },
        "id": "ljF_CY5jMMUF",
        "outputId": "35cf546d-c8b2-4626-951e-e878bf8b1d33"
      },
      "execution_count": 5,
      "outputs": [
        {
          "output_type": "stream",
          "name": "stdout",
          "text": [
            "my2.txt: empty\n"
          ]
        }
      ]
    },
    {
      "cell_type": "code",
      "source": [
        "!which ls #파일위치확인"
      ],
      "metadata": {
        "colab": {
          "base_uri": "https://localhost:8080/"
        },
        "id": "Hxno6LgLMRCa",
        "outputId": "57aa495a-dcf2-47b2-edc9-81b18efae5ec"
      },
      "execution_count": 7,
      "outputs": [
        {
          "output_type": "stream",
          "name": "stdout",
          "text": [
            "/usr/bin/ls\n"
          ]
        }
      ]
    },
    {
      "cell_type": "code",
      "source": [
        "!file /usr/bin/ls"
      ],
      "metadata": {
        "colab": {
          "base_uri": "https://localhost:8080/"
        },
        "id": "nJ-a6NkCMZgN",
        "outputId": "447d7f77-ce3d-40ca-b5df-2cc92e15fc61"
      },
      "execution_count": 8,
      "outputs": [
        {
          "output_type": "stream",
          "name": "stdout",
          "text": [
            "/usr/bin/ls: ELF 64-bit LSB pie executable, x86-64, version 1 (SYSV), dynamically linked, interpreter /lib64/ld-linux-x86-64.so.2, BuildID[sha1]=897f49cafa98c11d63e619e7e40352f855249c13, for GNU/Linux 3.2.0, stripped\n"
          ]
        }
      ]
    },
    {
      "cell_type": "code",
      "source": [
        "!diff my1.txt my2.txt"
      ],
      "metadata": {
        "id": "bDzkLGG9MiPm"
      },
      "execution_count": 9,
      "outputs": []
    },
    {
      "cell_type": "code",
      "source": [
        "! vimdiff my1.txt my2.txt"
      ],
      "metadata": {
        "colab": {
          "base_uri": "https://localhost:8080/"
        },
        "id": "8MXVS-wcMsz5",
        "outputId": "d4573fbe-1d91-4783-e093-b62048344ead"
      },
      "execution_count": 10,
      "outputs": [
        {
          "output_type": "stream",
          "name": "stdout",
          "text": [
            "2 files to edit\n",
            "\u001b7\u001b[?47h\u001b[>4;2m\u001b[?1h\u001b=\u001b[?2004h\u001b[?1004h\u001b[1;24r\u001b[?12h\u001b[?12l\u001b[22;2t\u001b[22;1t\u001b[29m\u001b[m\u001b[H\u001b[2J\u001b[?25l\u001b[24;1H\"my1.txt\" 0L, 0B\r\"my2\u001b[24;11H\u001b[K\u001b[24;11H0L, 0B\u001b[2;1H▽\u001b[6n\u001b[2;1H  \u001b[3;1H\u001bPzz\u001b\\\u001b[0%m\u001b[6n\u001b[3;1H           \u001b[1;1H\u001b[>c\u001b]10;?\u0007\u001b]11;?\u0007\u001b[1;1H\u001b[34m\u001b[47m- \u001b[m\u001b[38C\u001b[7m|\u001b[2;41H|\u001b[3;41H|\u001b[4;41H|\u001b[5;41H|\u001b[6;41H|\u001b[7;41H|\u001b[8;41H|\u001b[9;41H|\u001b[10;41H|\u001b[11;41H|\u001b[12;41H|\u001b[13;41H|\u001b[14;41H|\u001b[15;41H|\u001b[16;41H|\u001b[17;41H|\u001b[18;41H|\u001b[19;41H|\u001b[20;41H|\u001b[21;41H|\u001b[22;41H|\u001b[m\u001b[2;1H\u001b[1m\u001b[34m~                                       \r\n",
            "~                                       \r\n",
            "~                                       \r\n",
            "~                                       \r\n",
            "~                                       \r\n",
            "~                                       \r\n",
            "~                                       \r\n",
            "~                                       \r\n",
            "~                                       \r\n",
            "~                                       \r\n",
            "~                                       \r\n",
            "~                                       \r\n",
            "~                                       \r\n",
            "~                                       \r\n",
            "~                                       \r\n",
            "~                                       \r\n",
            "~                                       \r\n",
            "~                                       \r\n",
            "~                                       \r\n",
            "~                                       \r\n",
            "~                                       \u001b[m\n",
            "\u001b[1m\u001b[7mmy1.txt               0,0-1          All \u001b[m\u001b[1;42H\u001b[34m\u001b[47m- \u001b[m\u001b[2;42H\u001b[1m\u001b[34m~                                      \u001b[3;42H~                                      \u001b[4;42H~                                      \u001b[5;42H~                                      \u001b[6;42H~                                      \u001b[7;42H~                                      \u001b[8;42H~                                      \u001b[9;42H~                                      \u001b[10;42H~                                      \u001b[11;42H~                                      \u001b[12;42H~                                      \u001b[13;42H~                                      \u001b[14;42H~                                      \u001b[15;42H~                                      \u001b[16;42H~                                      \u001b[17;42H~                                      \u001b[18;42H~                                      \u001b[19;42H~                                      \u001b[20;42H~                                      \u001b[21;42H~                                      \u001b[22;42H~                                      \u001b[m\u001b[23;42H\u001b[7mmy2.txt              0,0-1          All\u001b[1;3H\u001b[?25h\u001b[24;1H\u001b[m\u001b[?1004l\u001b[?2004l\u001b[?1l\u001b>\u001b[>4;m\u001b[2J\u001b[?47l\u001b8Vim: Caught deadly signal TERM\n",
            "Vim: Finished.\n",
            "\u001b[24;1H\u001b[23;2t\u001b[23;1t\n",
            "^C\n"
          ]
        }
      ]
    },
    {
      "cell_type": "code",
      "source": [
        "!ls"
      ],
      "metadata": {
        "colab": {
          "base_uri": "https://localhost:8080/"
        },
        "id": "plfCuUEmM-Ob",
        "outputId": "81f3f0d4-f216-418e-9ac0-dc74b744839e"
      },
      "execution_count": 11,
      "outputs": [
        {
          "output_type": "stream",
          "name": "stdout",
          "text": [
            "my1.txt  my2.txt  sample_data\n"
          ]
        }
      ]
    },
    {
      "cell_type": "code",
      "source": [
        "!ln -s my1.txt blue/slink.txt"
      ],
      "metadata": {
        "colab": {
          "base_uri": "https://localhost:8080/"
        },
        "id": "33XN3lmONBk3",
        "outputId": "e6ca525c-3605-45ce-86b4-172242f5e662"
      },
      "execution_count": 13,
      "outputs": [
        {
          "output_type": "stream",
          "name": "stdout",
          "text": [
            "ln: failed to create symbolic link 'blue/slink.txt': No such file or directory\n"
          ]
        }
      ]
    },
    {
      "cell_type": "code",
      "source": [
        "!command"
      ],
      "metadata": {
        "id": "JEG51j60OtTt"
      },
      "execution_count": 16,
      "outputs": []
    },
    {
      "cell_type": "code",
      "source": [
        "!alias comm=\"echo hello\""
      ],
      "metadata": {
        "id": "gX7F_TZUOy8C"
      },
      "execution_count": 17,
      "outputs": []
    },
    {
      "cell_type": "code",
      "source": [
        "!comm"
      ],
      "metadata": {
        "colab": {
          "base_uri": "https://localhost:8080/"
        },
        "id": "TWakz9WYO_Sv",
        "outputId": "48347584-8e53-48cf-db99-8917cfd09994"
      },
      "execution_count": 19,
      "outputs": [
        {
          "output_type": "stream",
          "name": "stdout",
          "text": [
            "comm: missing operand\n",
            "Try 'comm --help' for more information.\n"
          ]
        }
      ]
    },
    {
      "cell_type": "code",
      "source": [
        "!free"
      ],
      "metadata": {
        "colab": {
          "base_uri": "https://localhost:8080/"
        },
        "id": "RKpWD2XGPAcR",
        "outputId": "e23c9fac-2394-48ce-bef4-597af0b47ad3"
      },
      "execution_count": 20,
      "outputs": [
        {
          "output_type": "stream",
          "name": "stdout",
          "text": [
            "               total        used        free      shared  buff/cache   available\n",
            "Mem:        13294208      694356     9438716        2828     3161136    12304900\n",
            "Swap:              0           0           0\n"
          ]
        }
      ]
    },
    {
      "cell_type": "code",
      "source": [
        "!du"
      ],
      "metadata": {
        "colab": {
          "base_uri": "https://localhost:8080/"
        },
        "id": "foP-aZKsPHX6",
        "outputId": "db7e6491-0e86-4285-b591-307ce07524a6"
      },
      "execution_count": 21,
      "outputs": [
        {
          "output_type": "stream",
          "name": "stdout",
          "text": [
            "8\t./.config/configurations\n",
            "72\t./.config/logs/2023.10.05\n",
            "76\t./.config/logs\n",
            "120\t./.config\n",
            "55508\t./sample_data\n",
            "55632\t.\n"
          ]
        }
      ]
    },
    {
      "cell_type": "code",
      "source": [
        "!df"
      ],
      "metadata": {
        "colab": {
          "base_uri": "https://localhost:8080/"
        },
        "id": "5KDzMP8cPJBW",
        "outputId": "69e6ab0d-b567-4bb3-9492-4ccb043a681c"
      },
      "execution_count": 22,
      "outputs": [
        {
          "output_type": "stream",
          "name": "stdout",
          "text": [
            "Filesystem     1K-blocks     Used Available Use% Mounted on\n",
            "overlay        112947452 27730060  85201008  25% /\n",
            "tmpfs              65536        0     65536   0% /dev\n",
            "shm              5989376        0   5989376   0% /dev/shm\n",
            "/dev/root        2003760  1097912    905848  55% /usr/sbin/docker-init\n",
            "tmpfs            6647104     1704   6645400   1% /var/colab\n",
            "/dev/sda1       45162900 28933900  16212616  65% /etc/hosts\n",
            "tmpfs            6647104        0   6647104   0% /proc/acpi\n",
            "tmpfs            6647104        0   6647104   0% /proc/scsi\n",
            "tmpfs            6647104        0   6647104   0% /sys/firmware\n"
          ]
        }
      ]
    },
    {
      "cell_type": "code",
      "source": [
        "!du -h"
      ],
      "metadata": {
        "colab": {
          "base_uri": "https://localhost:8080/"
        },
        "id": "mD4tKwpNPKe5",
        "outputId": "1c54e7c4-5b6f-4943-a997-d10113d52316"
      },
      "execution_count": 23,
      "outputs": [
        {
          "output_type": "stream",
          "name": "stdout",
          "text": [
            "8.0K\t./.config/configurations\n",
            "72K\t./.config/logs/2023.10.05\n",
            "76K\t./.config/logs\n",
            "120K\t./.config\n",
            "55M\t./sample_data\n",
            "55M\t.\n"
          ]
        }
      ]
    },
    {
      "cell_type": "code",
      "source": [
        "!free -h"
      ],
      "metadata": {
        "colab": {
          "base_uri": "https://localhost:8080/"
        },
        "id": "I2NnqefNPM6o",
        "outputId": "dc761482-2474-4553-c2b8-51770f276dbe"
      },
      "execution_count": 24,
      "outputs": [
        {
          "output_type": "stream",
          "name": "stdout",
          "text": [
            "               total        used        free      shared  buff/cache   available\n",
            "Mem:            12Gi       684Mi       9.0Gi       2.0Mi       3.0Gi        11Gi\n",
            "Swap:             0B          0B          0B\n"
          ]
        }
      ]
    },
    {
      "cell_type": "code",
      "source": [
        "! ps"
      ],
      "metadata": {
        "colab": {
          "base_uri": "https://localhost:8080/"
        },
        "id": "ft9_ADjyPPDC",
        "outputId": "5b45dcd6-7b53-4be1-cd06-b88aeb352bda"
      },
      "execution_count": 25,
      "outputs": [
        {
          "output_type": "stream",
          "name": "stdout",
          "text": [
            "    PID TTY          TIME CMD\n",
            "      1 ?        00:00:00 docker-init\n",
            "      7 ?        00:00:04 node\n",
            "     20 ?        00:00:00 tail\n",
            "     31 ?        00:00:00 oom_monitor.sh\n",
            "     33 ?        00:00:00 run.sh\n",
            "     35 ?        00:00:00 kernel_manager_\n",
            "     62 ?        00:00:08 python3 <defunct>\n",
            "     63 ?        00:00:00 colab-fileshim.\n",
            "     84 ?        00:00:06 jupyter-noteboo\n",
            "     85 ?        00:00:01 dap_multiplexer\n",
            "    390 ?        00:00:11 python3\n",
            "    437 ?        00:00:02 python3\n",
            "    466 ?        00:00:00 language_servic\n",
            "    476 ?        00:00:14 node\n",
            "   4670 ?        00:00:00 sleep\n",
            "   4671 ?        00:00:00 ps\n"
          ]
        }
      ]
    },
    {
      "cell_type": "code",
      "source": [
        "!top"
      ],
      "metadata": {
        "colab": {
          "base_uri": "https://localhost:8080/"
        },
        "id": "e55yWSrGPRtR",
        "outputId": "38ec13dd-d4f6-4eda-a335-ef1fa98bc64d"
      },
      "execution_count": null,
      "outputs": [
        {
          "output_type": "stream",
          "name": "stdout",
          "text": [
            "\u001b[?1h\u001b=\u001b[H\u001b[2J\u001b[mtop - 07:42:19 up 20 min,  0 users,  load average: 0.23, 0.38, 0.28\u001b[m\u001b[m\u001b[m\u001b[m\u001b[K\n",
            "Tasks:\u001b[m\u001b[m\u001b[1m  16 \u001b[m\u001b[mtotal,\u001b[m\u001b[m\u001b[1m   1 \u001b[m\u001b[mrunning,\u001b[m\u001b[m\u001b[1m  14 \u001b[m\u001b[msleeping,\u001b[m\u001b[m\u001b[1m   0 \u001b[m\u001b[mstopped,\u001b[m\u001b[m\u001b[1m   1 \u001b[m\u001b[mzombie\u001b[m\u001b[m\u001b[m\u001b[m\u001b[K\n",
            "%Cpu(s):\u001b[m\u001b[m\u001b[1m  0.0 \u001b[m\u001b[mus,\u001b[m\u001b[m\u001b[1m  0.0 \u001b[m\u001b[msy,\u001b[m\u001b[m\u001b[1m  0.0 \u001b[m\u001b[mni,\u001b[m\u001b[m\u001b[1m100.0 \u001b[m\u001b[mid,\u001b[m\u001b[m\u001b[1m  0.0 \u001b[m\u001b[mwa,\u001b[m\u001b[m\u001b[1m  0.0 \u001b[m\u001b[mhi,\u001b[m\u001b[m\u001b[1m  0.0 \u001b[m\u001b[msi,\u001b[m\u001b[m\u001b[1m  0.0 \u001b[m\u001b[mst\u001b[m\u001b[m\u001b[m\u001b[m\u001b[K\n",
            "MiB Mem :\u001b[m\u001b[m\u001b[1m  12982.6 \u001b[m\u001b[mtotal,\u001b[m\u001b[m\u001b[1m   9204.0 \u001b[m\u001b[mfree,\u001b[m\u001b[m\u001b[1m    688.3 \u001b[m\u001b[mused,\u001b[m\u001b[m\u001b[1m   3090.4 \u001b[m\u001b[mbuff/cache\u001b[m\u001b[m\u001b[m\u001b[m\u001b[K\n",
            "MiB Swap:\u001b[m\u001b[m\u001b[1m      0.0 \u001b[m\u001b[mtotal,\u001b[m\u001b[m\u001b[1m      0.0 \u001b[m\u001b[mfree,\u001b[m\u001b[m\u001b[1m      0.0 \u001b[m\u001b[mused.\u001b[m\u001b[m\u001b[1m  12006.1 \u001b[m\u001b[mavail Mem \u001b[m\u001b[m\u001b[m\u001b[m\u001b[K\n",
            "\u001b[K\n",
            "\u001b[7m    PID USER      PR  NI    VIRT    RES    SHR S  %CPU  %MEM     TIME+ COMMAND  \u001b[m\u001b[m\u001b[K\n",
            "\u001b[m      1 root      20   0    1040      8      0 S   0.0   0.0   0:00.10 docker-+ \u001b[m\u001b[m\u001b[K\n",
            "\u001b[m      7 root      20   0  889408  51000  31092 S   0.0   0.4   0:04.35 node     \u001b[m\u001b[m\u001b[K\n",
            "\u001b[m     20 root      20   0    5804   1028    936 S   0.0   0.0   0:00.13 tail     \u001b[m\u001b[m\u001b[K\n",
            "\u001b[m     31 root      20   0    7372   3504   3204 S   0.0   0.0   0:00.66 oom_mon+ \u001b[m\u001b[m\u001b[K\n",
            "\u001b[m     33 root      20   0    7372   1836   1552 S   0.0   0.0   0:00.00 run.sh   \u001b[m\u001b[m\u001b[K\n",
            "\u001b[m     35 root      20   0 1237572  14068   8160 S   0.0   0.1   0:00.59 kernel_+ \u001b[m\u001b[m\u001b[K\n",
            "\u001b[m     62 root      20   0       0      0      0 Z   0.0   0.0   0:08.38 python3  \u001b[m\u001b[m\u001b[K\n",
            "\u001b[m     63 root      20   0   66444  50972  18260 S   0.0   0.4   0:00.94 colab-f+ \u001b[m\u001b[m\u001b[K\n",
            "\u001b[m     84 root      20   0  560612 165252  54008 S   0.0   1.2   0:06.83 jupyter+ \u001b[m\u001b[m\u001b[K\n",
            "\u001b[m     85 root      20   0 1229316   8852   2920 S   0.0   0.1   0:01.40 dap_mul+ \u001b[m\u001b[m\u001b[K\n",
            "\u001b[m    390 root      20   0 1294296 201280  67704 S   0.0   1.5   0:11.82 python3  \u001b[m\u001b[m\u001b[K\n",
            "\u001b[m    437 root      20   0  539312  14356   5084 S   0.0   0.1   0:02.97 python3  \u001b[m\u001b[m\u001b[K\n",
            "\u001b[m    466 root      20   0 1237440  16644   7508 S   0.0   0.1   0:00.81 languag+ \u001b[m\u001b[m\u001b[K\n",
            "\u001b[m    476 root      20   0  923408 142764  30428 S   0.0   1.1   0:14.46 node     \u001b[m\u001b[m\u001b[K\n",
            "\u001b[m   4895 root      20   0    5772   1004    908 S   0.0   0.0   0:00.00 sleep    \u001b[m\u001b[m\u001b[K\n",
            "\u001b[m\u001b[1m   4896 root      20   0   10348   3496   3140 R   0.0   0.0   0:00.00 top      \u001b[m\u001b[m\u001b[K\n",
            "\u001b[J\u001b[H\u001b[mtop - 07:42:22 up 20 min,  0 users,  load average: 0.21, 0.37, 0.28\u001b[m\u001b[m\u001b[m\u001b[m\u001b[K\n",
            "\n",
            "%Cpu(s):\u001b[m\u001b[m\u001b[1m  2.5 \u001b[m\u001b[mus,\u001b[m\u001b[m\u001b[1m  1.2 \u001b[m\u001b[msy,\u001b[m\u001b[m\u001b[1m  0.0 \u001b[m\u001b[mni,\u001b[m\u001b[m\u001b[1m 96.0 \u001b[m\u001b[mid,\u001b[m\u001b[m\u001b[1m  0.0 \u001b[m\u001b[mwa,\u001b[m\u001b[m\u001b[1m  0.0 \u001b[m\u001b[mhi,\u001b[m\u001b[m\u001b[1m  0.2 \u001b[m\u001b[msi,\u001b[m\u001b[m\u001b[1m  0.2 \u001b[m\u001b[mst\u001b[m\u001b[m\u001b[m\u001b[m\u001b[K\n",
            "\n",
            "\n",
            "\u001b[K\n",
            "\n",
            "\u001b[m    390 root      20   0 1294296 201280  67704 S   0.7   1.5   0:11.84 python3  \u001b[m\u001b[m\u001b[K\n",
            "\u001b[m      7 root      20   0  889408  50692  31092 S   0.3   0.4   0:04.36 node     \u001b[m\u001b[m\u001b[K\n",
            "\u001b[m     31 root      20   0    7372   3504   3204 S   0.3   0.0   0:00.67 oom_mon+ \u001b[m\u001b[m\u001b[K\n",
            "\u001b[m     85 root      20   0 1229316   8852   2920 S   0.3   0.1   0:01.41 dap_mul+ \u001b[m\u001b[m\u001b[K\n",
            "\u001b[m    437 root      20   0  539312  14356   5084 S   0.3   0.1   0:02.98 python3  \u001b[m\u001b[m\u001b[K\n",
            "\u001b[m    476 root      20   0  923408 142224  30428 S   0.3   1.1   0:14.47 node     \u001b[m\u001b[m\u001b[K\n",
            "\u001b[m      1 root      20   0    1040      8      0 S   0.0   0.0   0:00.10 docker-+ \u001b[m\u001b[m\u001b[K\n",
            "\u001b[m     20 root      20   0    5804   1028    936 S   0.0   0.0   0:00.13 tail     \u001b[m\u001b[m\u001b[K\n",
            "\u001b[m     33 root      20   0    7372   1836   1552 S   0.0   0.0   0:00.00 run.sh   \u001b[m\u001b[m\u001b[K\n",
            "\u001b[m     35 root      20   0 1237572  14068   8160 S   0.0   0.1   0:00.59 kernel_+ \u001b[m\u001b[m\u001b[K\n",
            "\u001b[m     62 root      20   0       0      0      0 Z   0.0   0.0   0:08.38 python3  \u001b[m\u001b[m\u001b[K\n",
            "\u001b[m     63 root      20   0   66444  50972  18260 S   0.0   0.4   0:00.94 colab-f+ \u001b[m\u001b[m\u001b[K\n",
            "\u001b[m     84 root      20   0  560612 165252  54008 S   0.0   1.2   0:06.83 jupyter+ \u001b[m\u001b[m\u001b[K\n",
            "\u001b[m    466 root      20   0 1237440  16644   7508 S   0.0   0.1   0:00.81 languag+ \u001b[m\u001b[m\u001b[K\n",
            "\u001b[m\u001b[1m   4896 root      20   0   10348   3496   3140 R   0.0   0.0   0:00.00 top      \u001b[m\u001b[m\u001b[K\n",
            "\u001b[m   4908 root      20   0    5772   1032    936 S   0.0   0.0   0:00.00 sleep    \u001b[m\u001b[m\u001b[K\n",
            "\u001b[J\u001b[H\u001b[mtop - 07:42:25 up 20 min,  0 users,  load average: 0.21, 0.37, 0.28\u001b[m\u001b[m\u001b[m\u001b[m\u001b[K\n",
            "\n",
            "%Cpu(s):\u001b[m\u001b[m\u001b[1m  2.2 \u001b[m\u001b[mus,\u001b[m\u001b[m\u001b[1m  1.0 \u001b[m\u001b[msy,\u001b[m\u001b[m\u001b[1m  0.0 \u001b[m\u001b[mni,\u001b[m\u001b[m\u001b[1m 96.8 \u001b[m\u001b[mid,\u001b[m\u001b[m\u001b[1m  0.0 \u001b[m\u001b[mwa,\u001b[m\u001b[m\u001b[1m  0.0 \u001b[m\u001b[mhi,\u001b[m\u001b[m\u001b[1m  0.0 \u001b[m\u001b[msi,\u001b[m\u001b[m\u001b[1m  0.0 \u001b[m\u001b[mst\u001b[m\u001b[m\u001b[m\u001b[m\u001b[K\n",
            "MiB Mem :\u001b[m\u001b[m\u001b[1m  12982.6 \u001b[m\u001b[mtotal,\u001b[m\u001b[m\u001b[1m   9204.0 \u001b[m\u001b[mfree,\u001b[m\u001b[m\u001b[1m    688.2 \u001b[m\u001b[mused,\u001b[m\u001b[m\u001b[1m   3090.5 \u001b[m\u001b[mbuff/cache\u001b[m\u001b[m\u001b[m\u001b[m\u001b[K\n",
            "MiB Swap:\u001b[m\u001b[m\u001b[1m      0.0 \u001b[m\u001b[mtotal,\u001b[m\u001b[m\u001b[1m      0.0 \u001b[m\u001b[mfree,\u001b[m\u001b[m\u001b[1m      0.0 \u001b[m\u001b[mused.\u001b[m\u001b[m\u001b[1m  12006.2 \u001b[m\u001b[mavail Mem \u001b[m\u001b[m\u001b[m\u001b[m\u001b[K\n",
            "\u001b[K\n",
            "\n",
            "\u001b[m    390 root      20   0 1294296 201280  67704 S   1.0   1.5   0:11.87 python3  \u001b[m\u001b[m\u001b[K\n",
            "\u001b[m      7 root      20   0  889408  50692  31092 S   0.3   0.4   0:04.37 node     \u001b[m\u001b[m\u001b[K\n",
            "\u001b[m     35 root      20   0 1237572  14068   8160 S   0.3   0.1   0:00.60 kernel_+ \u001b[m\u001b[m\u001b[K\n",
            "\u001b[m     84 root      20   0  560612 165252  54008 S   0.3   1.2   0:06.84 jupyter+ \u001b[m\u001b[m\u001b[K\n",
            "\u001b[m    437 root      20   0  539312  14356   5084 S   0.3   0.1   0:02.99 python3  \u001b[m\u001b[m\u001b[K\n",
            "\u001b[m      1 root      20   0    1040      8      0 S   0.0   0.0   0:00.10 docker-+ \u001b[m\u001b[m\u001b[K\n",
            "\u001b[m     20 root      20   0    5804   1028    936 S   0.0   0.0   0:00.13 tail     \u001b[m\u001b[m\u001b[K\n",
            "\u001b[m     31 root      20   0    7372   3504   3204 S   0.0   0.0   0:00.67 oom_mon+ \u001b[m\u001b[m\u001b[K\n",
            "\n",
            "\u001b[m     62 root      20   0       0      0      0 Z   0.0   0.0   0:08.38 python3  \u001b[m\u001b[m\u001b[K\n",
            "\u001b[m     63 root      20   0   66444  50972  18260 S   0.0   0.4   0:00.94 colab-f+ \u001b[m\u001b[m\u001b[K\n",
            "\u001b[m     85 root      20   0 1229316   8852   2920 S   0.0   0.1   0:01.41 dap_mul+ \u001b[m\u001b[m\u001b[K\n",
            "\u001b[m    466 root      20   0 1237440  16644   7508 S   0.0   0.1   0:00.81 languag+ \u001b[m\u001b[m\u001b[K\n",
            "\u001b[m    476 root      20   0  923408 142224  30428 S   0.0   1.1   0:14.47 node     \u001b[m\u001b[m\u001b[K\n",
            "\n",
            "\u001b[m   4920 root      20   0    5772   1016    924 S   0.0   0.0   0:00.00 sleep    \u001b[m\u001b[m\u001b[K\n",
            "\u001b[J\u001b[H\u001b[mtop - 07:42:28 up 20 min,  0 users,  load average: 0.19, 0.36, 0.27\u001b[m\u001b[m\u001b[m\u001b[m\u001b[K\n",
            "\n",
            "%Cpu(s):\u001b[m\u001b[m\u001b[1m  2.0 \u001b[m\u001b[mus,\u001b[m\u001b[m\u001b[1m  1.5 \u001b[m\u001b[msy,\u001b[m\u001b[m\u001b[1m  0.0 \u001b[m\u001b[mni,\u001b[m\u001b[m\u001b[1m 96.3 \u001b[m\u001b[mid,\u001b[m\u001b[m\u001b[1m  0.2 \u001b[m\u001b[mwa,\u001b[m\u001b[m\u001b[1m  0.0 \u001b[m\u001b[mhi,\u001b[m\u001b[m\u001b[1m  0.0 \u001b[m\u001b[msi,\u001b[m\u001b[m\u001b[1m  0.0 \u001b[m\u001b[mst\u001b[m\u001b[m\u001b[m\u001b[m\u001b[K\n",
            "\n",
            "\n",
            "\u001b[K\n",
            "\n",
            "\u001b[m    390 root      20   0 1294296 201280  67704 S   1.0   1.5   0:11.90 python3  \u001b[m\u001b[m\u001b[K\n",
            "\u001b[m     84 root      20   0  560612 165252  54008 S   0.3   1.2   0:06.85 jupyter+ \u001b[m\u001b[m\u001b[K\n",
            "\u001b[m    437 root      20   0  539312  14356   5084 S   0.3   0.1   0:03.00 python3  \u001b[m\u001b[m\u001b[K\n",
            "\u001b[m      1 root      20   0    1040      8      0 S   0.0   0.0   0:00.10 docker-+ \u001b[m\u001b[m\u001b[K\n",
            "\u001b[m      7 root      20   0  889408  50956  31092 S   0.0   0.4   0:04.37 node     \u001b[m\u001b[m\u001b[K\n",
            "\u001b[m     20 root      20   0    5804   1028    936 S   0.0   0.0   0:00.13 tail     \u001b[m\u001b[m\u001b[K\n",
            "\u001b[m     31 root      20   0    7372   3504   3204 S   0.0   0.0   0:00.67 oom_mon+ \u001b[m\u001b[m\u001b[K\n",
            "\u001b[m     33 root      20   0    7372   1836   1552 S   0.0   0.0   0:00.00 run.sh   \u001b[m\u001b[m\u001b[K\n",
            "\u001b[m     35 root      20   0 1237572  14068   8160 S   0.0   0.1   0:00.60 kernel_+ \u001b[m\u001b[m\u001b[K\n",
            "\n",
            "\n",
            "\n",
            "\n",
            "\n",
            "\n",
            "\u001b[m   4932 root      20   0    5772   1024    936 S   0.0   0.0   0:00.00 sleep    \u001b[m\u001b[m\u001b[K\n",
            "\u001b[J\u001b[H\u001b[mtop - 07:42:31 up 20 min,  0 users,  load average: 0.18, 0.36, 0.27\u001b[m\u001b[m\u001b[m\u001b[m\u001b[K\n",
            "\n",
            "%Cpu(s):\u001b[m\u001b[m\u001b[1m 24.3 \u001b[m\u001b[mus,\u001b[m\u001b[m\u001b[1m  5.8 \u001b[m\u001b[msy,\u001b[m\u001b[m\u001b[1m  0.0 \u001b[m\u001b[mni,\u001b[m\u001b[m\u001b[1m 69.6 \u001b[m\u001b[mid,\u001b[m\u001b[m\u001b[1m  0.2 \u001b[m\u001b[mwa,\u001b[m\u001b[m\u001b[1m  0.0 \u001b[m\u001b[mhi,\u001b[m\u001b[m\u001b[1m  0.2 \u001b[m\u001b[msi,\u001b[m\u001b[m\u001b[1m  0.0 \u001b[m\u001b[mst\u001b[m\u001b[m\u001b[m\u001b[m\u001b[K\n",
            "MiB Mem :\u001b[m\u001b[m\u001b[1m  12982.6 \u001b[m\u001b[mtotal,\u001b[m\u001b[m\u001b[1m   9199.8 \u001b[m\u001b[mfree,\u001b[m\u001b[m\u001b[1m    692.3 \u001b[m\u001b[mused,\u001b[m\u001b[m\u001b[1m   3090.5 \u001b[m\u001b[mbuff/cache\u001b[m\u001b[m\u001b[m\u001b[m\u001b[K\n",
            "MiB Swap:\u001b[m\u001b[m\u001b[1m      0.0 \u001b[m\u001b[mtotal,\u001b[m\u001b[m\u001b[1m      0.0 \u001b[m\u001b[mfree,\u001b[m\u001b[m\u001b[1m      0.0 \u001b[m\u001b[mused.\u001b[m\u001b[m\u001b[1m  12002.1 \u001b[m\u001b[mavail Mem \u001b[m\u001b[m\u001b[m\u001b[m\u001b[K\n",
            "\u001b[K\n",
            "\n",
            "\u001b[m    390 root      20   0 1294296 201280  67704 S   0.7   1.5   0:11.92 python3  \u001b[m\u001b[m\u001b[K\n",
            "\u001b[m      7 root      20   0  889408  50956  31092 S   0.3   0.4   0:04.38 node     \u001b[m\u001b[m\u001b[K\n",
            "\u001b[m      1 root      20   0    1040      8      0 S   0.0   0.0   0:00.10 docker-+ \u001b[m\u001b[m\u001b[K\n",
            "\u001b[m     20 root      20   0    5804   1028    936 S   0.0   0.0   0:00.13 tail     \u001b[m\u001b[m\u001b[K\n",
            "\u001b[m     31 root      20   0    7372   3504   3204 S   0.0   0.0   0:00.67 oom_mon+ \u001b[m\u001b[m\u001b[K\n",
            "\u001b[m     33 root      20   0    7372   1836   1552 S   0.0   0.0   0:00.00 run.sh   \u001b[m\u001b[m\u001b[K\n",
            "\u001b[m     35 root      20   0 1237572  14068   8160 S   0.0   0.1   0:00.60 kernel_+ \u001b[m\u001b[m\u001b[K\n",
            "\u001b[m     62 root      20   0       0      0      0 Z   0.0   0.0   0:08.38 python3  \u001b[m\u001b[m\u001b[K\n",
            "\u001b[m     63 root      20   0   66444  50972  18260 S   0.0   0.4   0:00.94 colab-f+ \u001b[m\u001b[m\u001b[K\n",
            "\u001b[m     84 root      20   0  560612 165252  54008 S   0.0   1.2   0:06.85 jupyter+ \u001b[m\u001b[m\u001b[K\n",
            "\u001b[m     85 root      20   0 1229316   8852   2920 S   0.0   0.1   0:01.41 dap_mul+ \u001b[m\u001b[m\u001b[K\n",
            "\u001b[m    437 root      20   0  539312  14356   5084 S   0.0   0.1   0:03.00 python3  \u001b[m\u001b[m\u001b[K\n",
            "\n",
            "\n",
            "\n",
            "\u001b[m   4944 root      20   0    5772    996    904 S   0.0   0.0   0:00.00 sleep    \u001b[m\u001b[m\u001b[K\n",
            "\u001b[J\u001b[H\u001b[mtop - 07:42:34 up 20 min,  0 users,  load average: 0.18, 0.36, 0.27\u001b[m\u001b[m\u001b[m\u001b[m\u001b[K\n",
            "\n",
            "%Cpu(s):\u001b[m\u001b[m\u001b[1m  1.0 \u001b[m\u001b[mus,\u001b[m\u001b[m\u001b[1m  1.0 \u001b[m\u001b[msy,\u001b[m\u001b[m\u001b[1m  0.0 \u001b[m\u001b[mni,\u001b[m\u001b[m\u001b[1m 98.0 \u001b[m\u001b[mid,\u001b[m\u001b[m\u001b[1m  0.0 \u001b[m\u001b[mwa,\u001b[m\u001b[m\u001b[1m  0.0 \u001b[m\u001b[mhi,\u001b[m\u001b[m\u001b[1m  0.0 \u001b[m\u001b[msi,\u001b[m\u001b[m\u001b[1m  0.0 \u001b[m\u001b[mst\u001b[m\u001b[m\u001b[m\u001b[m\u001b[K\n",
            "MiB Mem :\u001b[m\u001b[m\u001b[1m  12982.6 \u001b[m\u001b[mtotal,\u001b[m\u001b[m\u001b[1m   9200.4 \u001b[m\u001b[mfree,\u001b[m\u001b[m\u001b[1m    691.6 \u001b[m\u001b[mused,\u001b[m\u001b[m\u001b[1m   3090.5 \u001b[m\u001b[mbuff/cache\u001b[m\u001b[m\u001b[m\u001b[m\u001b[K\n",
            "MiB Swap:\u001b[m\u001b[m\u001b[1m      0.0 \u001b[m\u001b[mtotal,\u001b[m\u001b[m\u001b[1m      0.0 \u001b[m\u001b[mfree,\u001b[m\u001b[m\u001b[1m      0.0 \u001b[m\u001b[mused.\u001b[m\u001b[m\u001b[1m  12002.8 \u001b[m\u001b[mavail Mem \u001b[m\u001b[m\u001b[m\u001b[m\u001b[K\n",
            "\u001b[K\n",
            "\n",
            "\u001b[m    390 root      20   0 1294296 201280  67704 S   1.0   1.5   0:11.95 python3  \u001b[m\u001b[m\u001b[K\n",
            "\u001b[m     84 root      20   0  560612 165252  54008 S   0.3   1.2   0:06.86 jupyter+ \u001b[m\u001b[m\u001b[K\n",
            "\u001b[m     85 root      20   0 1229316   8852   2920 S   0.3   0.1   0:01.42 dap_mul+ \u001b[m\u001b[m\u001b[K\n",
            "\u001b[m    437 root      20   0  539312  14356   5084 S   0.3   0.1   0:03.01 python3  \u001b[m\u001b[m\u001b[K\n",
            "\u001b[m      1 root      20   0    1040      8      0 S   0.0   0.0   0:00.10 docker-+ \u001b[m\u001b[m\u001b[K\n",
            "\u001b[m      7 root      20   0  889408  50956  31092 S   0.0   0.4   0:04.38 node     \u001b[m\u001b[m\u001b[K\n",
            "\u001b[m     20 root      20   0    5804   1028    936 S   0.0   0.0   0:00.13 tail     \u001b[m\u001b[m\u001b[K\n",
            "\u001b[m     31 root      20   0    7372   3504   3204 S   0.0   0.0   0:00.67 oom_mon+ \u001b[m\u001b[m\u001b[K\n",
            "\u001b[m     33 root      20   0    7372   1836   1552 S   0.0   0.0   0:00.00 run.sh   \u001b[m\u001b[m\u001b[K\n",
            "\u001b[m     35 root      20   0 1237572  14068   8160 S   0.0   0.1   0:00.60 kernel_+ \u001b[m\u001b[m\u001b[K\n",
            "\u001b[m     62 root      20   0       0      0      0 Z   0.0   0.0   0:08.38 python3  \u001b[m\u001b[m\u001b[K\n",
            "\u001b[m     63 root      20   0   66444  50972  18260 S   0.0   0.4   0:00.94 colab-f+ \u001b[m\u001b[m\u001b[K\n",
            "\n",
            "\n",
            "\n",
            "\u001b[m   4956 root      20   0    5772   1044    952 S   0.0   0.0   0:00.00 sleep    \u001b[m\u001b[m\u001b[K\n",
            "\u001b[J\u001b[H\u001b[mtop - 07:42:37 up 20 min,  0 users,  load average: 0.16, 0.35, 0.27\u001b[m\u001b[m\u001b[m\u001b[m\u001b[K\n",
            "\n",
            "%Cpu(s):\u001b[m\u001b[m\u001b[1m  2.7 \u001b[m\u001b[mus,\u001b[m\u001b[m\u001b[1m  1.3 \u001b[m\u001b[msy,\u001b[m\u001b[m\u001b[1m  0.0 \u001b[m\u001b[mni,\u001b[m\u001b[m\u001b[1m 96.0 \u001b[m\u001b[mid,\u001b[m\u001b[m\u001b[1m  0.0 \u001b[m\u001b[mwa,\u001b[m\u001b[m\u001b[1m  0.0 \u001b[m\u001b[mhi,\u001b[m\u001b[m\u001b[1m  0.0 \u001b[m\u001b[msi,\u001b[m\u001b[m\u001b[1m  0.0 \u001b[m\u001b[mst\u001b[m\u001b[m\u001b[m\u001b[m\u001b[K\n",
            "MiB Mem :\u001b[m\u001b[m\u001b[1m  12982.6 \u001b[m\u001b[mtotal,\u001b[m\u001b[m\u001b[1m   9200.3 \u001b[m\u001b[mfree,\u001b[m\u001b[m\u001b[1m    691.7 \u001b[m\u001b[mused,\u001b[m\u001b[m\u001b[1m   3090.6 \u001b[m\u001b[mbuff/cache\u001b[m\u001b[m\u001b[m\u001b[m\u001b[K\n",
            "MiB Swap:\u001b[m\u001b[m\u001b[1m      0.0 \u001b[m\u001b[mtotal,\u001b[m\u001b[m\u001b[1m      0.0 \u001b[m\u001b[mfree,\u001b[m\u001b[m\u001b[1m      0.0 \u001b[m\u001b[mused.\u001b[m\u001b[m\u001b[1m  12002.7 \u001b[m\u001b[mavail Mem \u001b[m\u001b[m\u001b[m\u001b[m\u001b[K\n",
            "\u001b[K\n",
            "\n",
            "\u001b[m    476 root      20   0  923664 143072  30428 S   1.3   1.1   0:14.51 node     \u001b[m\u001b[m\u001b[K\n",
            "\u001b[m    390 root      20   0 1294296 201280  67704 S   1.0   1.5   0:11.98 python3  \u001b[m\u001b[m\u001b[K\n",
            "\u001b[m      7 root      20   0  889408  50600  31092 S   0.7   0.4   0:04.40 node     \u001b[m\u001b[m\u001b[K\n",
            "\u001b[m     85 root      20   0 1229316   8852   2920 S   0.3   0.1   0:01.43 dap_mul+ \u001b[m\u001b[m\u001b[K\n",
            "\u001b[m    437 root      20   0  539312  14356   5084 S   0.3   0.1   0:03.02 python3  \u001b[m\u001b[m\u001b[K\n",
            "\u001b[m      1 root      20   0    1040      8      0 S   0.0   0.0   0:00.10 docker-+ \u001b[m\u001b[m\u001b[K\n",
            "\n",
            "\n",
            "\n",
            "\n",
            "\n",
            "\n",
            "\u001b[m     84 root      20   0  560612 165252  54008 S   0.0   1.2   0:06.86 jupyter+ \u001b[m\u001b[m\u001b[K\n",
            "\u001b[m    466 root      20   0 1237440  16644   7508 S   0.0   0.1   0:00.81 languag+ \u001b[m\u001b[m\u001b[K\n",
            "\n",
            "\u001b[m   4968 root      20   0    5772    984    892 S   0.0   0.0   0:00.00 sleep    \u001b[m\u001b[m\u001b[K\n",
            "\u001b[J\u001b[H\u001b[mtop - 07:42:40 up 20 min,  0 users,  load average: 0.16, 0.35, 0.27\u001b[m\u001b[m\u001b[m\u001b[m\u001b[K\n",
            "\n",
            "%Cpu(s):\u001b[m\u001b[m\u001b[1m  3.8 \u001b[m\u001b[mus,\u001b[m\u001b[m\u001b[1m  2.0 \u001b[m\u001b[msy,\u001b[m\u001b[m\u001b[1m  0.0 \u001b[m\u001b[mni,\u001b[m\u001b[m\u001b[1m 93.8 \u001b[m\u001b[mid,\u001b[m\u001b[m\u001b[1m  0.0 \u001b[m\u001b[mwa,\u001b[m\u001b[m\u001b[1m  0.0 \u001b[m\u001b[mhi,\u001b[m\u001b[m\u001b[1m  0.2 \u001b[m\u001b[msi,\u001b[m\u001b[m\u001b[1m  0.2 \u001b[m\u001b[mst\u001b[m\u001b[m\u001b[m\u001b[m\u001b[K\n",
            "MiB Mem :\u001b[m\u001b[m\u001b[1m  12982.6 \u001b[m\u001b[mtotal,\u001b[m\u001b[m\u001b[1m   9198.6 \u001b[m\u001b[mfree,\u001b[m\u001b[m\u001b[1m    693.4 \u001b[m\u001b[mused,\u001b[m\u001b[m\u001b[1m   3090.6 \u001b[m\u001b[mbuff/cache\u001b[m\u001b[m\u001b[m\u001b[m\u001b[K\n",
            "MiB Swap:\u001b[m\u001b[m\u001b[1m      0.0 \u001b[m\u001b[mtotal,\u001b[m\u001b[m\u001b[1m      0.0 \u001b[m\u001b[mfree,\u001b[m\u001b[m\u001b[1m      0.0 \u001b[m\u001b[mused.\u001b[m\u001b[m\u001b[1m  12001.0 \u001b[m\u001b[mavail Mem \u001b[m\u001b[m\u001b[m\u001b[m\u001b[K\n",
            "\u001b[K\n",
            "\n",
            "\u001b[m    390 root      20   0 1294296 201280  67704 S   0.7   1.5   0:12.00 python3  \u001b[m\u001b[m\u001b[K\n",
            "\u001b[m      7 root      20   0  889408  50864  31092 S   0.3   0.4   0:04.41 node     \u001b[m\u001b[m\u001b[K\n",
            "\u001b[m     35 root      20   0 1237572  14068   8160 S   0.3   0.1   0:00.61 kernel_+ \u001b[m\u001b[m\u001b[K\n",
            "\u001b[m     85 root      20   0 1229316   8852   2920 S   0.3   0.1   0:01.44 dap_mul+ \u001b[m\u001b[m\u001b[K\n",
            "\u001b[m    437 root      20   0  539312  14356   5084 S   0.3   0.1   0:03.03 python3  \u001b[m\u001b[m\u001b[K\n",
            "\n",
            "\n",
            "\n",
            "\n",
            "\u001b[m     62 root      20   0       0      0      0 Z   0.0   0.0   0:08.38 python3  \u001b[m\u001b[m\u001b[K\n",
            "\u001b[m     63 root      20   0   66444  50972  18260 S   0.0   0.4   0:00.94 colab-f+ \u001b[m\u001b[m\u001b[K\n",
            "\u001b[m     84 root      20   0  560612 165252  54008 S   0.0   1.2   0:06.86 jupyter+ \u001b[m\u001b[m\u001b[K\n",
            "\u001b[m    466 root      20   0 1237440  16644   7508 S   0.0   0.1   0:00.81 languag+ \u001b[m\u001b[m\u001b[K\n",
            "\u001b[m    476 root      20   0  923664 143072  30428 S   0.0   1.1   0:14.51 node     \u001b[m\u001b[m\u001b[K\n",
            "\n",
            "\u001b[m   4980 root      20   0    5772   1000    908 S   0.0   0.0   0:00.00 sleep    \u001b[m\u001b[m\u001b[K\n",
            "\u001b[J\u001b[H\u001b[mtop - 07:42:43 up 20 min,  0 users,  load average: 0.23, 0.36, 0.28\u001b[m\u001b[m\u001b[m\u001b[m\u001b[K\n",
            "\n",
            "%Cpu(s):\u001b[m\u001b[m\u001b[1m 22.2 \u001b[m\u001b[mus,\u001b[m\u001b[m\u001b[1m  4.3 \u001b[m\u001b[msy,\u001b[m\u001b[m\u001b[1m  0.0 \u001b[m\u001b[mni,\u001b[m\u001b[m\u001b[1m 73.4 \u001b[m\u001b[mid,\u001b[m\u001b[m\u001b[1m  0.0 \u001b[m\u001b[mwa,\u001b[m\u001b[m\u001b[1m  0.0 \u001b[m\u001b[mhi,\u001b[m\u001b[m\u001b[1m  0.0 \u001b[m\u001b[msi,\u001b[m\u001b[m\u001b[1m  0.0 \u001b[m\u001b[mst\u001b[m\u001b[m\u001b[m\u001b[m\u001b[K\n",
            "MiB Mem :\u001b[m\u001b[m\u001b[1m  12982.6 \u001b[m\u001b[mtotal,\u001b[m\u001b[m\u001b[1m   9198.4 \u001b[m\u001b[mfree,\u001b[m\u001b[m\u001b[1m    693.7 \u001b[m\u001b[mused,\u001b[m\u001b[m\u001b[1m   3090.6 \u001b[m\u001b[mbuff/cache\u001b[m\u001b[m\u001b[m\u001b[m\u001b[K\n",
            "MiB Swap:\u001b[m\u001b[m\u001b[1m      0.0 \u001b[m\u001b[mtotal,\u001b[m\u001b[m\u001b[1m      0.0 \u001b[m\u001b[mfree,\u001b[m\u001b[m\u001b[1m      0.0 \u001b[m\u001b[mused.\u001b[m\u001b[m\u001b[1m  12000.7 \u001b[m\u001b[mavail Mem \u001b[m\u001b[m\u001b[m\u001b[m\u001b[K\n",
            "\u001b[K\n",
            "\n",
            "\u001b[m    390 root      20   0 1294296 201280  67704 S   1.0   1.5   0:12.03 python3  \u001b[m\u001b[m\u001b[K\n",
            "\u001b[m     84 root      20   0  560612 165252  54008 S   0.3   1.2   0:06.87 jupyter+ \u001b[m\u001b[m\u001b[K\n",
            "\u001b[m    437 root      20   0  539312  14356   5084 S   0.3   0.1   0:03.04 python3  \u001b[m\u001b[m\u001b[K\n",
            "\u001b[m      1 root      20   0    1040      8      0 S   0.0   0.0   0:00.10 docker-+ \u001b[m\u001b[m\u001b[K\n",
            "\u001b[m      7 root      20   0  889408  50864  31092 S   0.0   0.4   0:04.41 node     \u001b[m\u001b[m\u001b[K\n",
            "\u001b[m     20 root      20   0    5804   1028    936 S   0.0   0.0   0:00.13 tail     \u001b[m\u001b[m\u001b[K\n",
            "\u001b[m     31 root      20   0    7372   3504   3204 S   0.0   0.0   0:00.67 oom_mon+ \u001b[m\u001b[m\u001b[K\n",
            "\u001b[m     33 root      20   0    7372   1836   1552 S   0.0   0.0   0:00.00 run.sh   \u001b[m\u001b[m\u001b[K\n",
            "\u001b[m     35 root      20   0 1237572  14068   8160 S   0.0   0.1   0:00.61 kernel_+ \u001b[m\u001b[m\u001b[K\n",
            "\n",
            "\n",
            "\u001b[m     85 root      20   0 1229316   8852   2920 S   0.0   0.1   0:01.44 dap_mul+ \u001b[m\u001b[m\u001b[K\n",
            "\n",
            "\n",
            "\n",
            "\u001b[m   4992 root      20   0    5772    992    904 S   0.0   0.0   0:00.00 sleep    \u001b[m\u001b[m\u001b[K\n",
            "\u001b[J\u001b[H\u001b[mtop - 07:42:46 up 20 min,  0 users,  load average: 0.21, 0.35, 0.27\u001b[m\u001b[m\u001b[m\u001b[m\u001b[K\n",
            "\n",
            "%Cpu(s):\u001b[m\u001b[m\u001b[1m  1.2 \u001b[m\u001b[mus,\u001b[m\u001b[m\u001b[1m  1.0 \u001b[m\u001b[msy,\u001b[m\u001b[m\u001b[1m  0.0 \u001b[m\u001b[mni,\u001b[m\u001b[m\u001b[1m 97.7 \u001b[m\u001b[mid,\u001b[m\u001b[m\u001b[1m  0.0 \u001b[m\u001b[mwa,\u001b[m\u001b[m\u001b[1m  0.0 \u001b[m\u001b[mhi,\u001b[m\u001b[m\u001b[1m  0.2 \u001b[m\u001b[msi,\u001b[m\u001b[m\u001b[1m  0.0 \u001b[m\u001b[mst\u001b[m\u001b[m\u001b[m\u001b[m\u001b[K\n",
            "\n",
            "\n",
            "\u001b[K\n",
            "\n",
            "\u001b[m    390 root      20   0 1294296 201280  67704 S   1.0   1.5   0:12.06 python3  \u001b[m\u001b[m\u001b[K\n",
            "\u001b[m     31 root      20   0    7372   3504   3204 S   0.3   0.0   0:00.68 oom_mon+ \u001b[m\u001b[m\u001b[K\n",
            "\u001b[m      1 root      20   0    1040      8      0 S   0.0   0.0   0:00.10 docker-+ \u001b[m\u001b[m\u001b[K\n",
            "\u001b[m      7 root      20   0  889408  50864  31092 S   0.0   0.4   0:04.41 node     \u001b[m\u001b[m\u001b[K\n",
            "\u001b[m     20 root      20   0    5804   1028    936 S   0.0   0.0   0:00.13 tail     \u001b[m\u001b[m\u001b[K\n",
            "\u001b[m     33 root      20   0    7372   1836   1552 S   0.0   0.0   0:00.00 run.sh   \u001b[m\u001b[m\u001b[K\n",
            "\u001b[m     35 root      20   0 1237572  14068   8160 S   0.0   0.1   0:00.61 kernel_+ \u001b[m\u001b[m\u001b[K\n",
            "\u001b[m     62 root      20   0       0      0      0 Z   0.0   0.0   0:08.38 python3  \u001b[m\u001b[m\u001b[K\n",
            "\u001b[m     63 root      20   0   66444  50972  18260 S   0.0   0.4   0:00.94 colab-f+ \u001b[m\u001b[m\u001b[K\n",
            "\u001b[m     84 root      20   0  560612 165252  54008 S   0.0   1.2   0:06.87 jupyter+ \u001b[m\u001b[m\u001b[K\n",
            "\u001b[m     85 root      20   0 1229316   8852   2920 S   0.0   0.1   0:01.44 dap_mul+ \u001b[m\u001b[m\u001b[K\n",
            "\u001b[m    437 root      20   0  539312  14356   5084 S   0.0   0.1   0:03.04 python3  \u001b[m\u001b[m\u001b[K\n",
            "\n",
            "\n",
            "\n",
            "\u001b[m   5004 root      20   0    5772   1040    952 S   0.0   0.0   0:00.00 sleep    \u001b[m\u001b[m\u001b[K\n",
            "\u001b[J\u001b[H\u001b[mtop - 07:42:49 up 20 min,  0 users,  load average: 0.21, 0.35, 0.27\u001b[m\u001b[m\u001b[m\u001b[m\u001b[K\n",
            "\n",
            "%Cpu(s):\u001b[m\u001b[m\u001b[1m  1.5 \u001b[m\u001b[mus,\u001b[m\u001b[m\u001b[1m  0.8 \u001b[m\u001b[msy,\u001b[m\u001b[m\u001b[1m  0.0 \u001b[m\u001b[mni,\u001b[m\u001b[m\u001b[1m 97.7 \u001b[m\u001b[mid,\u001b[m\u001b[m\u001b[1m  0.0 \u001b[m\u001b[mwa,\u001b[m\u001b[m\u001b[1m  0.0 \u001b[m\u001b[mhi,\u001b[m\u001b[m\u001b[1m  0.0 \u001b[m\u001b[msi,\u001b[m\u001b[m\u001b[1m  0.0 \u001b[m\u001b[mst\u001b[m\u001b[m\u001b[m\u001b[m\u001b[K\n",
            "\n",
            "\n",
            "\u001b[K\n",
            "\n",
            "\u001b[m    390 root      20   0 1294296 201280  67704 S   0.7   1.5   0:12.08 python3  \u001b[m\u001b[m\u001b[K\n",
            "\u001b[m    437 root      20   0  539312  14356   5084 S   0.7   0.1   0:03.06 python3  \u001b[m\u001b[m\u001b[K\n",
            "\u001b[m      7 root      20   0  889408  51128  31092 S   0.3   0.4   0:04.42 node     \u001b[m\u001b[m\u001b[K\n",
            "\u001b[m     35 root      20   0 1237572  14068   8160 S   0.3   0.1   0:00.62 kernel_+ \u001b[m\u001b[m\u001b[K\n",
            "\u001b[m      1 root      20   0    1040      8      0 S   0.0   0.0   0:00.10 docker-+ \u001b[m\u001b[m\u001b[K\n",
            "\u001b[m     20 root      20   0    5804   1028    936 S   0.0   0.0   0:00.13 tail     \u001b[m\u001b[m\u001b[K\n",
            "\u001b[m     31 root      20   0    7372   3504   3204 S   0.0   0.0   0:00.68 oom_mon+ \u001b[m\u001b[m\u001b[K\n",
            "\u001b[m     33 root      20   0    7372   1836   1552 S   0.0   0.0   0:00.00 run.sh   \u001b[m\u001b[m\u001b[K\n",
            "\u001b[m     62 root      20   0       0      0      0 Z   0.0   0.0   0:08.38 python3  \u001b[m\u001b[m\u001b[K\n",
            "\u001b[m     63 root      20   0   66444  50972  18260 S   0.0   0.4   0:00.94 colab-f+ \u001b[m\u001b[m\u001b[K\n",
            "\u001b[m     84 root      20   0  560612 165252  54008 S   0.0   1.2   0:06.87 jupyter+ \u001b[m\u001b[m\u001b[K\n",
            "\u001b[m     85 root      20   0 1229316   8852   2920 S   0.0   0.1   0:01.44 dap_mul+ \u001b[m\u001b[m\u001b[K\n",
            "\n",
            "\n",
            "\n",
            "\u001b[m   5016 root      20   0    5772   1048    956 S   0.0   0.0   0:00.00 sleep    \u001b[m\u001b[m\u001b[K\n",
            "\u001b[J\u001b[H\u001b[mtop - 07:42:52 up 20 min,  0 users,  load average: 0.20, 0.35, 0.27\u001b[m\u001b[m\u001b[m\u001b[m\u001b[K\n",
            "\n",
            "%Cpu(s):\u001b[m\u001b[m\u001b[1m 10.2 \u001b[m\u001b[mus,\u001b[m\u001b[m\u001b[1m  2.7 \u001b[m\u001b[msy,\u001b[m\u001b[m\u001b[1m  0.0 \u001b[m\u001b[mni,\u001b[m\u001b[m\u001b[1m 87.1 \u001b[m\u001b[mid,\u001b[m\u001b[m\u001b[1m  0.0 \u001b[m\u001b[mwa,\u001b[m\u001b[m\u001b[1m  0.0 \u001b[m\u001b[mhi,\u001b[m\u001b[m\u001b[1m  0.0 \u001b[m\u001b[msi,\u001b[m\u001b[m\u001b[1m  0.0 \u001b[m\u001b[mst\u001b[m\u001b[m\u001b[m\u001b[m\u001b[K\n",
            "\n",
            "\n",
            "\u001b[K\n",
            "\n",
            "\u001b[m    390 root      20   0 1294296 201280  67704 S   1.0   1.5   0:12.11 python3  \u001b[m\u001b[m\u001b[K\n",
            "\u001b[m     84 root      20   0  560612 165252  54008 S   0.3   1.2   0:06.88 jupyter+ \u001b[m\u001b[m\u001b[K\n",
            "\u001b[m     85 root      20   0 1229316   8852   2920 S   0.3   0.1   0:01.45 dap_mul+ \u001b[m\u001b[m\u001b[K\n",
            "\u001b[m    437 root      20   0  539312  14356   5084 S   0.3   0.1   0:03.07 python3  \u001b[m\u001b[m\u001b[K\n",
            "\u001b[m    476 root      20   0  923664 143072  30428 S   0.3   1.1   0:14.52 node     \u001b[m\u001b[m\u001b[K\n",
            "\u001b[m      1 root      20   0    1040      8      0 S   0.0   0.0   0:00.10 docker-+ \u001b[m\u001b[m\u001b[K\n",
            "\u001b[m      7 root      20   0  889408  51128  31092 S   0.0   0.4   0:04.42 node     \u001b[m\u001b[m\u001b[K\n",
            "\u001b[m     20 root      20   0    5804   1028    936 S   0.0   0.0   0:00.13 tail     \u001b[m\u001b[m\u001b[K\n",
            "\u001b[m     31 root      20   0    7372   3504   3204 S   0.0   0.0   0:00.68 oom_mon+ \u001b[m\u001b[m\u001b[K\n",
            "\u001b[m     33 root      20   0    7372   1836   1552 S   0.0   0.0   0:00.00 run.sh   \u001b[m\u001b[m\u001b[K\n",
            "\u001b[m     35 root      20   0 1237572  14068   8160 S   0.0   0.1   0:00.62 kernel_+ \u001b[m\u001b[m\u001b[K\n",
            "\u001b[m     62 root      20   0       0      0      0 Z   0.0   0.0   0:08.38 python3  \u001b[m\u001b[m\u001b[K\n",
            "\u001b[m     63 root      20   0   66444  50972  18260 S   0.0   0.4   0:00.94 colab-f+ \u001b[m\u001b[m\u001b[K\n",
            "\u001b[m    466 root      20   0 1237440  16644   7508 S   0.0   0.1   0:00.81 languag+ \u001b[m\u001b[m\u001b[K\n",
            "\n",
            "\u001b[m   5028 root      20   0    5772   1012    920 S   0.0   0.0   0:00.00 sleep    \u001b[m\u001b[m\u001b[K\n",
            "\u001b[J"
          ]
        }
      ]
    },
    {
      "cell_type": "code",
      "source": [
        "!q"
      ],
      "metadata": {
        "id": "7Xfj1x3fPfWa"
      },
      "execution_count": null,
      "outputs": []
    },
    {
      "cell_type": "code",
      "source": [],
      "metadata": {
        "id": "VfePNC99PjuZ"
      },
      "execution_count": null,
      "outputs": []
    }
  ]
}