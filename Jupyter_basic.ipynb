{
  "cells": [
    {
      "cell_type": "markdown",
      "metadata": {
        "id": "view-in-github",
        "colab_type": "text"
      },
      "source": [
        "<a href=\"https://colab.research.google.com/github/Welle-Kim/Python/blob/master/Jupyter_basic.ipynb\" target=\"_parent\"><img src=\"https://colab.research.google.com/assets/colab-badge.svg\" alt=\"Open In Colab\"/></a>"
      ]
    },
    {
      "cell_type": "markdown",
      "id": "a703632e",
      "metadata": {
        "id": "a703632e"
      },
      "source": [
        "# 주피터 노트북 사용법\n",
        "\n",
        "- Shift + Enter 키를 누르면 셀이 실행되서 커서가 다음 셀로 이동\n",
        "- Enter 키를 누르면 다시 편집상태로 돌아옵니다\n",
        "- ESC 키를 누르고\n",
        "```\n",
        " * a키를 누르면 위의 셀이 추가\n",
        " * b키를 누르면 아래에 셀이 추가\n",
        " * dd키를 누르면 셀이 삭제\n",
        " * m키를 누르면 문서 셀로 변경\n",
        " * y키를 누르면 코드셀로 변경\n",
        "```\n",
        "\n",
        "## 마크다운이란?\n",
        "* 코드와 함께 문서화를 하실 수 있습니다.\n",
        "* 문서화를 할 수 있는 `문법`입니다.\n",
        "\n",
        "```\n",
        "여러줄의  설명을 줄바꿈으로 쓰고자\n",
        "할 때\n",
        "```"
      ]
    },
    {
      "cell_type": "code",
      "execution_count": null,
      "id": "416add2a",
      "metadata": {
        "id": "416add2a",
        "outputId": "3ac350b7-efb6-43b9-dbee-79d1f87b741f"
      },
      "outputs": [
        {
          "data": {
            "text/plain": [
              "3"
            ]
          },
          "execution_count": 3,
          "metadata": {},
          "output_type": "execute_result"
        }
      ],
      "source": [
        "a=1\n",
        "b=2\n",
        "a+b"
      ]
    },
    {
      "cell_type": "code",
      "execution_count": null,
      "id": "1eb0564f",
      "metadata": {
        "id": "1eb0564f",
        "outputId": "126ed04c-8c76-47a0-a891-6e815614f874"
      },
      "outputs": [
        {
          "name": "stdout",
          "output_type": "stream",
          "text": [
            "hello world!\n"
          ]
        }
      ],
      "source": [
        "print(\"hello world!\")"
      ]
    },
    {
      "cell_type": "code",
      "execution_count": null,
      "id": "3396100b",
      "metadata": {
        "id": "3396100b",
        "outputId": "1e33c9ee-27e7-45f0-ff22-432a5259c68d"
      },
      "outputs": [
        {
          "data": {
            "text/plain": [
              "True"
            ]
          },
          "execution_count": 7,
          "metadata": {},
          "output_type": "execute_result"
        }
      ],
      "source": [
        "True == 1"
      ]
    },
    {
      "cell_type": "code",
      "execution_count": null,
      "id": "884bc39b",
      "metadata": {
        "id": "884bc39b",
        "outputId": "b4696744-73f4-4891-923d-d307ed51ff7c"
      },
      "outputs": [
        {
          "data": {
            "text/plain": [
              "False"
            ]
          },
          "execution_count": 8,
          "metadata": {},
          "output_type": "execute_result"
        }
      ],
      "source": [
        "True == \"1\""
      ]
    },
    {
      "cell_type": "code",
      "execution_count": null,
      "id": "b9032095",
      "metadata": {
        "id": "b9032095",
        "outputId": "dd333c55-d84b-4271-dab1-bb792829e67a"
      },
      "outputs": [
        {
          "data": {
            "text/plain": [
              "True"
            ]
          },
          "execution_count": 9,
          "metadata": {},
          "output_type": "execute_result"
        }
      ],
      "source": [
        "True != \"1\""
      ]
    },
    {
      "cell_type": "code",
      "execution_count": null,
      "id": "aad00ebf",
      "metadata": {
        "id": "aad00ebf",
        "outputId": "7fb5a00e-2989-43b0-a5fe-17ed5b216482"
      },
      "outputs": [
        {
          "data": {
            "text/plain": [
              "True"
            ]
          },
          "execution_count": 6,
          "metadata": {},
          "output_type": "execute_result"
        }
      ],
      "source": [
        "False == 0"
      ]
    },
    {
      "cell_type": "code",
      "execution_count": null,
      "id": "8e571c05",
      "metadata": {
        "id": "8e571c05",
        "outputId": "7ddd74ae-2531-4b77-89f3-1fa5b92fef78"
      },
      "outputs": [
        {
          "data": {
            "text/plain": [
              "False"
            ]
          },
          "execution_count": 10,
          "metadata": {},
          "output_type": "execute_result"
        }
      ],
      "source": [
        "False == '0'"
      ]
    },
    {
      "cell_type": "code",
      "execution_count": null,
      "id": "a504918e",
      "metadata": {
        "id": "a504918e",
        "outputId": "1d9b3a72-1559-4096-ac3c-2007e7e9eb6c"
      },
      "outputs": [
        {
          "data": {
            "text/plain": [
              "True"
            ]
          },
          "execution_count": 11,
          "metadata": {},
          "output_type": "execute_result"
        }
      ],
      "source": [
        "False != '0'"
      ]
    },
    {
      "cell_type": "code",
      "execution_count": null,
      "id": "c386de62",
      "metadata": {
        "id": "c386de62",
        "outputId": "02bbca8c-6f8e-48d7-ac3d-cd2436be558d"
      },
      "outputs": [
        {
          "data": {
            "text/plain": [
              "True"
            ]
          },
          "execution_count": 12,
          "metadata": {},
          "output_type": "execute_result"
        }
      ],
      "source": [
        "True and True"
      ]
    },
    {
      "cell_type": "code",
      "execution_count": null,
      "id": "dddf536d",
      "metadata": {
        "id": "dddf536d",
        "outputId": "4903e73a-adac-4176-bd05-9cab47c43143"
      },
      "outputs": [
        {
          "data": {
            "text/plain": [
              "False"
            ]
          },
          "execution_count": 13,
          "metadata": {},
          "output_type": "execute_result"
        }
      ],
      "source": [
        "True and False"
      ]
    },
    {
      "cell_type": "code",
      "execution_count": null,
      "id": "28442aab",
      "metadata": {
        "id": "28442aab",
        "outputId": "4f75998a-7f37-45f9-f0cf-dd6b48ee7694"
      },
      "outputs": [
        {
          "data": {
            "text/plain": [
              "True"
            ]
          },
          "execution_count": 14,
          "metadata": {},
          "output_type": "execute_result"
        }
      ],
      "source": [
        "True or False"
      ]
    },
    {
      "cell_type": "code",
      "execution_count": null,
      "id": "5b9c5a01",
      "metadata": {
        "id": "5b9c5a01",
        "outputId": "72382a9a-9d84-4c24-c66b-47355c265ffe"
      },
      "outputs": [
        {
          "data": {
            "text/plain": [
              "1"
            ]
          },
          "execution_count": 15,
          "metadata": {},
          "output_type": "execute_result"
        }
      ],
      "source": [
        "type(1)"
      ]
    },
    {
      "cell_type": "code",
      "execution_count": null,
      "id": "6eccd163",
      "metadata": {
        "id": "6eccd163",
        "outputId": "cb49874d-a40d-435f-804d-43ba5451009c"
      },
      "outputs": [
        {
          "data": {
            "text/plain": [
              "str"
            ]
          },
          "execution_count": 17,
          "metadata": {},
          "output_type": "execute_result"
        }
      ],
      "source": [
        "type(\"1\")"
      ]
    },
    {
      "cell_type": "code",
      "execution_count": null,
      "id": "2fc20018",
      "metadata": {
        "id": "2fc20018",
        "outputId": "2ca09be6-4b7b-4eed-98c4-4cd5a0ebc7ba"
      },
      "outputs": [
        {
          "data": {
            "text/plain": [
              "'Hello World'"
            ]
          },
          "execution_count": 18,
          "metadata": {},
          "output_type": "execute_result"
        }
      ],
      "source": [
        "\"Hello World\""
      ]
    },
    {
      "cell_type": "code",
      "execution_count": null,
      "id": "d4895526",
      "metadata": {
        "id": "d4895526",
        "outputId": "c2f9aed3-3599-40e4-a85e-e142cbeea2b3"
      },
      "outputs": [
        {
          "data": {
            "text/plain": [
              "'경기도 성남시 분당구?'"
            ]
          },
          "execution_count": 19,
          "metadata": {},
          "output_type": "execute_result"
        }
      ],
      "source": [
        "\"경기도 성남시 분당구?\""
      ]
    },
    {
      "cell_type": "code",
      "execution_count": null,
      "id": "cd96eb3a",
      "metadata": {
        "id": "cd96eb3a",
        "outputId": "9baecb0f-123b-49d7-a8bd-13810ffa42b5"
      },
      "outputs": [
        {
          "data": {
            "text/plain": [
              "'Today I learned'"
            ]
          },
          "execution_count": 21,
          "metadata": {},
          "output_type": "execute_result"
        }
      ],
      "source": [
        "til= \"Today I learned\"\n",
        "til"
      ]
    },
    {
      "cell_type": "code",
      "execution_count": null,
      "id": "a9a95389",
      "metadata": {
        "id": "a9a95389",
        "outputId": "77ea1e34-7e05-48ce-c3c8-07661ec062d7"
      },
      "outputs": [
        {
          "data": {
            "text/plain": [
              "'today i learned'"
            ]
          },
          "execution_count": 23,
          "metadata": {},
          "output_type": "execute_result"
        }
      ],
      "source": [
        "til.lower()"
      ]
    },
    {
      "cell_type": "code",
      "execution_count": null,
      "id": "cf769090",
      "metadata": {
        "id": "cf769090",
        "outputId": "85e0c00a-52b3-4ef0-a212-515606284375"
      },
      "outputs": [
        {
          "data": {
            "text/plain": [
              "'TODAY I LEARNED'"
            ]
          },
          "execution_count": 24,
          "metadata": {},
          "output_type": "execute_result"
        }
      ],
      "source": [
        "til.upper()"
      ]
    },
    {
      "cell_type": "code",
      "execution_count": null,
      "id": "2c2b747e",
      "metadata": {
        "id": "2c2b747e",
        "outputId": "3b85fc06-0308-4445-fe21-fa667ae18018"
      },
      "outputs": [
        {
          "data": {
            "text/plain": [
              "[]"
            ]
          },
          "execution_count": 25,
          "metadata": {},
          "output_type": "execute_result"
        }
      ],
      "source": [
        "lang=[]\n",
        "lang"
      ]
    },
    {
      "cell_type": "code",
      "execution_count": null,
      "id": "b5e0fdfc",
      "metadata": {
        "id": "b5e0fdfc"
      },
      "outputs": [],
      "source": [
        "lang.append(\"python\")\n",
        "lang.append(\"java\")\n",
        "lang.append(\"c\")"
      ]
    },
    {
      "cell_type": "code",
      "execution_count": null,
      "id": "912aaa87",
      "metadata": {
        "id": "912aaa87",
        "outputId": "1e750cc9-5fb1-4185-ae08-90145b9276e8"
      },
      "outputs": [
        {
          "data": {
            "text/plain": [
              "'python'"
            ]
          },
          "execution_count": 27,
          "metadata": {},
          "output_type": "execute_result"
        }
      ],
      "source": [
        "lang[0]"
      ]
    },
    {
      "cell_type": "code",
      "execution_count": null,
      "id": "36412e82",
      "metadata": {
        "id": "36412e82",
        "outputId": "4650c222-b435-4dca-993f-613ae1be3836"
      },
      "outputs": [
        {
          "data": {
            "text/plain": [
              "'java'"
            ]
          },
          "execution_count": 28,
          "metadata": {},
          "output_type": "execute_result"
        }
      ],
      "source": [
        "lang[1]"
      ]
    },
    {
      "cell_type": "code",
      "execution_count": null,
      "id": "289dca84",
      "metadata": {
        "id": "289dca84",
        "outputId": "a04bdad2-9b35-4f60-d820-2ce6bec4bb33"
      },
      "outputs": [
        {
          "data": {
            "text/plain": [
              "'c'"
            ]
          },
          "execution_count": 29,
          "metadata": {},
          "output_type": "execute_result"
        }
      ],
      "source": [
        "lang[2]"
      ]
    },
    {
      "cell_type": "code",
      "execution_count": null,
      "id": "f0d94185",
      "metadata": {
        "id": "f0d94185",
        "outputId": "ff9a7008-b95f-42db-b562-8f6f8ad65665"
      },
      "outputs": [
        {
          "data": {
            "text/plain": [
              "'c'"
            ]
          },
          "execution_count": 30,
          "metadata": {},
          "output_type": "execute_result"
        }
      ],
      "source": [
        "lang[-1]"
      ]
    },
    {
      "cell_type": "code",
      "execution_count": null,
      "id": "e6aab7d6",
      "metadata": {
        "id": "e6aab7d6",
        "outputId": "142b8c8f-7a14-44f8-8556-963fbb785734"
      },
      "outputs": [
        {
          "name": "stdout",
          "output_type": "stream",
          "text": [
            "python\n",
            "java\n",
            "c\n"
          ]
        }
      ],
      "source": [
        "for i in lang:\n",
        "    print(i)"
      ]
    },
    {
      "cell_type": "code",
      "execution_count": null,
      "id": "29891266",
      "metadata": {
        "id": "29891266",
        "outputId": "2cfbe764-0e0a-477f-fe3a-faa886c8a9fd"
      },
      "outputs": [
        {
          "name": "stdout",
          "output_type": "stream",
          "text": [
            "python\n",
            "기타\n",
            "기타\n"
          ]
        }
      ],
      "source": [
        "for i in lang:\n",
        "    if i == \"python\":\n",
        "        print(\"python\")\n",
        "    else:\n",
        "        print(\"기타\")\n",
        ""
      ]
    },
    {
      "cell_type": "code",
      "execution_count": null,
      "id": "543a27b2",
      "metadata": {
        "id": "543a27b2",
        "outputId": "3fe48d28-b408-4c72-a381-f1b7f9db1226"
      },
      "outputs": [
        {
          "name": "stdout",
          "output_type": "stream",
          "text": [
            "python\n",
            "java\n",
            "c\n"
          ]
        }
      ],
      "source": [
        "count = len(lang)\n",
        "for i in range(count):\n",
        "    print(lang[i])"
      ]
    },
    {
      "cell_type": "code",
      "execution_count": null,
      "id": "ee29412b",
      "metadata": {
        "id": "ee29412b",
        "outputId": "809bb90e-7f77-4981-99f9-c513ed22eba6"
      },
      "outputs": [
        {
          "name": "stdout",
          "output_type": "stream",
          "text": [
            "java\n",
            "python\n",
            "java\n",
            "python\n",
            "java\n",
            "python\n",
            "java\n",
            "python\n",
            "java\n"
          ]
        }
      ],
      "source": [
        "for i in range(1,10):\n",
        "    if i % 2 ==0:\n",
        "        print(\"python\")\n",
        "    else:\n",
        "        print(\"java\")"
      ]
    },
    {
      "cell_type": "code",
      "execution_count": null,
      "id": "5f7b71b2",
      "metadata": {
        "id": "5f7b71b2",
        "outputId": "99651ebd-4e94-469a-9ad6-46261e0d04f2"
      },
      "outputs": [
        {
          "name": "stdout",
          "output_type": "stream",
          "text": [
            "0 python\n",
            "1 java\n",
            "2 c\n"
          ]
        }
      ],
      "source": [
        "for i, val in enumerate(lang):\n",
        "    print(i,val)"
      ]
    },
    {
      "cell_type": "code",
      "execution_count": null,
      "id": "9efe2835",
      "metadata": {
        "id": "9efe2835",
        "outputId": "40b14dcf-8e53-4569-c86b-f0db6a023c18"
      },
      "outputs": [
        {
          "data": {
            "text/plain": [
              "'경기도 성남시 분당구 불정로 6 NAVER 그린팩토리 16층'"
            ]
          },
          "execution_count": 41,
          "metadata": {},
          "output_type": "execute_result"
        }
      ],
      "source": [
        "address = '경기도 성남시 분당구 불정로 6 NAVER 그린팩토리 16층'\n",
        "address"
      ]
    },
    {
      "cell_type": "code",
      "execution_count": null,
      "id": "1a8126ba",
      "metadata": {
        "id": "1a8126ba",
        "outputId": "d2d33367-793f-42e4-ebfe-49889106f224"
      },
      "outputs": [
        {
          "data": {
            "text/plain": [
              "'경기도 성남시 분당구 불정로 6 NAVER 그린팩토리 16층'"
            ]
          },
          "execution_count": 43,
          "metadata": {},
          "output_type": "execute_result"
        }
      ],
      "source": [
        "address = address.strip()\n",
        "address"
      ]
    },
    {
      "cell_type": "code",
      "execution_count": null,
      "id": "b08950d5",
      "metadata": {
        "id": "b08950d5",
        "outputId": "e0dda833-720a-45ea-9abd-123bd74727ad"
      },
      "outputs": [
        {
          "data": {
            "text/plain": [
              "<function len(obj, /)>"
            ]
          },
          "execution_count": 44,
          "metadata": {},
          "output_type": "execute_result"
        }
      ],
      "source": [
        "len"
      ]
    },
    {
      "cell_type": "code",
      "execution_count": null,
      "id": "e81bdfad",
      "metadata": {
        "id": "e81bdfad",
        "outputId": "52fc6912-7fab-41d7-e778-63cd3e10748c"
      },
      "outputs": [
        {
          "data": {
            "text/plain": [
              "33"
            ]
          },
          "execution_count": 45,
          "metadata": {},
          "output_type": "execute_result"
        }
      ],
      "source": []
    },
    {
      "cell_type": "code",
      "execution_count": null,
      "id": "8f785faf",
      "metadata": {
        "id": "8f785faf",
        "outputId": "6abcc7bd-80f5-443a-8ad6-32ed3f6913b1"
      },
      "outputs": [
        {
          "data": {
            "text/plain": [
              "['경기도', '성남시', '분당구', '불정로', '6', 'NAVER', '그린팩토리', '16층']"
            ]
          },
          "execution_count": 47,
          "metadata": {},
          "output_type": "execute_result"
        }
      ],
      "source": [
        "address_list= address.split()\n",
        "address_list"
      ]
    },
    {
      "cell_type": "code",
      "execution_count": null,
      "id": "f6bacd36",
      "metadata": {
        "id": "f6bacd36",
        "outputId": "84fd9e70-71ed-48a1-8067-dfe5ae050aab"
      },
      "outputs": [
        {
          "data": {
            "text/plain": [
              "8"
            ]
          },
          "execution_count": 48,
          "metadata": {},
          "output_type": "execute_result"
        }
      ],
      "source": [
        "len(address_list)"
      ]
    },
    {
      "cell_type": "code",
      "execution_count": null,
      "id": "2a42dd21",
      "metadata": {
        "id": "2a42dd21",
        "outputId": "46ed943e-7f6d-4ffd-fc0e-c43a407eddc8"
      },
      "outputs": [
        {
          "data": {
            "text/plain": [
              "'경기도 성남시 분당구 불정로 6 NAVER 그린팩토리 16층'"
            ]
          },
          "execution_count": 49,
          "metadata": {},
          "output_type": "execute_result"
        }
      ],
      "source": [
        "address"
      ]
    },
    {
      "cell_type": "code",
      "execution_count": null,
      "id": "796e2f20",
      "metadata": {
        "id": "796e2f20",
        "outputId": "11e9988f-ed51-44a1-d163-0b919032f0a5"
      },
      "outputs": [
        {
          "data": {
            "text/plain": [
              "'경기'"
            ]
          },
          "execution_count": 50,
          "metadata": {},
          "output_type": "execute_result"
        }
      ],
      "source": [
        "address[:2]"
      ]
    },
    {
      "cell_type": "code",
      "execution_count": null,
      "id": "68d866e5",
      "metadata": {
        "id": "68d866e5",
        "outputId": "1e4de03f-8e71-48c6-d2a0-a87aa6684566"
      },
      "outputs": [
        {
          "data": {
            "text/plain": [
              "True"
            ]
          },
          "execution_count": 51,
          "metadata": {},
          "output_type": "execute_result"
        }
      ],
      "source": [
        "address.startswith(\"경기\")"
      ]
    },
    {
      "cell_type": "code",
      "execution_count": null,
      "id": "cd890079",
      "metadata": {
        "id": "cd890079",
        "outputId": "1221703e-4938-42d9-8e1b-ed9e6823eaa9"
      },
      "outputs": [
        {
          "data": {
            "text/plain": [
              "True"
            ]
          },
          "execution_count": 52,
          "metadata": {},
          "output_type": "execute_result"
        }
      ],
      "source": [
        "\"경기\" in address"
      ]
    },
    {
      "cell_type": "code",
      "execution_count": null,
      "id": "200b282c",
      "metadata": {
        "id": "200b282c",
        "outputId": "c8f6d606-a834-47ff-90e5-0080e9df072f"
      },
      "outputs": [
        {
          "data": {
            "text/plain": [
              "'분당구'"
            ]
          },
          "execution_count": 58,
          "metadata": {},
          "output_type": "execute_result"
        }
      ],
      "source": [
        "gu = address_list[2]\n",
        "gu"
      ]
    },
    {
      "cell_type": "code",
      "execution_count": null,
      "id": "70bcdd24",
      "metadata": {
        "id": "70bcdd24",
        "outputId": "2416965b-d8fe-4d01-f92d-077f3dbd0507"
      },
      "outputs": [
        {
          "data": {
            "text/plain": [
              "'불정로'"
            ]
          },
          "execution_count": 59,
          "metadata": {},
          "output_type": "execute_result"
        }
      ],
      "source": [
        "street = address_list[3]\n",
        "street"
      ]
    },
    {
      "cell_type": "code",
      "execution_count": null,
      "id": "e7dee6b5",
      "metadata": {
        "id": "e7dee6b5",
        "outputId": "e2397c14-7532-47ec-97c8-5850eacf3f91"
      },
      "outputs": [
        {
          "data": {
            "text/plain": [
              "'16층'"
            ]
          },
          "execution_count": 60,
          "metadata": {},
          "output_type": "execute_result"
        }
      ],
      "source": [
        "address_list[-1]"
      ]
    },
    {
      "cell_type": "code",
      "execution_count": null,
      "id": "f4d9e27f",
      "metadata": {
        "id": "f4d9e27f",
        "outputId": "b349e1d8-03e3-4380-efef-570db4b8efdc"
      },
      "outputs": [
        {
          "data": {
            "text/plain": [
              "'경기도-성남시-분당구-불정로-6-NAVER-그린팩토리-16층'"
            ]
          },
          "execution_count": 63,
          "metadata": {},
          "output_type": "execute_result"
        }
      ],
      "source": [
        "\"-\".join(address_list)"
      ]
    },
    {
      "cell_type": "code",
      "execution_count": null,
      "id": "f737df64",
      "metadata": {
        "id": "f737df64",
        "outputId": "f7877e80-f1c8-4983-8fa6-3a7c4d893f13"
      },
      "outputs": [
        {
          "data": {
            "text/plain": [
              "True"
            ]
          },
          "execution_count": 64,
          "metadata": {},
          "output_type": "execute_result"
        }
      ],
      "source": [
        "\"경기도\" in address_list"
      ]
    },
    {
      "cell_type": "code",
      "execution_count": null,
      "id": "e1dc2ba3",
      "metadata": {
        "id": "e1dc2ba3",
        "outputId": "08bc8b03-0c58-4b38-d7ed-aaac6bbe7832"
      },
      "outputs": [
        {
          "data": {
            "text/plain": [
              "True"
            ]
          },
          "execution_count": 65,
          "metadata": {},
          "output_type": "execute_result"
        }
      ],
      "source": [
        "\"분당구\" in address_list"
      ]
    }
  ],
  "metadata": {
    "kernelspec": {
      "display_name": "Python 3 (ipykernel)",
      "language": "python",
      "name": "python3"
    },
    "language_info": {
      "codemirror_mode": {
        "name": "ipython",
        "version": 3
      },
      "file_extension": ".py",
      "mimetype": "text/x-python",
      "name": "python",
      "nbconvert_exporter": "python",
      "pygments_lexer": "ipython3",
      "version": "3.10.9"
    },
    "colab": {
      "provenance": [],
      "include_colab_link": true
    }
  },
  "nbformat": 4,
  "nbformat_minor": 5
}