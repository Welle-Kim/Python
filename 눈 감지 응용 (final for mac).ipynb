{
 "cells": [
  {
   "cell_type": "code",
   "execution_count": 3,
   "id": "020109a3",
   "metadata": {},
   "outputs": [
    {
     "name": "stdout",
     "output_type": "stream",
     "text": [
      "Collecting dlib\n",
      "  Using cached dlib-19.24.0-cp39-cp39-macosx_12_0_arm64.whl\n",
      "Installing collected packages: dlib\n",
      "Successfully installed dlib-19.24.0\n"
     ]
    }
   ],
   "source": [
    "# !pip install dlib"
   ]
  },
  {
   "cell_type": "code",
   "execution_count": 7,
   "id": "77444254",
   "metadata": {},
   "outputs": [
    {
     "name": "stdout",
     "output_type": "stream",
     "text": [
      "Collecting opencv-python\n",
      "  Using cached opencv_python-4.5.5.64-cp37-abi3-macosx_11_0_arm64.whl (29.9 MB)\n",
      "Requirement already satisfied: numpy>=1.14.5 in /opt/homebrew/Caskroom/miniforge/base/envs/tensorflow/lib/python3.9/site-packages (from opencv-python) (1.22.3)\n",
      "Installing collected packages: opencv-python\n",
      "Successfully installed opencv-python-4.5.5.64\n"
     ]
    }
   ],
   "source": [
    "# !pip install opencv-python"
   ]
  },
  {
   "cell_type": "code",
   "execution_count": 10,
   "id": "06025c49",
   "metadata": {},
   "outputs": [
    {
     "name": "stdout",
     "output_type": "stream",
     "text": [
      "Requirement already satisfied: numpy in /opt/homebrew/Caskroom/miniforge/base/envs/tensorflow/lib/python3.9/site-packages (1.22.3)\n",
      "Note: you may need to restart the kernel to use updated packages.\n"
     ]
    }
   ],
   "source": [
    "!pip install numpy "
   ]
  },
  {
   "cell_type": "code",
   "execution_count": 11,
   "id": "4287e92f",
   "metadata": {},
   "outputs": [
    {
     "name": "stdout",
     "output_type": "stream",
     "text": [
      "Collecting imutils\n",
      "  Using cached imutils-0.5.4-py3-none-any.whl\n",
      "Installing collected packages: imutils\n",
      "Successfully installed imutils-0.5.4\n",
      "Note: you may need to restart the kernel to use updated packages.\n"
     ]
    }
   ],
   "source": [
    "# pip install imutils"
   ]
  },
  {
   "cell_type": "code",
   "execution_count": 12,
   "id": "5b45cf51",
   "metadata": {},
   "outputs": [
    {
     "name": "stdout",
     "output_type": "stream",
     "text": [
      "Requirement already satisfied: keras in /opt/homebrew/Caskroom/miniforge/base/envs/tensorflow/lib/python3.9/site-packages (2.9.0)\n",
      "Note: you may need to restart the kernel to use updated packages.\n"
     ]
    }
   ],
   "source": [
    "pip install keras"
   ]
  },
  {
   "cell_type": "code",
   "execution_count": 1,
   "id": "d3b3bcb6",
   "metadata": {},
   "outputs": [
    {
     "name": "stdout",
     "output_type": "stream",
     "text": [
      "Metal device set to: Apple M1 Pro\n"
     ]
    },
    {
     "name": "stderr",
     "output_type": "stream",
     "text": [
      "2022-06-07 16:54:17.337423: I tensorflow/core/common_runtime/pluggable_device/pluggable_device_factory.cc:305] Could not identify NUMA node of platform GPU ID 0, defaulting to 0. Your kernel may not have been built with NUMA support.\n",
      "2022-06-07 16:54:17.337592: I tensorflow/core/common_runtime/pluggable_device/pluggable_device_factory.cc:271] Created TensorFlow device (/job:localhost/replica:0/task:0/device:GPU:0 with 0 MB memory) -> physical PluggableDevice (device: 0, name: METAL, pci bus id: <undefined>)\n"
     ]
    },
    {
     "data": {
      "text/plain": [
       "-1"
      ]
     },
     "execution_count": 1,
     "metadata": {},
     "output_type": "execute_result"
    }
   ],
   "source": [
    "#test\n",
    "\n",
    "import cv2, dlib\n",
    "import numpy as np\n",
    "from imutils import face_utils\n",
    "from keras.models import load_model\n",
    "\n",
    "IMG_SIZE = (34, 26)\n",
    "\n",
    "detector = dlib.get_frontal_face_detector()\n",
    "predictor = dlib.shape_predictor('shape_predictor_68_face_landmarks.dat')\n",
    "\n",
    "model = load_model('2018_12_17_22_58_35.h5')\n",
    "# model.summary()\n",
    "\n",
    "def crop_eye(img, eye_points):\n",
    "  x1, y1 = np.amin(eye_points, axis=0)\n",
    "  x2, y2 = np.amax(eye_points, axis=0)\n",
    "  cx, cy = (x1 + x2) / 2, (y1 + y2) / 2\n",
    "\n",
    "  w = (x2 - x1) * 1.2\n",
    "  h = w * IMG_SIZE[1] / IMG_SIZE[0]\n",
    "\n",
    "  margin_x, margin_y = w / 2, h / 2\n",
    "\n",
    "  min_x, min_y = int(cx - margin_x), int(cy - margin_y)\n",
    "  max_x, max_y = int(cx + margin_x), int(cy + margin_y)\n",
    "\n",
    "  eye_rect = np.rint([min_x, min_y, max_x, max_y]).astype(np.int)\n",
    "\n",
    "  eye_img = gray[eye_rect[1]:eye_rect[3], eye_rect[0]:eye_rect[2]]\n",
    "\n",
    "  return eye_img, eye_rect\n",
    "\n",
    "# main\n",
    "\n",
    "cap = cv2.VideoCapture('노가리.mov')\n",
    "\n",
    "while cap.isOpened():\n",
    "  ret, img_ori = cap.read()\n",
    "\n",
    "  if not ret:\n",
    "    break\n",
    "\n",
    "  img_ori = cv2.resize(img_ori, dsize=(0, 0), fx=0.5, fy=0.5)\n",
    "\n",
    "  img = img_ori.copy()\n",
    "  gray = cv2.cvtColor(img, cv2.COLOR_BGR2GRAY)\n",
    "\n",
    "  faces = detector(gray)\n",
    "\n",
    "  for face in faces:\n",
    "    shapes = predictor(gray, face)\n",
    "    shapes = face_utils.shape_to_np(shapes)\n",
    "\n",
    "    eye_img_l, eye_rect_l = crop_eye(gray, eye_points=shapes[36:42])\n",
    "    eye_img_r, eye_rect_r = crop_eye(gray, eye_points=shapes[42:48])\n",
    "\n",
    "    eye_img_l = cv2.resize(eye_img_l, dsize=IMG_SIZE)\n",
    "    eye_img_r = cv2.resize(eye_img_r, dsize=IMG_SIZE)\n",
    "    eye_img_r = cv2.flip(eye_img_r, flipCode=1)\n",
    "\n",
    "    cv2.imshow('l', eye_img_l)\n",
    "    cv2.imshow('r', eye_img_r)\n",
    "\n",
    "    eye_input_l = eye_img_l.copy().reshape((1, IMG_SIZE[1], IMG_SIZE[0], 1)).astype(np.float32) / 255.\n",
    "    eye_input_r = eye_img_r.copy().reshape((1, IMG_SIZE[1], IMG_SIZE[0], 1)).astype(np.float32) / 255.\n",
    "\n",
    "    pred_l = model.predict(eye_input_l)\n",
    "    pred_r = model.predict(eye_input_r)\n",
    "\n",
    "    # visualize\n",
    "    state_l = 'O %.1f' if pred_l > 0.1 else '- %.1f'\n",
    "    state_r = 'O %.1f' if pred_r > 0.1 else '- %.1f'\n",
    "\n",
    "    state_l = state_l % pred_l\n",
    "    state_r = state_r % pred_r\n",
    "\n",
    "    cv2.rectangle(img, pt1=tuple(eye_rect_l[0:2]), pt2=tuple(eye_rect_l[2:4]), color=(255,255,255), thickness=2)\n",
    "    cv2.rectangle(img, pt1=tuple(eye_rect_r[0:2]), pt2=tuple(eye_rect_r[2:4]), color=(255,255,255), thickness=2)\n",
    "\n",
    "    cv2.putText(img, state_l, tuple(eye_rect_l[0:2]), cv2.FONT_HERSHEY_SIMPLEX, 0.7, (255,255,255), 2)\n",
    "    cv2.putText(img, state_r, tuple(eye_rect_r[0:2]), cv2.FONT_HERSHEY_SIMPLEX, 0.7, (255,255,255), 2)\n",
    "  \n",
    "  cv2.imshow('result', img)\n",
    "\n",
    "  if cv2.waitKey(1) == ord('q'):\n",
    "    break\n",
    "    \n",
    "cap.release()\n",
    "cv2.destroyAllWindows()\n",
    "cv2.waitKey(1)\n",
    "cv2.waitKey(1)\n",
    "cv2.waitKey(1)\n",
    "cv2.waitKey(1)    "
   ]
  },
  {
   "cell_type": "code",
   "execution_count": null,
   "id": "a8326f22",
   "metadata": {},
   "outputs": [],
   "source": []
  }
 ],
 "metadata": {
  "kernelspec": {
   "display_name": "Python 3 (ipykernel)",
   "language": "python",
   "name": "python3"
  },
  "language_info": {
   "codemirror_mode": {
    "name": "ipython",
    "version": 3
   },
   "file_extension": ".py",
   "mimetype": "text/x-python",
   "name": "python",
   "nbconvert_exporter": "python",
   "pygments_lexer": "ipython3",
   "version": "3.9.12"
  }
 },
 "nbformat": 4,
 "nbformat_minor": 5
}
