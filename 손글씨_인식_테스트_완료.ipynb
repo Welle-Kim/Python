{
  "nbformat": 4,
  "nbformat_minor": 0,
  "metadata": {
    "colab": {
      "name": "손글씨 인식 테스트 완료",
      "private_outputs": true,
      "provenance": [],
      "collapsed_sections": [
        "5CP1YBab5Ead",
        "8Zy2TELU5Y7l",
        "rnOAOfg65fDd",
        "SilCpGk_5vwW"
      ],
      "include_colab_link": true
    },
    "kernelspec": {
      "name": "python3",
      "display_name": "Python 3"
    },
    "language_info": {
      "name": "python"
    }
  },
  "cells": [
    {
      "cell_type": "markdown",
      "metadata": {
        "id": "view-in-github",
        "colab_type": "text"
      },
      "source": [
        "<a href=\"https://colab.research.google.com/github/Welle-Kim/Python/blob/master/%EC%86%90%EA%B8%80%EC%94%A8_%EC%9D%B8%EC%8B%9D_%ED%85%8C%EC%8A%A4%ED%8A%B8_%EC%99%84%EB%A3%8C.ipynb\" target=\"_parent\"><img src=\"https://colab.research.google.com/assets/colab-badge.svg\" alt=\"Open In Colab\"/></a>"
      ]
    },
    {
      "cell_type": "code",
      "source": [
        "import tensorflow as tf\n",
        "from tensorflow.keras.datasets.mnist import load_data\n",
        "\n",
        "# 텐서블로우 데이터셋에서 데이터 다운받기\n",
        "#mnist=tf.keras.datasets.mnist\n",
        "#(x_train, y_train), (x_test, y_test) = mnist.load_data()\n",
        "\n",
        "(x_train, y_train), (x_test, y_test) = load_data(path='mnist.npz')"
      ],
      "metadata": {
        "id": "6x_MZdvM31sW"
      },
      "execution_count": null,
      "outputs": []
    },
    {
      "cell_type": "code",
      "source": [
        "# 훈련데이터 구성 확인\n",
        "x_train.shape, y_train.shape"
      ],
      "metadata": {
        "id": "vAeXYEXC4gjE"
      },
      "execution_count": null,
      "outputs": []
    },
    {
      "cell_type": "code",
      "source": [
        "y_train"
      ],
      "metadata": {
        "id": "y0iz-lPS4hAm"
      },
      "execution_count": null,
      "outputs": []
    },
    {
      "cell_type": "code",
      "source": [
        "# 테스트 데이터 확인\n",
        "print(x_test.shape, y_test.shape)\n",
        "print(y_test)"
      ],
      "metadata": {
        "id": "OyLHqX354hD2"
      },
      "execution_count": null,
      "outputs": []
    },
    {
      "cell_type": "code",
      "source": [
        "import matplotlib.pyplot as plt\n",
        "import numpy as np\n",
        "\n",
        "plt.imshow(x_train[0])\n",
        "plt.show()\n",
        "print(\"label:\",y_train[0])"
      ],
      "metadata": {
        "id": "TC0wBUSj9vfe"
      },
      "execution_count": null,
      "outputs": []
    },
    {
      "cell_type": "code",
      "source": [
        "plt.imshow(np.hstack(x_train[:5]))\n",
        "plt.show()\n",
        "print(\"label:\",y_train[:5])"
      ],
      "metadata": {
        "id": "y1oauL6Y-Zx1"
      },
      "execution_count": null,
      "outputs": []
    },
    {
      "cell_type": "code",
      "source": [
        "## 6만개의 데이터에서 임의로 두개의 데이터를 뽑아서 확인하기\n",
        "np.random.seed(123)\n",
        "random_idx=np.random.randint(60000,size=2)\n",
        "\n",
        "for idx in random_idx:\n",
        "  img=x_train[idx,:]\n",
        "  label=y_train[idx]\n",
        "  plt.imshow(img)\n",
        "  plt.title(f\"data-{idx},label-{label}\",fontsize=15)\n",
        "  plt.show()"
      ],
      "metadata": {
        "id": "xejJ2i9I-yCG"
      },
      "execution_count": null,
      "outputs": []
    },
    {
      "cell_type": "code",
      "source": [
        "# 테스트 데이터 확인\n",
        "np.random.seed(123)\n",
        "random_idx = np.random.randint(10000)\n",
        "\n",
        "img = x_test[random_idx, :]\n",
        "label = y_test[random_idx]\n",
        "plt.imshow(img)\n",
        "plt.title(f'data-{random_idx}, label-{label}', fontsize=15)\n",
        "plt.show()"
      ],
      "metadata": {
        "id": "rQwt-S8VAN4B"
      },
      "execution_count": null,
      "outputs": []
    },
    {
      "cell_type": "code",
      "source": [
        "# 훈련 데이터/검증 데이터 생성\n",
        "from sklearn.model_selection import train_test_split\n",
        "\n",
        "x_train,x_val,y_train,y_val=train_test_split(x_train,y_train,test_size=0.3,random_state=123)\n",
        "print(f\"훈련데이터:{x_train.shape},레이블:{y_train.shape}\")\n",
        "print(f\"검증데이터:{x_val.shape},레이블:{y_val.shape}\")"
      ],
      "metadata": {
        "id": "b393-sDR4kb0"
      },
      "execution_count": null,
      "outputs": []
    },
    {
      "cell_type": "code",
      "source": [
        "x_train.shape"
      ],
      "metadata": {
        "id": "Ri6IWGwdD5pR"
      },
      "execution_count": null,
      "outputs": []
    },
    {
      "cell_type": "code",
      "source": [
        "x_train.shape[0]"
      ],
      "metadata": {
        "id": "NvOU7vcKECRb"
      },
      "execution_count": null,
      "outputs": []
    },
    {
      "cell_type": "code",
      "source": [
        "#1개의 이미지 데이터 정보 차원변경\n",
        "timg=x_train[0].reshape(-1,28*28)\n",
        "print(timg.shape)\n",
        "timg.reshape(28,-1).shape"
      ],
      "metadata": {
        "id": "dMhPTg-M4lBF"
      },
      "execution_count": null,
      "outputs": []
    },
    {
      "cell_type": "code",
      "source": [
        "print(x_train.shape)\n",
        "xtrainNum=x_train.shape[0] #이미지 갯수\n",
        "xvalNum=x_val.shape[0]\n",
        "xtestNum=x_test.shape[0]\n",
        "\n",
        "#모델에 적용할 데이터로 변경\n",
        "xr_train=x_train.reshape(xtrainNum,28*28)/255 #차원변경 및 정규화\n",
        "xr_val=x_val.reshape(xvalNum,28*28)/255 #차원변경 및 정규화\n",
        "xr_test=x_test.reshape(xtestNum,28*28)/255 #차원변경 및 정규화\n",
        "\n",
        "print('차원 변경후:', xr_train.shape)"
      ],
      "metadata": {
        "id": "g6MYzZ_T4lD8"
      },
      "execution_count": null,
      "outputs": []
    },
    {
      "cell_type": "code",
      "source": [
        "# 소프트맥스 함수\n",
        "def softmax(arr):\n",
        "    m = np.max(arr)\n",
        "    arr = arr-m\n",
        "    arr = np.exp(arr)\n",
        "    return arr/np.sum(arr)\n",
        "\n",
        "# 시그모이드 함수\n",
        "def sigmoid(x):\n",
        "    return 1/(1+np.exp(-x))\n",
        "\n",
        "c1=np.array([3.1,3.0,2.9])\n",
        "c2=np.array([2.0,1.0,0.7])\n",
        "\n",
        "# np.데이터에서 소수 3째자리에서 반올림\n",
        "np.set_printoptions(precision=3)\n",
        "print(f\"sigmoid:{sigmoid(c1)},softmax:{softmax(c1)}\") \n",
        "print(f\"sigmoid:{sigmoid(c2)},softmax:{softmax(c2)}\")"
      ],
      "metadata": {
        "id": "p8hvuvgZDgtA"
      },
      "execution_count": null,
      "outputs": []
    },
    {
      "cell_type": "code",
      "source": [
        "from tensorflow.keras.utils import to_categorical\n",
        "\n",
        "# 레이블 데이터를 범주형 형식으로 변경(원핫인코딩)\n",
        "yc_train = to_categorical(y_train)\n",
        "yc_val = to_categorical(y_val)\n",
        "yc_test = to_categorical(y_test)\n",
        "\n",
        "print(y_train)\n",
        "print(yc_train[0])"
      ],
      "metadata": {
        "id": "a8GZ3FkSDlL3"
      },
      "execution_count": null,
      "outputs": []
    },
    {
      "cell_type": "code",
      "source": [
        "#텐서플로를 이용한 모델 생성\n",
        "from tensorflow.keras.models import Sequential\n",
        "from tensorflow.keras.layers import Dense\n",
        "\n",
        "#모델 생성을 위한 단계별(layer)생성\n",
        "model=Sequential()\n",
        "model.add(Dense(64,activation=\"relu\",input_shape=(784,))) #input_layers: 입력x=784 변수, unit(출력)=64 \n",
        "model.add(Dense(32,activation=\"relu\")) # hidden_layers1 : 입력 x=64,출력(unit)=32\n",
        "model.add(Dense(16,activation=\"relu\")) # hidden_layers1 : 입력 x=64,출력(unit)=16\n",
        "model.add(Dense(10,activation=\"softmax\")) "
      ],
      "metadata": {
        "id": "IOq4a-rsDnw-"
      },
      "execution_count": null,
      "outputs": []
    },
    {
      "cell_type": "code",
      "source": [
        "model.compile(optimizer='adam',\n",
        "              loss='categorical_crossentropy',\n",
        "               metrics=['acc'])"
      ],
      "metadata": {
        "id": "LI6jUNUn5XRk"
      },
      "execution_count": null,
      "outputs": []
    },
    {
      "cell_type": "code",
      "source": [
        "np.max(xr_train), np.min(xr_train)"
      ],
      "metadata": {
        "id": "MOlHjn0b5YXA"
      },
      "execution_count": null,
      "outputs": []
    },
    {
      "cell_type": "code",
      "source": [
        "from traitlets.traitlets import validate\n",
        "history = model.fit(xr_train, yc_train,\n",
        "                     epochs=30, \n",
        "                     batch_size=128,\n",
        "                     validation_data =(xr_val, yc_val))"
      ],
      "metadata": {
        "id": "fCBpLyjF5ezK"
      },
      "execution_count": null,
      "outputs": []
    },
    {
      "cell_type": "code",
      "source": [
        "##모델 저장\n",
        "model.save(\"minist_model.h5\")"
      ],
      "metadata": {
        "id": "35yD3xjw5e2E"
      },
      "execution_count": null,
      "outputs": []
    },
    {
      "cell_type": "code",
      "source": [
        ""
      ],
      "metadata": {
        "id": "FbxdcmuI5e4s"
      },
      "execution_count": null,
      "outputs": []
    },
    {
      "cell_type": "code",
      "source": [
        "history.history.keys()"
      ],
      "metadata": {
        "id": "ANu97bwl5gGv"
      },
      "execution_count": null,
      "outputs": []
    },
    {
      "cell_type": "code",
      "source": [
        "model.evaluate(xr_test, yc_test)"
      ],
      "metadata": {
        "id": "xOiYUyCk5lB0"
      },
      "execution_count": null,
      "outputs": []
    },
    {
      "cell_type": "code",
      "source": [
        "np.set_printoptions(precision=7)\n",
        "\n",
        "results=model.predict(xr_test)\n",
        "\n",
        "print(results.shape)\n",
        "print(y_test[0])\n",
        "print(results[0])\n"
      ],
      "metadata": {
        "id": "Pm36bNv-5s3V"
      },
      "execution_count": null,
      "outputs": []
    },
    {
      "cell_type": "code",
      "source": [
        "import matplotlib.pyplot as plt\n",
        "\n",
        "arg_results=np.argmax(results,axis=-1) #가장 큰값의 index값을 반환\n",
        "plt.imshow(xr_test[0].reshape(28,28))\n",
        "plt.title(\"Predicted Values:\"+str(arg_results[0]),fontsize=15)"
      ],
      "metadata": {
        "id": "FxEn-UDM5yU1"
      },
      "execution_count": null,
      "outputs": []
    },
    {
      "cell_type": "markdown",
      "source": [
        "\bTesting by myself"
      ],
      "metadata": {
        "id": "pl6DnytUEvOk"
      }
    },
    {
      "cell_type": "code",
      "source": [
        "from keras.models import load_model\n",
        "from PIL import Image,ImageOps\n",
        "import matplotlib.pyplot as plt\n",
        "\n",
        "import numpy as np\n",
        "\n",
        "model=load_model(\"minist_model.h5\")\n",
        "# data=np.nparray(shape=(1,28,28,1))\n",
        "\n",
        "img=Image.open(\"white.jpeg\")\n",
        "plt.imshow(img)\n",
        "np.array(img)"
      ],
      "metadata": {
        "id": "6AtjI4h1y1zW"
      },
      "execution_count": null,
      "outputs": []
    },
    {
      "cell_type": "code",
      "source": [
        "from keras.models import load_model\n",
        "from PIL import Image,ImageOps\n",
        "import matplotlib.pyplot as plt\n",
        "import numpy as np\n",
        "\n",
        "img=Image.open(\"white.jpeg\").convert(\"L\") #conver(\"L\"):grayscale로 변경해서 일겅옴\n",
        "\n",
        "plt.imshow(img,cmap=\"gray\")\n",
        "np.array(img)"
      ],
      "metadata": {
        "id": "CF-E9kIz8ewe"
      },
      "execution_count": null,
      "outputs": []
    },
    {
      "cell_type": "code",
      "source": [
        "# #이미지 크기 28*28로 변경\n",
        "# # img2=np.resize(img,(1,784))\n",
        "# # img2\n",
        "# img2=img.resize((28,28))\n",
        "# plt.imshow(img2,cmap=\"gray\")"
      ],
      "metadata": {
        "id": "ctt36EK7AbWE"
      },
      "execution_count": null,
      "outputs": []
    },
    {
      "cell_type": "code",
      "source": [
        "# 모델 읽어오기\n",
        "model = load_model('minist_model.h5')\n",
        "\n",
        "# 이미지 크기 28*28로 변경\n",
        "img2=img.resize((28,28))\n",
        "# plt.imshow(img2, cmap='gray')\n",
        "\n",
        "img2arr=np.array(img2).reshape(1, 28*28)/255\n",
        "img2arr.shape\n"
      ],
      "metadata": {
        "id": "0fKPHrpG-EGV"
      },
      "execution_count": null,
      "outputs": []
    },
    {
      "cell_type": "code",
      "source": [
        "preds=model.predict(img2arr)\n",
        "print(preds)"
      ],
      "metadata": {
        "id": "-skel_g3CK6s"
      },
      "execution_count": null,
      "outputs": []
    },
    {
      "cell_type": "code",
      "source": [
        "class_name=[0,1,2,3,4,5,6,7,8,9]\n",
        "print(class_name[np.argmax(preds)])"
      ],
      "metadata": {
        "id": "YqYjCfYGEB0Y"
      },
      "execution_count": null,
      "outputs": []
    },
    {
      "cell_type": "code",
      "source": [
        "from keras.models import load_model\n",
        "from PIL import Image,ImageOps\n",
        "import matplotlib.pyplot as plt\n",
        "import numpy as np\n",
        "\n",
        "img=Image.open(\"weiss.jpeg\").convert(\"L\") #conver(\"L\"):grayscale로 변경해서 일겅옴\n",
        "\n",
        "plt.imshow(img,cmap=\"gray\")\n",
        "np.array(img)"
      ],
      "metadata": {
        "id": "LGSoWexFEv8j"
      },
      "execution_count": null,
      "outputs": []
    },
    {
      "cell_type": "code",
      "source": [
        "# 모델 읽어오기\n",
        "model = load_model('minist_model.h5')\n",
        "\n",
        "# 이미지 크기 28*28로 변경\n",
        "img2=img.resize((28,28))\n",
        "# plt.imshow(img2, cmap='gray')\n",
        "\n",
        "img2arr=np.array(img2).reshape(1, 28*28)/255\n",
        "img2arr.shape\n"
      ],
      "metadata": {
        "id": "vU2hytbGEwmq"
      },
      "execution_count": null,
      "outputs": []
    },
    {
      "cell_type": "code",
      "source": [
        "preds=model.predict(img2arr)\n",
        "print(preds)"
      ],
      "metadata": {
        "id": "mix31HfSE0TS"
      },
      "execution_count": null,
      "outputs": []
    },
    {
      "cell_type": "code",
      "source": [
        "class_name=[0,1,2,3,4,5,6,7,8,9]\n",
        "print(class_name[np.argmax(preds)])"
      ],
      "metadata": {
        "id": "0yPCeml8E6cS"
      },
      "execution_count": null,
      "outputs": []
    }
  ]
}