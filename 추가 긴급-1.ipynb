{
 "cells": [
  {
   "cell_type": "code",
   "execution_count": null,
   "id": "16e31d8d",
   "metadata": {},
   "outputs": [
    {
     "name": "stderr",
     "output_type": "stream",
     "text": [
      "C:\\Users\\student\\AppData\\Local\\Temp\\ipykernel_3836\\2479145743.py:15: DeprecationWarning: executable_path has been deprecated, please pass in a Service object\n",
      "  driver = webdriver.Chrome(\"c:/pydata/chromedriver\")\n"
     ]
    },
    {
     "name": "stdout",
     "output_type": "stream",
     "text": [
      "\n",
      "톰 홀랜드\n",
      "\n",
      "\n",
      "톰 홀랜드\n",
      "\n",
      "\n",
      "알렉 볼드윈\n",
      "\n",
      "\n",
      "로버트 패틴슨\n",
      "\n",
      "\n",
      "박영남\n",
      "\n",
      "\n",
      "알렉 볼드윈\n",
      "\n",
      "\n",
      "에디 레드메인\n",
      "\n"
     ]
    }
   ],
   "source": [
    "from selenium import webdriver\n",
    "from bs4 import BeautifulSoup as bs\n",
    "from urllib.parse import quote\n",
    "import requests\n",
    "import time\n",
    "import pandas as pd\n",
    "import re\n",
    "import csv\n",
    "import ssl\n",
    "import time\n",
    "ssl._create_default_https_context = ssl._create_unverified_context\n",
    "\n",
    "\n",
    "#driver = webdriver.Chrome(\"/opt/homebrew/bin/chromedriver\")\n",
    "driver = webdriver.Chrome(\"c:/pydata/chromedriver\")\n",
    "review_data=[]\n",
    "\n",
    "kakaopage=[146656,61476,143722,110137,144508,107497,111490,121982,150296,122296]\n",
    "\n",
    "for k in kakaopage:\n",
    "    driver.get(\"https://movie.daum.net/moviedb/crew?movieId=\"+str(k))\n",
    "    #driver.execute_script(\"window.scrollTo(0, 53)\") \n",
    "    time.sleep(3)\n",
    "    html = driver.page_source\n",
    "    soup=bs(html,\"html.parser\")\n",
    "    \n",
    "    # 영화제목\n",
    "    title=soup.find(\"span\",class_='txt_tit').text\n",
    "    \n",
    "    # 주장르\n",
    "    genre=soup.find_all(\"dl\",class_=\"list_cont\")[1]\n",
    "    genre=genre.text.replace(\"장르\",\"\").split(\"/\")[0]\n",
    "    #print(genre)\n",
    "    \n",
    "    #주연배우\n",
    "    director_soup=soup.find_all(\"div\", class_=\"item_crew\")\n",
    "    director=director_soup[1].find(\"strong\", class_=\"tit_item\")\n",
    "     \n",
    "    try:\n",
    "        distributor=director.text\n",
    "            \n",
    "    except AttributeError as err:\n",
    "         distributor=\"주연배우미상\"\n",
    "    \n",
    "    print(director.text)         \n",
    "  \n",
    "    \n",
    "#     reviews=soup.find_all(\"ul\",class_=\"list_crew\")\n",
    "    # print(reviews)\n",
    "#     for review in reviews:\n",
    "#         try:\n",
    "#             main_actor=reviews[1].find(\"a\",class_=\"link_txt\").text\n",
    "        \n",
    "#         except AttributeError as err:\n",
    "#                 continue\n",
    "    \n",
    "#         review_data.append([title,distributor,genre,director,main_actor])\n",
    "#     print(main_director)\n",
    "\n",
    "# driver.close()\n",
    "        \n",
    "# df=pd.DataFrame(review_data,columns=[\"title\",\"distributor\",\"genre\",\"director\",\"main_actor\"])\n",
    "# display(df.head(10))\n",
    "# display(df.tail(10))\n",
    "# df.to_csv(\"./kakaopage_test.csv\",header=True,index=False,encoding=\"utf8\")\n",
    "# df.to_excel(\"./kakaopage_test.xlsx\",header=True,index=False)\n",
    "\n",
    "# print(\"작업이 완료되었습니다.\")"
   ]
  },
  {
   "cell_type": "code",
   "execution_count": null,
   "id": "6e256074",
   "metadata": {},
   "outputs": [],
   "source": []
  },
  {
   "cell_type": "code",
   "execution_count": null,
   "id": "a92bc88b",
   "metadata": {},
   "outputs": [],
   "source": []
  },
  {
   "cell_type": "code",
   "execution_count": null,
   "id": "6dfbcd03",
   "metadata": {},
   "outputs": [],
   "source": []
  }
 ],
 "metadata": {
  "kernelspec": {
   "display_name": "Python 3 (ipykernel)",
   "language": "python",
   "name": "python3"
  },
  "language_info": {
   "codemirror_mode": {
    "name": "ipython",
    "version": 3
   },
   "file_extension": ".py",
   "mimetype": "text/x-python",
   "name": "python",
   "nbconvert_exporter": "python",
   "pygments_lexer": "ipython3",
   "version": "3.9.7"
  }
 },
 "nbformat": 4,
 "nbformat_minor": 5
}
