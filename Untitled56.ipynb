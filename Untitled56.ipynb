{
  "nbformat": 4,
  "nbformat_minor": 0,
  "metadata": {
    "colab": {
      "provenance": [],
      "authorship_tag": "ABX9TyNd0s8cSwHYQg1kaCMtF5kz",
      "include_colab_link": true
    },
    "kernelspec": {
      "name": "python3",
      "display_name": "Python 3"
    },
    "language_info": {
      "name": "python"
    }
  },
  "cells": [
    {
      "cell_type": "markdown",
      "metadata": {
        "id": "view-in-github",
        "colab_type": "text"
      },
      "source": [
        "<a href=\"https://colab.research.google.com/github/Welle-Kim/Python/blob/master/Untitled56.ipynb\" target=\"_parent\"><img src=\"https://colab.research.google.com/assets/colab-badge.svg\" alt=\"Open In Colab\"/></a>"
      ]
    },
    {
      "cell_type": "code",
      "execution_count": null,
      "metadata": {
        "id": "-KS2NcqTSqdf"
      },
      "outputs": [],
      "source": [
        "folder_list= [\"상안교(상)\",\"상안교(하)\"]\n",
        "\n",
        "import os\n",
        "\n",
        "len_folder_list = len(folder_list)\n",
        "for i in range(len_folder_list):\n",
        "  folder_name = folder_list[i] + \"_2013_\"\n",
        "  os.makedirs(folder_name)"
      ]
    }
  ]
}