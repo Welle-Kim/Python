{
  "nbformat": 4,
  "nbformat_minor": 0,
  "metadata": {
    "colab": {
      "name": "Daum_kakao(final).ipynb",
      "provenance": [],
      "authorship_tag": "ABX9TyOfQuTyuvHHB0/taySQM40k",
      "include_colab_link": true
    },
    "kernelspec": {
      "name": "python3",
      "display_name": "Python 3"
    },
    "language_info": {
      "name": "python"
    }
  },
  "cells": [
    {
      "cell_type": "markdown",
      "metadata": {
        "id": "view-in-github",
        "colab_type": "text"
      },
      "source": [
        "<a href=\"https://colab.research.google.com/github/Welle-Kim/Python/blob/master/Daum_kakao(final).ipynb\" target=\"_parent\"><img src=\"https://colab.research.google.com/assets/colab-badge.svg\" alt=\"Open In Colab\"/></a>"
      ]
    },
    {
      "cell_type": "code",
      "execution_count": null,
      "metadata": {
        "id": "lMtb83PNh-mi"
      },
      "outputs": [],
      "source": [
        "from selenium import webdriver\n",
        "from bs4 import BeautifulSoup as bs\n",
        "from urllib.parse import quote\n",
        "import requests\n",
        "import time\n",
        "import pandas as pd\n",
        "import re\n",
        "from selenium import webdriver\n",
        "from bs4 import BeautifulSoup as bs\n",
        "from urllib.parse import quote\n",
        "import requests\n",
        "import time\n",
        "import pandas as pd\n",
        "import re\n",
        "import excel\n",
        "import csv\n",
        "import openpyxl\n",
        "import ssl\n",
        "ssl._create_default_https_context = ssl._create_unverified_context\n",
        "from selenium import webdriver\n",
        "import pandas as pd\n",
        "import numpy as np\n",
        "\n",
        "driver = webdriver.Chrome(\"/opt/homebrew/bin/chromedriver\")\n",
        "review_data=[]\n",
        "\n",
        "kakaopage=[146656,61476,143722,110137,144508,107497,111490,121982,150296,122296]\n",
        "\n",
        "\n",
        "cnt=1\n",
        "for k in kakaopage:\n",
        "    driver.get(\"https://movie.daum.net/moviedb/grade?movieId=\"+str(k))\n",
        "    driver.execute_script(\"window.scrollTo(0, 53)\") \n",
        "\n",
        "    while True:\n",
        "        try:\n",
        "            last_height = driver.execute_script(\"return document.body.scrollHeight\")\n",
        "            driver.execute_script(\"window.scrollTo(0, document.body.scrollHeight);\")\n",
        "            time.sleep(1)\n",
        "            new_height = driver.execute_script(\"return document.body.scrollHeight\")\n",
        "            if new_height == last_height:\n",
        "                xpath1 = \"\"\"//*[@id=\"alex-area\"]/div/div/div/div[3]/div[1]/button\"\"\"\n",
        "                driver.find_element_by_xpath(xpath1).click()\n",
        "        except:\n",
        "            break\n",
        "        last_height = new_height\n",
        "    \n",
        "    html = driver.page_source\n",
        "    soup=bs(html,\"html.parser\")\n",
        "    movie=soup.find_all(\"span\",class_='txt_tit')[0].text\n",
        "\n",
        "\n",
        "    reviews=soup.find_all(\"div\",class_=\"cmt_info\")\n",
        "    for review in reviews:\n",
        "        try:\n",
        "            sentences=review.find(\"p\",class_='desc_txt font_size_').text.strip()\n",
        "            sentence=re.sub('[^ ㄱ-ㅣ가-힣+]','',sentences)\n",
        "        \n",
        "        except AttributeError as err:\n",
        "            pass\n",
        "        \n",
        "        score=review.find(\"div\",class_=\"ratings\").text.strip()\n",
        "        review_data.append([movie,sentence,score])\n",
        "#         print(review_data)\n",
        "    \n",
        "df=pd.DataFrame(review_data,columns=[\"Movie\",\"Sentence\",\"Score\"])\n",
        "df.head(10)\n",
        "df.tail(10)\n",
        "df.to_excel(\"Reviews_KaKao.xlsx\")"
      ]
    }
  ]
}