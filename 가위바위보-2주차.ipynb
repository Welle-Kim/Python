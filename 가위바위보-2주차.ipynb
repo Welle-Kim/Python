{
  "nbformat": 4,
  "nbformat_minor": 0,
  "metadata": {
    "colab": {
      "name": "Untitled32.ipynb",
      "provenance": [],
      "collapsed_sections": [],
      "authorship_tag": "ABX9TyPCSbTTYhK2AcYKbC3Nl5I+",
      "include_colab_link": true
    },
    "kernelspec": {
      "name": "python3",
      "display_name": "Python 3"
    },
    "language_info": {
      "name": "python"
    }
  },
  "cells": [
    {
      "cell_type": "markdown",
      "metadata": {
        "id": "view-in-github",
        "colab_type": "text"
      },
      "source": [
        "<a href=\"https://colab.research.google.com/github/Welle-Kim/Python/blob/master/%EA%B0%80%EC%9C%84%EB%B0%94%EC%9C%84%EB%B3%B4-2%EC%A3%BC%EC%B0%A8.ipynb\" target=\"_parent\"><img src=\"https://colab.research.google.com/assets/colab-badge.svg\" alt=\"Open In Colab\"/></a>"
      ]
    },
    {
      "cell_type": "code",
      "source": [
        "###1\n",
        "import random\n",
        "my = input(\"가위 바위 보: \")\n",
        "\n",
        "def rsp(my):\n",
        "  jong=[\"가위\",\"바위\",\"보\"]\n",
        "  computer = random.choice(jong)\n",
        "\n",
        "  print(\"\u001f나: \",my)\n",
        "  print(\"컴퓨터: \",computer)\n",
        "\n",
        "  if my==computer:\n",
        "    print(\"same\")\n",
        "    return rsp(my)\n",
        "\n",
        "  elif my==\"보\" and computer==\"가위\":\n",
        "    print(\"컴퓨터 승리\")\n",
        "\n",
        "\n",
        "  elif my==\"가위\" and computer==\"바위\":\n",
        "    print(\"컴퓨터 승리\")\n",
        "\n",
        "  elif my==\"바위\" and computer==\"보\":\n",
        "    print(\"컴퓨터 승리\")\n",
        "\n",
        "  else:\n",
        "    return rsp(my)\n",
        "    \n",
        "#컴퓨터가 이기면 멈춤\n",
        "#retrun ---> 계산한 값을 반환함과 동시에 함수를 끝내는 의미\n",
        "rsp(my)"
      ],
      "metadata": {
        "id": "lO0W8ah-t8Gc",
        "colab": {
          "base_uri": "https://localhost:8080/"
        },
        "outputId": "141f4464-47ef-4267-85db-9c9263a6ca16"
      },
      "execution_count": 7,
      "outputs": [
        {
          "output_type": "stream",
          "name": "stdout",
          "text": [
            "가위 바위 보: 가위\n",
            "\u001f나:  가위\n",
            "컴퓨터:  보\n",
            "\u001f나:  가위\n",
            "컴퓨터:  보\n",
            "\u001f나:  가위\n",
            "컴퓨터:  가위\n",
            "same\n",
            "\u001f나:  가위\n",
            "컴퓨터:  가위\n",
            "same\n",
            "\u001f나:  가위\n",
            "컴퓨터:  가위\n",
            "same\n",
            "\u001f나:  가위\n",
            "컴퓨터:  가위\n",
            "same\n",
            "\u001f나:  가위\n",
            "컴퓨터:  보\n",
            "\u001f나:  가위\n",
            "컴퓨터:  보\n",
            "\u001f나:  가위\n",
            "컴퓨터:  가위\n",
            "same\n",
            "\u001f나:  가위\n",
            "컴퓨터:  바위\n",
            "컴퓨터 승리\n"
          ]
        }
      ]
    },
    {
      "cell_type": "code",
      "source": [
        "###2\n",
        "import random\n",
        "\n",
        "def rsp():\n",
        "  my = input(\"가위 바위 보: \")\n",
        "  jong=[\"가위\",\"바위\",\"보\"]\n",
        "  computer = random.choice(jong)\n",
        "  print(\"나: \",my)\n",
        "  print(\"컴퓨터: \",computer)\n",
        "\n",
        "  if my==computer:\n",
        "    print(\"same\")\n",
        "    return rsp()\n",
        "  elif my==\"보\" and computer==\"가위\":\n",
        "    print(\"컴퓨터 승리\")\n",
        "  elif my==\"가위\" and computer==\"바위\":\n",
        "    print(\"컴퓨터 승리\")\n",
        "  elif my==\"바위\" and computer==\"보\":\n",
        "    print(\"컴퓨터 승리\")\n",
        "  else:\n",
        "    if not my==\"가위\" or \"바위\" or \"보\":\n",
        "      print(\"다시 입력해주세요\")\n",
        "      return rsp() \n",
        "    print(\"나의 승리\")\n",
        "\n",
        "\n",
        "rsp()"
      ],
      "metadata": {
        "id": "vHdML2RzzSgV",
        "colab": {
          "base_uri": "https://localhost:8080/"
        },
        "outputId": "81a51851-8aa0-4885-e4b3-a26e6a7fc0a5"
      },
      "execution_count": 15,
      "outputs": [
        {
          "output_type": "stream",
          "name": "stdout",
          "text": [
            "가위 바위 보: 바위\n",
            "나:  바위\n",
            "컴퓨터:  바위\n",
            "same\n",
            "가위 바위 보: 가위\n",
            "나:  가위\n",
            "컴퓨터:  바위\n",
            "컴퓨터 승리\n"
          ]
        }
      ]
    }
  ]
}