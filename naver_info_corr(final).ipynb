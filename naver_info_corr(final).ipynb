{
 "cells": [
  {
   "cell_type": "code",
   "execution_count": 65,
   "id": "d0644991",
   "metadata": {},
   "outputs": [
    {
     "name": "stderr",
     "output_type": "stream",
     "text": [
      "/var/folders/6n/yywnll5x3_1cc4p34yq_4c_w0000gn/T/ipykernel_12592/2376448139.py:14: DeprecationWarning: executable_path has been deprecated, please pass in a Service object\n",
      "  driver = webdriver.Chrome(\"/opt/homebrew/bin/chromedriver\")\n"
     ]
    },
    {
     "data": {
      "text/html": [
       "<div>\n",
       "<style scoped>\n",
       "    .dataframe tbody tr th:only-of-type {\n",
       "        vertical-align: middle;\n",
       "    }\n",
       "\n",
       "    .dataframe tbody tr th {\n",
       "        vertical-align: top;\n",
       "    }\n",
       "\n",
       "    .dataframe thead th {\n",
       "        text-align: right;\n",
       "    }\n",
       "</style>\n",
       "<table border=\"1\" class=\"dataframe\">\n",
       "  <thead>\n",
       "    <tr style=\"text-align: right;\">\n",
       "      <th></th>\n",
       "      <th>title</th>\n",
       "      <th>distributor</th>\n",
       "      <th>genre</th>\n",
       "      <th>director</th>\n",
       "      <th>main_actor</th>\n",
       "    </tr>\n",
       "  </thead>\n",
       "  <tbody>\n",
       "    <tr>\n",
       "      <th>0</th>\n",
       "      <td>스파이더맨: 노 웨이 홈</td>\n",
       "      <td>소니 픽쳐스</td>\n",
       "      <td>액션</td>\n",
       "      <td>존 왓츠</td>\n",
       "      <td>톰 홀랜드</td>\n",
       "    </tr>\n",
       "    <tr>\n",
       "      <th>1</th>\n",
       "      <td>언차티드</td>\n",
       "      <td>소니 픽쳐스</td>\n",
       "      <td>액션</td>\n",
       "      <td>루벤 플레셔</td>\n",
       "      <td>톰 홀랜드</td>\n",
       "    </tr>\n",
       "    <tr>\n",
       "      <th>2</th>\n",
       "      <td>보스 베이비 2</td>\n",
       "      <td>유니버설 픽쳐스</td>\n",
       "      <td>애니메이션</td>\n",
       "      <td>톰 맥그래스</td>\n",
       "      <td>알렉 볼드윈</td>\n",
       "    </tr>\n",
       "    <tr>\n",
       "      <th>3</th>\n",
       "      <td>더 배트맨</td>\n",
       "      <td>워너브러더스 코리아㈜</td>\n",
       "      <td>액션</td>\n",
       "      <td>매트 리브스</td>\n",
       "      <td>로버트 패틴슨</td>\n",
       "    </tr>\n",
       "    <tr>\n",
       "      <th>4</th>\n",
       "      <td>극장판 짱구는 못말려: 격돌! 낙서왕국과 얼추 네 명의 용사들</td>\n",
       "      <td>CJ ENM</td>\n",
       "      <td>애니메이션</td>\n",
       "      <td>쿄고쿠 타카히코</td>\n",
       "      <td>박영남</td>\n",
       "    </tr>\n",
       "    <tr>\n",
       "      <th>5</th>\n",
       "      <td>보스 베이비</td>\n",
       "      <td>CJ ENM</td>\n",
       "      <td>애니메이션</td>\n",
       "      <td>톰 맥그래스</td>\n",
       "      <td>알렉 볼드윈</td>\n",
       "    </tr>\n",
       "    <tr>\n",
       "      <th>6</th>\n",
       "      <td>신비한 동물들과 그린델왈드의 범죄</td>\n",
       "      <td>워너브러더스 코리아㈜</td>\n",
       "      <td>판타지</td>\n",
       "      <td>데이빗 예이츠</td>\n",
       "      <td>에디 레드메인</td>\n",
       "    </tr>\n",
       "    <tr>\n",
       "      <th>7</th>\n",
       "      <td>드래곤 길들이기 3</td>\n",
       "      <td>유니버설픽쳐스인터내셔널 코리아(유)</td>\n",
       "      <td>애니메이션</td>\n",
       "      <td>딘 데블로이스</td>\n",
       "      <td>제이 바루첼</td>\n",
       "    </tr>\n",
       "    <tr>\n",
       "      <th>8</th>\n",
       "      <td>애프터: 관계의 함정</td>\n",
       "      <td>판씨네마㈜</td>\n",
       "      <td>드라마</td>\n",
       "      <td>캐스틸 랜던</td>\n",
       "      <td>조세핀 랭포드</td>\n",
       "    </tr>\n",
       "    <tr>\n",
       "      <th>9</th>\n",
       "      <td>트롤: 월드 투어</td>\n",
       "      <td>유니버설 픽쳐스</td>\n",
       "      <td>애니메이션</td>\n",
       "      <td>월트 돈</td>\n",
       "      <td>데이빗 P. 스미스</td>\n",
       "    </tr>\n",
       "  </tbody>\n",
       "</table>\n",
       "</div>"
      ],
      "text/plain": [
       "                                title          distributor  genre  director  \\\n",
       "0                       스파이더맨: 노 웨이 홈               소니 픽쳐스     액션      존 왓츠   \n",
       "1                                언차티드               소니 픽쳐스     액션    루벤 플레셔   \n",
       "2                            보스 베이비 2             유니버설 픽쳐스  애니메이션    톰 맥그래스   \n",
       "3                               더 배트맨          워너브러더스 코리아㈜     액션    매트 리브스   \n",
       "4  극장판 짱구는 못말려: 격돌! 낙서왕국과 얼추 네 명의 용사들               CJ ENM  애니메이션  쿄고쿠 타카히코   \n",
       "5                              보스 베이비               CJ ENM  애니메이션    톰 맥그래스   \n",
       "6                  신비한 동물들과 그린델왈드의 범죄          워너브러더스 코리아㈜    판타지   데이빗 예이츠   \n",
       "7                          드래곤 길들이기 3  유니버설픽쳐스인터내셔널 코리아(유)  애니메이션   딘 데블로이스   \n",
       "8                         애프터: 관계의 함정                판씨네마㈜    드라마    캐스틸 랜던   \n",
       "9                           트롤: 월드 투어             유니버설 픽쳐스  애니메이션      월트 돈   \n",
       "\n",
       "   main_actor  \n",
       "0       톰 홀랜드  \n",
       "1       톰 홀랜드  \n",
       "2      알렉 볼드윈  \n",
       "3     로버트 패틴슨  \n",
       "4         박영남  \n",
       "5      알렉 볼드윈  \n",
       "6     에디 레드메인  \n",
       "7      제이 바루첼  \n",
       "8     조세핀 랭포드  \n",
       "9  데이빗 P. 스미스  "
      ]
     },
     "metadata": {},
     "output_type": "display_data"
    },
    {
     "data": {
      "text/html": [
       "<div>\n",
       "<style scoped>\n",
       "    .dataframe tbody tr th:only-of-type {\n",
       "        vertical-align: middle;\n",
       "    }\n",
       "\n",
       "    .dataframe tbody tr th {\n",
       "        vertical-align: top;\n",
       "    }\n",
       "\n",
       "    .dataframe thead th {\n",
       "        text-align: right;\n",
       "    }\n",
       "</style>\n",
       "<table border=\"1\" class=\"dataframe\">\n",
       "  <thead>\n",
       "    <tr style=\"text-align: right;\">\n",
       "      <th></th>\n",
       "      <th>title</th>\n",
       "      <th>distributor</th>\n",
       "      <th>genre</th>\n",
       "      <th>director</th>\n",
       "      <th>main_actor</th>\n",
       "    </tr>\n",
       "  </thead>\n",
       "  <tbody>\n",
       "    <tr>\n",
       "      <th>0</th>\n",
       "      <td>스파이더맨: 노 웨이 홈</td>\n",
       "      <td>소니 픽쳐스</td>\n",
       "      <td>액션</td>\n",
       "      <td>존 왓츠</td>\n",
       "      <td>톰 홀랜드</td>\n",
       "    </tr>\n",
       "    <tr>\n",
       "      <th>1</th>\n",
       "      <td>언차티드</td>\n",
       "      <td>소니 픽쳐스</td>\n",
       "      <td>액션</td>\n",
       "      <td>루벤 플레셔</td>\n",
       "      <td>톰 홀랜드</td>\n",
       "    </tr>\n",
       "    <tr>\n",
       "      <th>2</th>\n",
       "      <td>보스 베이비 2</td>\n",
       "      <td>유니버설 픽쳐스</td>\n",
       "      <td>애니메이션</td>\n",
       "      <td>톰 맥그래스</td>\n",
       "      <td>알렉 볼드윈</td>\n",
       "    </tr>\n",
       "    <tr>\n",
       "      <th>3</th>\n",
       "      <td>더 배트맨</td>\n",
       "      <td>워너브러더스 코리아㈜</td>\n",
       "      <td>액션</td>\n",
       "      <td>매트 리브스</td>\n",
       "      <td>로버트 패틴슨</td>\n",
       "    </tr>\n",
       "    <tr>\n",
       "      <th>4</th>\n",
       "      <td>극장판 짱구는 못말려: 격돌! 낙서왕국과 얼추 네 명의 용사들</td>\n",
       "      <td>CJ ENM</td>\n",
       "      <td>애니메이션</td>\n",
       "      <td>쿄고쿠 타카히코</td>\n",
       "      <td>박영남</td>\n",
       "    </tr>\n",
       "    <tr>\n",
       "      <th>5</th>\n",
       "      <td>보스 베이비</td>\n",
       "      <td>CJ ENM</td>\n",
       "      <td>애니메이션</td>\n",
       "      <td>톰 맥그래스</td>\n",
       "      <td>알렉 볼드윈</td>\n",
       "    </tr>\n",
       "    <tr>\n",
       "      <th>6</th>\n",
       "      <td>신비한 동물들과 그린델왈드의 범죄</td>\n",
       "      <td>워너브러더스 코리아㈜</td>\n",
       "      <td>판타지</td>\n",
       "      <td>데이빗 예이츠</td>\n",
       "      <td>에디 레드메인</td>\n",
       "    </tr>\n",
       "    <tr>\n",
       "      <th>7</th>\n",
       "      <td>드래곤 길들이기 3</td>\n",
       "      <td>유니버설픽쳐스인터내셔널 코리아(유)</td>\n",
       "      <td>애니메이션</td>\n",
       "      <td>딘 데블로이스</td>\n",
       "      <td>제이 바루첼</td>\n",
       "    </tr>\n",
       "    <tr>\n",
       "      <th>8</th>\n",
       "      <td>애프터: 관계의 함정</td>\n",
       "      <td>판씨네마㈜</td>\n",
       "      <td>드라마</td>\n",
       "      <td>캐스틸 랜던</td>\n",
       "      <td>조세핀 랭포드</td>\n",
       "    </tr>\n",
       "    <tr>\n",
       "      <th>9</th>\n",
       "      <td>트롤: 월드 투어</td>\n",
       "      <td>유니버설 픽쳐스</td>\n",
       "      <td>애니메이션</td>\n",
       "      <td>월트 돈</td>\n",
       "      <td>데이빗 P. 스미스</td>\n",
       "    </tr>\n",
       "  </tbody>\n",
       "</table>\n",
       "</div>"
      ],
      "text/plain": [
       "                                title          distributor  genre  director  \\\n",
       "0                       스파이더맨: 노 웨이 홈               소니 픽쳐스     액션      존 왓츠   \n",
       "1                                언차티드               소니 픽쳐스     액션    루벤 플레셔   \n",
       "2                            보스 베이비 2             유니버설 픽쳐스  애니메이션    톰 맥그래스   \n",
       "3                               더 배트맨          워너브러더스 코리아㈜     액션    매트 리브스   \n",
       "4  극장판 짱구는 못말려: 격돌! 낙서왕국과 얼추 네 명의 용사들               CJ ENM  애니메이션  쿄고쿠 타카히코   \n",
       "5                              보스 베이비               CJ ENM  애니메이션    톰 맥그래스   \n",
       "6                  신비한 동물들과 그린델왈드의 범죄          워너브러더스 코리아㈜    판타지   데이빗 예이츠   \n",
       "7                          드래곤 길들이기 3  유니버설픽쳐스인터내셔널 코리아(유)  애니메이션   딘 데블로이스   \n",
       "8                         애프터: 관계의 함정                판씨네마㈜    드라마    캐스틸 랜던   \n",
       "9                           트롤: 월드 투어             유니버설 픽쳐스  애니메이션      월트 돈   \n",
       "\n",
       "   main_actor  \n",
       "0       톰 홀랜드  \n",
       "1       톰 홀랜드  \n",
       "2      알렉 볼드윈  \n",
       "3     로버트 패틴슨  \n",
       "4         박영남  \n",
       "5      알렉 볼드윈  \n",
       "6     에디 레드메인  \n",
       "7      제이 바루첼  \n",
       "8     조세핀 랭포드  \n",
       "9  데이빗 P. 스미스  "
      ]
     },
     "metadata": {},
     "output_type": "display_data"
    }
   ],
   "source": [
    "from selenium import webdriver\n",
    "from bs4 import BeautifulSoup as bs\n",
    "from urllib.parse import quote\n",
    "import requests\n",
    "import time\n",
    "import pandas as pd\n",
    "import re\n",
    "import csv\n",
    "import ssl\n",
    "import time\n",
    "ssl._create_default_https_context = ssl._create_unverified_context\n",
    "\n",
    "\n",
    "driver = webdriver.Chrome(\"/opt/homebrew/bin/chromedriver\")\n",
    "# driver = webdriver.Chrome(\"c:/pydata/chromedriver\")\n",
    "review_data=[]\n",
    "\n",
    "kakaopage=[146656,61476,143722,110137,144508,107497,111490,121982,150296,122296]\n",
    "\n",
    "for k in kakaopage:\n",
    "    driver.get(\"https://movie.daum.net/moviedb/crew?movieId=\"+str(k))\n",
    "    #driver.execute_script(\"window.scrollTo(0, 53)\") \n",
    "    time.sleep(3)\n",
    "    html = driver.page_source\n",
    "    soup=bs(html,\"html.parser\")\n",
    "    \n",
    "    # 영화제목\n",
    "    title=soup.find(\"span\",class_='txt_tit').text\n",
    "    \n",
    "    # 주장르\n",
    "    genre=soup.find_all(\"dl\",class_=\"list_cont\")[1]\n",
    "    genres=genre.text.replace(\"\\n\",\"\").split(\"/\")[0]\n",
    "    genre=genres.replace(\"장르\",\"\")\n",
    "    \n",
    "    # 주연배우\n",
    "    mainactor_soup=soup.find_all(\"div\", class_=\"item_crew\")\n",
    "    main_actor=mainactor_soup[1].find(\"strong\", class_=\"tit_item\")\n",
    "    \n",
    "    try:\n",
    "        main_actor=main_actor.text.strip()\n",
    "            \n",
    "    except AttributeError as err:\n",
    "         main_actor=\"주연배우미상\"\n",
    "             \n",
    "    # 감독\n",
    "    director_soup=soup.find(\"div\",class_=\"item_crew\")\n",
    "    director=director_soup.find(\"a\",class_=\"link_txt\").text\n",
    "#     print(director)\n",
    "    \n",
    "    # 배급사\n",
    "    distributor_soup=soup.find_all(\"dl\",class_=\"list_produce\")[-2]\n",
    "    distributors=distributor_soup.find(\"a\", class_=\"link_txt\").text\n",
    "    \n",
    "  \n",
    "    review_data.append([title,distributors,genre,director,main_actor])\n",
    "\n",
    "driver.close()\n",
    "        \n",
    "df=pd.DataFrame(review_data,columns=[\"title\",\"distributor\",\"genre\",\"director\",\"main_actor\"])\n",
    "display(df.head(10))\n",
    "display(df.tail(10))\n",
    "\n",
    "df.to_csv(\"./kakaopageranking_test.csv\",header=True,index=False,encoding=\"utf8\")\n",
    "# df.to_excel(\"./kakaopagerank_test.xlsx\",header=True,index=False)\n",
    "\n",
    "# print(\"작업이 완료되었습니다.\")"
   ]
  },
  {
   "cell_type": "code",
   "execution_count": 33,
   "id": "743ebb62",
   "metadata": {},
   "outputs": [
    {
     "name": "stdout",
     "output_type": "stream",
     "text": [
      "3521\r\n",
      "3521.pub\r\n",
      "\u001b[34mApplications\u001b[m\u001b[m\r\n",
      "Daum_Score_kakaopage.csv\r\n",
      "Daum_Score_kakaopage.xlsx\r\n",
      "\u001b[34mDesktop\u001b[m\u001b[m\r\n",
      "\u001b[34mDocuments\u001b[m\u001b[m\r\n",
      "\u001b[34mDownloads\u001b[m\u001b[m\r\n",
      "Kakao_rank.txt\r\n",
      "\u001b[34mLibrary\u001b[m\u001b[m\r\n",
      "\u001b[34mMovies\u001b[m\u001b[m\r\n",
      "\u001b[34mMusic\u001b[m\u001b[m\r\n",
      "New_age.xlsx\r\n",
      "\u001b[34mPictures\u001b[m\u001b[m\r\n",
      "\u001b[34mPublic\u001b[m\u001b[m\r\n",
      "\u001b[34mPycharmProjects\u001b[m\u001b[m\r\n",
      "README.md\r\n",
      "Reviews_KaKao.xlsx\r\n",
      "Untitled.ipynb\r\n",
      "Untitled1.ipynb\r\n",
      "Untitled2.ipynb\r\n",
      "Untitled3.ipynb\r\n",
      "Untitled4.ipynb\r\n",
      "Untitled5.ipynb\r\n",
      "Untitled6.ipynb\r\n",
      "\u001b[34mbuild\u001b[m\u001b[m\r\n",
      "daum.csv\r\n",
      "daum.txt\r\n",
      "\u001b[34mdir\u001b[m\u001b[m\r\n",
      "expected_test.csv\r\n",
      "expected_test.xlsx\r\n",
      "final.csv\r\n",
      "gh.csv\r\n",
      "ho.csv\r\n",
      "kakaopagerank_test.csv\r\n",
      "kka.csv\r\n",
      "kka.xlsx\r\n",
      "\u001b[34mlocal_directory\u001b[m\u001b[m\r\n",
      "\u001b[34mmachinelearning\u001b[m\u001b[m\r\n",
      "\u001b[34mminiforge3\u001b[m\u001b[m\r\n",
      "\u001b[34mnltk_data\u001b[m\u001b[m\r\n",
      "\u001b[34mopt\u001b[m\u001b[m\r\n",
      "oyster.csv\r\n",
      "samples.csv\r\n",
      "search_reviews.RData\r\n",
      "test.txt\r\n",
      "\u001b[34mtest3\u001b[m\u001b[m\r\n",
      "train.csv\r\n",
      "다음 제목 평점 리뷰 크롤링.ipynb\r\n",
      "다음 평점 리뷰.ipynb\r\n",
      "다음 영화 순위별 평점 리뷰.ipynb\r\n",
      "리뷰_concat.csv\r\n",
      "리뷰_긍부정 분석.ipynb\r\n",
      "리뷰_긍부정분석_TextBlob.ipynb\r\n",
      "배급사.ipynb\r\n",
      "다음영화 정보.ipynb\r\n",
      "뉴에이지 다음리뷰 완성.ipynb\r\n",
      "레이블링데이터_concat.txt\r\n",
      "레이블링학습데이터.txt\r\n",
      "레이블링학습데이터_2만6천.txt\r\n",
      "레이블링테스트데이터.txt\r\n",
      "레이블링테스트데이터_2만6천.txt\r\n",
      "다음영화평점리뷰(총).txt\r\n"
     ]
    }
   ],
   "source": [
    "!ls"
   ]
  },
  {
   "cell_type": "code",
   "execution_count": 49,
   "id": "118d1d48",
   "metadata": {},
   "outputs": [
    {
     "data": {
      "text/plain": [
       "'/Users/wellekim'"
      ]
     },
     "execution_count": 49,
     "metadata": {},
     "output_type": "execute_result"
    }
   ],
   "source": [
    "pwd!"
   ]
  },
  {
   "cell_type": "code",
   "execution_count": 66,
   "id": "75899749",
   "metadata": {},
   "outputs": [],
   "source": [
    "import pandas as pd"
   ]
  },
  {
   "cell_type": "code",
   "execution_count": 67,
   "id": "9fad8537",
   "metadata": {},
   "outputs": [],
   "source": [
    "naver_df=pd.read_csv(\"Main_actor_test.csv\")\n",
    "naver_df=naver_df.drop(columns=['Unnamed: 0'],axis=1)\n",
    "daum_df=pd.read_csv(\"kakaopageranking_test.csv\")"
   ]
  },
  {
   "cell_type": "code",
   "execution_count": 100,
   "id": "42e683a2",
   "metadata": {},
   "outputs": [
    {
     "data": {
      "text/html": [
       "<div>\n",
       "<style scoped>\n",
       "    .dataframe tbody tr th:only-of-type {\n",
       "        vertical-align: middle;\n",
       "    }\n",
       "\n",
       "    .dataframe tbody tr th {\n",
       "        vertical-align: top;\n",
       "    }\n",
       "\n",
       "    .dataframe thead th {\n",
       "        text-align: right;\n",
       "    }\n",
       "</style>\n",
       "<table border=\"1\" class=\"dataframe\">\n",
       "  <thead>\n",
       "    <tr style=\"text-align: right;\">\n",
       "      <th></th>\n",
       "      <th>title</th>\n",
       "      <th>distributor</th>\n",
       "      <th>genre</th>\n",
       "      <th>director</th>\n",
       "      <th>main_actor</th>\n",
       "    </tr>\n",
       "  </thead>\n",
       "  <tbody>\n",
       "    <tr>\n",
       "      <th>0</th>\n",
       "      <td>용서는 없다</td>\n",
       "      <td>시네마서비스</td>\n",
       "      <td>느와르</td>\n",
       "      <td>김형준</td>\n",
       "      <td>설경구</td>\n",
       "    </tr>\n",
       "    <tr>\n",
       "      <th>1</th>\n",
       "      <td>아빠가 여자를 좋아해</td>\n",
       "      <td>쇼박스</td>\n",
       "      <td>멜로/로맨스</td>\n",
       "      <td>이광재</td>\n",
       "      <td>이나영</td>\n",
       "    </tr>\n",
       "    <tr>\n",
       "      <th>2</th>\n",
       "      <td>하모니</td>\n",
       "      <td>CJ</td>\n",
       "      <td>드라마</td>\n",
       "      <td>강대규</td>\n",
       "      <td>NaN</td>\n",
       "    </tr>\n",
       "    <tr>\n",
       "      <th>3</th>\n",
       "      <td>의형제</td>\n",
       "      <td>쇼박스</td>\n",
       "      <td>액션</td>\n",
       "      <td>장훈</td>\n",
       "      <td>송강호</td>\n",
       "    </tr>\n",
       "    <tr>\n",
       "      <th>4</th>\n",
       "      <td>평행 이론</td>\n",
       "      <td>CJ</td>\n",
       "      <td>공포</td>\n",
       "      <td>권호영</td>\n",
       "      <td>NaN</td>\n",
       "    </tr>\n",
       "    <tr>\n",
       "      <th>5</th>\n",
       "      <td>회오리 바람</td>\n",
       "      <td>모쿠슈라</td>\n",
       "      <td>드라마</td>\n",
       "      <td>장건재</td>\n",
       "      <td>서준영</td>\n",
       "    </tr>\n",
       "    <tr>\n",
       "      <th>6</th>\n",
       "      <td>경계도시 2</td>\n",
       "      <td>시네마달</td>\n",
       "      <td>다큐멘터리</td>\n",
       "      <td>홍형숙</td>\n",
       "      <td>송두율</td>\n",
       "    </tr>\n",
       "    <tr>\n",
       "      <th>7</th>\n",
       "      <td>이웃집 남자</td>\n",
       "      <td>루믹스미디어</td>\n",
       "      <td>드라마</td>\n",
       "      <td>장동홍</td>\n",
       "      <td>윤제문</td>\n",
       "    </tr>\n",
       "    <tr>\n",
       "      <th>8</th>\n",
       "      <td>아마존의 눈물 극장판</td>\n",
       "      <td>마운틴픽처스</td>\n",
       "      <td>다큐멘터리</td>\n",
       "      <td>김진만</td>\n",
       "      <td>김남길</td>\n",
       "    </tr>\n",
       "    <tr>\n",
       "      <th>9</th>\n",
       "      <td>반가운 살인자</td>\n",
       "      <td>롯데쇼핑롯데엔터테인먼트</td>\n",
       "      <td>코미디</td>\n",
       "      <td>김동욱</td>\n",
       "      <td>유오성</td>\n",
       "    </tr>\n",
       "  </tbody>\n",
       "</table>\n",
       "</div>"
      ],
      "text/plain": [
       "         title   distributor   genre director main_actor\n",
       "0       용서는 없다        시네마서비스     느와르      김형준        설경구\n",
       "1  아빠가 여자를 좋아해           쇼박스  멜로/로맨스      이광재        이나영\n",
       "2          하모니            CJ     드라마      강대규        NaN\n",
       "3          의형제           쇼박스      액션       장훈        송강호\n",
       "4        평행 이론            CJ      공포      권호영        NaN\n",
       "5       회오리 바람          모쿠슈라     드라마      장건재        서준영\n",
       "6       경계도시 2          시네마달   다큐멘터리      홍형숙        송두율\n",
       "7       이웃집 남자        루믹스미디어     드라마      장동홍        윤제문\n",
       "8  아마존의 눈물 극장판        마운틴픽처스   다큐멘터리      김진만        김남길\n",
       "9      반가운 살인자  롯데쇼핑롯데엔터테인먼트     코미디      김동욱        유오성"
      ]
     },
     "execution_count": 100,
     "metadata": {},
     "output_type": "execute_result"
    }
   ],
   "source": [
    "naver_df=naver_df.head(10)\n",
    "naver_df"
   ]
  },
  {
   "cell_type": "code",
   "execution_count": 112,
   "id": "92b07386",
   "metadata": {},
   "outputs": [
    {
     "data": {
      "text/html": [
       "<div>\n",
       "<style scoped>\n",
       "    .dataframe tbody tr th:only-of-type {\n",
       "        vertical-align: middle;\n",
       "    }\n",
       "\n",
       "    .dataframe tbody tr th {\n",
       "        vertical-align: top;\n",
       "    }\n",
       "\n",
       "    .dataframe thead th {\n",
       "        text-align: right;\n",
       "    }\n",
       "</style>\n",
       "<table border=\"1\" class=\"dataframe\">\n",
       "  <thead>\n",
       "    <tr style=\"text-align: right;\">\n",
       "      <th></th>\n",
       "      <th>title</th>\n",
       "      <th>distributor</th>\n",
       "      <th>genre</th>\n",
       "      <th>director</th>\n",
       "      <th>main_actor</th>\n",
       "    </tr>\n",
       "  </thead>\n",
       "  <tbody>\n",
       "    <tr>\n",
       "      <th>0</th>\n",
       "      <td>용서는 없다</td>\n",
       "      <td>시네마서비스</td>\n",
       "      <td>느와르</td>\n",
       "      <td>김형준</td>\n",
       "      <td>설경구</td>\n",
       "    </tr>\n",
       "    <tr>\n",
       "      <th>1</th>\n",
       "      <td>아빠가 여자를 좋아해</td>\n",
       "      <td>쇼박스</td>\n",
       "      <td>멜로/로맨스</td>\n",
       "      <td>이광재</td>\n",
       "      <td>이나영</td>\n",
       "    </tr>\n",
       "    <tr>\n",
       "      <th>2</th>\n",
       "      <td>하모니</td>\n",
       "      <td>CJ</td>\n",
       "      <td>드라마</td>\n",
       "      <td>강대규</td>\n",
       "      <td>미상</td>\n",
       "    </tr>\n",
       "    <tr>\n",
       "      <th>3</th>\n",
       "      <td>의형제</td>\n",
       "      <td>쇼박스</td>\n",
       "      <td>액션</td>\n",
       "      <td>장훈</td>\n",
       "      <td>송강호</td>\n",
       "    </tr>\n",
       "    <tr>\n",
       "      <th>4</th>\n",
       "      <td>평행 이론</td>\n",
       "      <td>CJ</td>\n",
       "      <td>공포</td>\n",
       "      <td>권호영</td>\n",
       "      <td>미상</td>\n",
       "    </tr>\n",
       "    <tr>\n",
       "      <th>5</th>\n",
       "      <td>회오리 바람</td>\n",
       "      <td>모쿠슈라</td>\n",
       "      <td>드라마</td>\n",
       "      <td>장건재</td>\n",
       "      <td>서준영</td>\n",
       "    </tr>\n",
       "    <tr>\n",
       "      <th>6</th>\n",
       "      <td>경계도시 2</td>\n",
       "      <td>시네마달</td>\n",
       "      <td>다큐멘터리</td>\n",
       "      <td>홍형숙</td>\n",
       "      <td>송두율</td>\n",
       "    </tr>\n",
       "    <tr>\n",
       "      <th>7</th>\n",
       "      <td>이웃집 남자</td>\n",
       "      <td>루믹스미디어</td>\n",
       "      <td>드라마</td>\n",
       "      <td>장동홍</td>\n",
       "      <td>윤제문</td>\n",
       "    </tr>\n",
       "    <tr>\n",
       "      <th>8</th>\n",
       "      <td>아마존의 눈물 극장판</td>\n",
       "      <td>마운틴픽처스</td>\n",
       "      <td>다큐멘터리</td>\n",
       "      <td>김진만</td>\n",
       "      <td>김남길</td>\n",
       "    </tr>\n",
       "    <tr>\n",
       "      <th>9</th>\n",
       "      <td>반가운 살인자</td>\n",
       "      <td>롯데쇼핑롯데엔터테인먼트</td>\n",
       "      <td>코미디</td>\n",
       "      <td>김동욱</td>\n",
       "      <td>유오성</td>\n",
       "    </tr>\n",
       "  </tbody>\n",
       "</table>\n",
       "</div>"
      ],
      "text/plain": [
       "         title   distributor   genre director main_actor\n",
       "0       용서는 없다        시네마서비스     느와르      김형준        설경구\n",
       "1  아빠가 여자를 좋아해           쇼박스  멜로/로맨스      이광재        이나영\n",
       "2          하모니            CJ     드라마      강대규         미상\n",
       "3          의형제           쇼박스      액션       장훈        송강호\n",
       "4        평행 이론            CJ      공포      권호영         미상\n",
       "5       회오리 바람          모쿠슈라     드라마      장건재        서준영\n",
       "6       경계도시 2          시네마달   다큐멘터리      홍형숙        송두율\n",
       "7       이웃집 남자        루믹스미디어     드라마      장동홍        윤제문\n",
       "8  아마존의 눈물 극장판        마운틴픽처스   다큐멘터리      김진만        김남길\n",
       "9      반가운 살인자  롯데쇼핑롯데엔터테인먼트     코미디      김동욱        유오성"
      ]
     },
     "execution_count": 112,
     "metadata": {},
     "output_type": "execute_result"
    }
   ],
   "source": [
    "naver_df=naver_df.fillna(\"미상\")\n",
    "naver_df"
   ]
  },
  {
   "cell_type": "code",
   "execution_count": 107,
   "id": "824ac282",
   "metadata": {},
   "outputs": [
    {
     "name": "stdout",
     "output_type": "stream",
     "text": [
      "<FreqDist with 5 samples and 5 outcomes>\n"
     ]
    }
   ],
   "source": [
    "from nltk import FreqDist\n",
    "import numpy as np\n",
    "\n",
    "vocab=FreqDist(np.hstack(naver_df))\n",
    "print(vocab)"
   ]
  },
  {
   "cell_type": "code",
   "execution_count": 108,
   "id": "fb810fdf",
   "metadata": {},
   "outputs": [
    {
     "name": "stdout",
     "output_type": "stream",
     "text": [
      "{'title': 1, 'distributor': 2, 'genre': 3, 'director': 4, 'main_actor': 5}\n"
     ]
    }
   ],
   "source": [
    "vocab_size=5\n",
    "vocab=vocab.most_common(vocab_size)\n",
    "\n",
    "word_to_index={word[0]:index+1 for index,word in enumerate(vocab)}\n",
    "print(word_to_index)"
   ]
  },
  {
   "cell_type": "code",
   "execution_count": 114,
   "id": "32e2f78d",
   "metadata": {},
   "outputs": [],
   "source": [
    "from sklearn.preprocessing import LabelEncoder"
   ]
  },
  {
   "cell_type": "code",
   "execution_count": 125,
   "id": "f449b005",
   "metadata": {},
   "outputs": [
    {
     "name": "stdout",
     "output_type": "stream",
     "text": [
      "[1 4 3 5 0 3 2 3 2 6]\n"
     ]
    }
   ],
   "source": [
    "# 라벨 인코더 생성\n",
    "encoder = LabelEncoder()\n",
    "\n",
    "# X_train데이터를 이용 피팅하고 라벨숫자로 변환한다\n",
    "encoder.fit(naver_df[\"genre\"])\n",
    "X_train_encoded = encoder.transform(naver_df[\"genre\"])\n",
    "print(X_train_encoded)\n",
    "# X_test데이터에만 존재하는 새로 출현한 데이터를 신규 클래스로 추가한다 (중요!!!)\n",
    "for label in np.unique(naver_df[\"genre\"]):\n",
    "    if label not in encoder.classes_: # unseen label 데이터인 경우( )\n",
    "        encoder.classes_ = np.append(encoder.classes_, label) # 미처리 시 ValueError발생\n",
    "X_test_encoded = encoder.transform(naver_df[\"genre\"])\n",
    "X_test_encoded\n",
    "\n",
    "val=pd.DataFrame()\n",
    "val['genre_lab']=X_test_encoded"
   ]
  },
  {
   "cell_type": "code",
   "execution_count": 126,
   "id": "cf478194",
   "metadata": {},
   "outputs": [
    {
     "name": "stdout",
     "output_type": "stream",
     "text": [
      "[4 5 0 8 1 6 9 7 3 2]\n"
     ]
    }
   ],
   "source": [
    "# 라벨 인코더 생성\n",
    "encoder = LabelEncoder()\n",
    "\n",
    "# X_train데이터를 이용 피팅하고 라벨숫자로 변환한다\n",
    "encoder.fit(naver_df[\"director\"])\n",
    "X_train_encoded = encoder.transform(naver_df[\"director\"])\n",
    "print(X_train_encoded)\n",
    "# X_test데이터에만 존재하는 새로 출현한 데이터를 신규 클래스로 추가한다 (중요!!!)\n",
    "for label in np.unique(naver_df[\"director\"]):\n",
    "    if label not in encoder.classes_: # unseen label 데이터인 경우( )\n",
    "        encoder.classes_ = np.append(encoder.classes_, label) # 미처리 시 ValueError발생\n",
    "X_test_encoded = encoder.transform(naver_df[\"director\"])\n",
    "X_test_encoded\n",
    "\n",
    "# val=pd.DataFrame()\n",
    "val['director_lab']=X_test_encoded"
   ]
  },
  {
   "cell_type": "code",
   "execution_count": 130,
   "id": "38c35834",
   "metadata": {},
   "outputs": [
    {
     "name": "stdout",
     "output_type": "stream",
     "text": [
      "[3 8 1 4 1 2 5 7 0 6]\n"
     ]
    }
   ],
   "source": [
    "# 라벨 인코더 생성\n",
    "encoder = LabelEncoder()\n",
    "\n",
    "# X_train데이터를 이용 피팅하고 라벨숫자로 변환한다\n",
    "encoder.fit(naver_df[\"main_actor\"])\n",
    "X_train_encoded = encoder.transform(naver_df[\"main_actor\"])\n",
    "print(X_train_encoded)\n",
    "# X_test데이터에만 존재하는 새로 출현한 데이터를 신규 클래스로 추가한다 (중요!!!)\n",
    "for label in np.unique(naver_df[\"main_actor\"]):\n",
    "    if label not in encoder.classes_: # unseen label 데이터인 경우( )\n",
    "        encoder.classes_ = np.append(encoder.classes_, label) # 미처리 시 ValueError발생\n",
    "X_test_encoded = encoder.transform(naver_df[\"main_actor\"])\n",
    "X_test_encoded\n",
    "\n",
    "# val=pd.DataFrame()\n",
    "val['main_actor_lab']=X_test_encoded"
   ]
  },
  {
   "cell_type": "code",
   "execution_count": 131,
   "id": "937044c8",
   "metadata": {},
   "outputs": [
    {
     "data": {
      "text/html": [
       "<div>\n",
       "<style scoped>\n",
       "    .dataframe tbody tr th:only-of-type {\n",
       "        vertical-align: middle;\n",
       "    }\n",
       "\n",
       "    .dataframe tbody tr th {\n",
       "        vertical-align: top;\n",
       "    }\n",
       "\n",
       "    .dataframe thead th {\n",
       "        text-align: right;\n",
       "    }\n",
       "</style>\n",
       "<table border=\"1\" class=\"dataframe\">\n",
       "  <thead>\n",
       "    <tr style=\"text-align: right;\">\n",
       "      <th></th>\n",
       "      <th>genre_lab</th>\n",
       "      <th>director_lab</th>\n",
       "      <th>main_actor_lab</th>\n",
       "    </tr>\n",
       "  </thead>\n",
       "  <tbody>\n",
       "    <tr>\n",
       "      <th>0</th>\n",
       "      <td>1</td>\n",
       "      <td>4</td>\n",
       "      <td>3</td>\n",
       "    </tr>\n",
       "    <tr>\n",
       "      <th>1</th>\n",
       "      <td>4</td>\n",
       "      <td>5</td>\n",
       "      <td>8</td>\n",
       "    </tr>\n",
       "    <tr>\n",
       "      <th>2</th>\n",
       "      <td>3</td>\n",
       "      <td>0</td>\n",
       "      <td>1</td>\n",
       "    </tr>\n",
       "    <tr>\n",
       "      <th>3</th>\n",
       "      <td>5</td>\n",
       "      <td>8</td>\n",
       "      <td>4</td>\n",
       "    </tr>\n",
       "    <tr>\n",
       "      <th>4</th>\n",
       "      <td>0</td>\n",
       "      <td>1</td>\n",
       "      <td>1</td>\n",
       "    </tr>\n",
       "    <tr>\n",
       "      <th>5</th>\n",
       "      <td>3</td>\n",
       "      <td>6</td>\n",
       "      <td>2</td>\n",
       "    </tr>\n",
       "    <tr>\n",
       "      <th>6</th>\n",
       "      <td>2</td>\n",
       "      <td>9</td>\n",
       "      <td>5</td>\n",
       "    </tr>\n",
       "    <tr>\n",
       "      <th>7</th>\n",
       "      <td>3</td>\n",
       "      <td>7</td>\n",
       "      <td>7</td>\n",
       "    </tr>\n",
       "    <tr>\n",
       "      <th>8</th>\n",
       "      <td>2</td>\n",
       "      <td>3</td>\n",
       "      <td>0</td>\n",
       "    </tr>\n",
       "    <tr>\n",
       "      <th>9</th>\n",
       "      <td>6</td>\n",
       "      <td>2</td>\n",
       "      <td>6</td>\n",
       "    </tr>\n",
       "  </tbody>\n",
       "</table>\n",
       "</div>"
      ],
      "text/plain": [
       "   genre_lab  director_lab  main_actor_lab\n",
       "0          1             4               3\n",
       "1          4             5               8\n",
       "2          3             0               1\n",
       "3          5             8               4\n",
       "4          0             1               1\n",
       "5          3             6               2\n",
       "6          2             9               5\n",
       "7          3             7               7\n",
       "8          2             3               0\n",
       "9          6             2               6"
      ]
     },
     "execution_count": 131,
     "metadata": {},
     "output_type": "execute_result"
    }
   ],
   "source": [
    "val"
   ]
  },
  {
   "cell_type": "code",
   "execution_count": 132,
   "id": "d24a4ca2",
   "metadata": {},
   "outputs": [
    {
     "name": "stdout",
     "output_type": "stream",
     "text": [
      "                genre_lab  director_lab  main_actor_lab\n",
      "genre_lab        1.000000      0.174078        0.534227\n",
      "director_lab     0.174078      1.000000        0.486959\n",
      "main_actor_lab   0.534227      0.486959        1.000000\n"
     ]
    }
   ],
   "source": [
    "corr=val.corr()\n",
    "print(corr)\n",
    "\n",
    "#1에 가까우면 상관이 있음, 0에 가까우면 상관이 없음, -면 상관관계가 반대임 "
   ]
  },
  {
   "cell_type": "code",
   "execution_count": 133,
   "id": "fa9432d6",
   "metadata": {},
   "outputs": [
    {
     "name": "stdout",
     "output_type": "stream",
     "text": [
      "[2 2 1 2 1 1 3 1 0 1]\n"
     ]
    }
   ],
   "source": [
    "# 라벨 인코더 생성\n",
    "encoder = LabelEncoder()\n",
    "\n",
    "# X_train데이터를 이용 피팅하고 라벨숫자로 변환한다\n",
    "encoder.fit(daum_df[\"genre\"])\n",
    "X_train_encoded = encoder.transform(daum_df[\"genre\"])\n",
    "print(X_train_encoded)\n",
    "# X_test데이터에만 존재하는 새로 출현한 데이터를 신규 클래스로 추가한다 (중요!!!)\n",
    "for label in np.unique(daum_df[\"genre\"]):\n",
    "    if label not in encoder.classes_: # unseen label 데이터인 경우( )\n",
    "        encoder.classes_ = np.append(encoder.classes_, label) # 미처리 시 ValueError발생\n",
    "X_test_encoded = encoder.transform(daum_df[\"genre\"])\n",
    "X_test_encoded\n",
    "\n",
    "yal=pd.DataFrame()\n",
    "yal['genre_lab']=X_test_encoded"
   ]
  },
  {
   "cell_type": "code",
   "execution_count": 137,
   "id": "ac67f597",
   "metadata": {},
   "outputs": [
    {
     "name": "stdout",
     "output_type": "stream",
     "text": [
      "[7 7 3 1 2 3 4 5 6 0]\n"
     ]
    }
   ],
   "source": [
    "# 라벨 인코더 생성\n",
    "encoder = LabelEncoder()\n",
    "\n",
    "# X_train데이터를 이용 피팅하고 라벨숫자로 변환한다\n",
    "encoder.fit(daum_df[\"main_actor\"])\n",
    "X_train_encoded = encoder.transform(daum_df[\"main_actor\"])\n",
    "print(X_train_encoded)\n",
    "# X_test데이터에만 존재하는 새로 출현한 데이터를 신규 클래스로 추가한다 (중요!!!)\n",
    "for label in np.unique(daum_df[\"main_actor\"]):\n",
    "    if label not in encoder.classes_: # unseen label 데이터인 경우( )\n",
    "        encoder.classes_ = np.append(encoder.classes_, label) # 미처리 시 ValueError발생\n",
    "X_test_encoded = encoder.transform(daum_df[\"main_actor\"])\n",
    "X_test_encoded\n",
    "\n",
    "# yal=pd.DataFrame()\n",
    "yal['main_actor_lab']=X_test_encoded"
   ]
  },
  {
   "cell_type": "code",
   "execution_count": 138,
   "id": "96f70aa9",
   "metadata": {},
   "outputs": [
    {
     "data": {
      "text/html": [
       "<div>\n",
       "<style scoped>\n",
       "    .dataframe tbody tr th:only-of-type {\n",
       "        vertical-align: middle;\n",
       "    }\n",
       "\n",
       "    .dataframe tbody tr th {\n",
       "        vertical-align: top;\n",
       "    }\n",
       "\n",
       "    .dataframe thead th {\n",
       "        text-align: right;\n",
       "    }\n",
       "</style>\n",
       "<table border=\"1\" class=\"dataframe\">\n",
       "  <thead>\n",
       "    <tr style=\"text-align: right;\">\n",
       "      <th></th>\n",
       "      <th>genre_lab</th>\n",
       "      <th>director_lab</th>\n",
       "      <th>main_actor_lab</th>\n",
       "    </tr>\n",
       "  </thead>\n",
       "  <tbody>\n",
       "    <tr>\n",
       "      <th>0</th>\n",
       "      <td>2</td>\n",
       "      <td>5</td>\n",
       "      <td>7</td>\n",
       "    </tr>\n",
       "    <tr>\n",
       "      <th>1</th>\n",
       "      <td>2</td>\n",
       "      <td>2</td>\n",
       "      <td>7</td>\n",
       "    </tr>\n",
       "    <tr>\n",
       "      <th>2</th>\n",
       "      <td>1</td>\n",
       "      <td>8</td>\n",
       "      <td>3</td>\n",
       "    </tr>\n",
       "    <tr>\n",
       "      <th>3</th>\n",
       "      <td>2</td>\n",
       "      <td>3</td>\n",
       "      <td>1</td>\n",
       "    </tr>\n",
       "    <tr>\n",
       "      <th>4</th>\n",
       "      <td>1</td>\n",
       "      <td>7</td>\n",
       "      <td>2</td>\n",
       "    </tr>\n",
       "    <tr>\n",
       "      <th>5</th>\n",
       "      <td>1</td>\n",
       "      <td>8</td>\n",
       "      <td>3</td>\n",
       "    </tr>\n",
       "    <tr>\n",
       "      <th>6</th>\n",
       "      <td>3</td>\n",
       "      <td>0</td>\n",
       "      <td>4</td>\n",
       "    </tr>\n",
       "    <tr>\n",
       "      <th>7</th>\n",
       "      <td>1</td>\n",
       "      <td>1</td>\n",
       "      <td>5</td>\n",
       "    </tr>\n",
       "    <tr>\n",
       "      <th>8</th>\n",
       "      <td>0</td>\n",
       "      <td>6</td>\n",
       "      <td>6</td>\n",
       "    </tr>\n",
       "    <tr>\n",
       "      <th>9</th>\n",
       "      <td>1</td>\n",
       "      <td>4</td>\n",
       "      <td>0</td>\n",
       "    </tr>\n",
       "  </tbody>\n",
       "</table>\n",
       "</div>"
      ],
      "text/plain": [
       "   genre_lab  director_lab  main_actor_lab\n",
       "0          2             5               7\n",
       "1          2             2               7\n",
       "2          1             8               3\n",
       "3          2             3               1\n",
       "4          1             7               2\n",
       "5          1             8               3\n",
       "6          3             0               4\n",
       "7          1             1               5\n",
       "8          0             6               6\n",
       "9          1             4               0"
      ]
     },
     "execution_count": 138,
     "metadata": {},
     "output_type": "execute_result"
    }
   ],
   "source": [
    "yal"
   ]
  },
  {
   "cell_type": "code",
   "execution_count": 139,
   "id": "cee12d2e",
   "metadata": {},
   "outputs": [
    {
     "name": "stdout",
     "output_type": "stream",
     "text": [
      "                genre_lab  director_lab  main_actor_lab\n",
      "genre_lab        1.000000     -0.623250        0.097185\n",
      "director_lab    -0.623250      1.000000       -0.193193\n",
      "main_actor_lab   0.097185     -0.193193        1.000000\n"
     ]
    }
   ],
   "source": [
    "corr=yal.corr()\n",
    "print(corr)"
   ]
  },
  {
   "cell_type": "code",
   "execution_count": 87,
   "id": "f32c392c",
   "metadata": {},
   "outputs": [
    {
     "data": {
      "text/plain": [
       "Index(['title', 'distributor', 'genre', 'director', 'main_actor'], dtype='object')"
      ]
     },
     "execution_count": 87,
     "metadata": {},
     "output_type": "execute_result"
    }
   ],
   "source": [
    "naver_df.keys()"
   ]
  },
  {
   "cell_type": "code",
   "execution_count": 88,
   "id": "cba4dd7b",
   "metadata": {},
   "outputs": [
    {
     "data": {
      "text/plain": [
       "(10, 5)"
      ]
     },
     "execution_count": 88,
     "metadata": {},
     "output_type": "execute_result"
    }
   ],
   "source": [
    "naver_df.shape"
   ]
  },
  {
   "cell_type": "code",
   "execution_count": 92,
   "id": "853f0eb4",
   "metadata": {},
   "outputs": [
    {
     "data": {
      "text/plain": [
       "(10,)"
      ]
     },
     "execution_count": 92,
     "metadata": {},
     "output_type": "execute_result"
    }
   ],
   "source": [
    "naver_df[\"distributor\"].shape"
   ]
  },
  {
   "cell_type": "code",
   "execution_count": 96,
   "id": "f0ac9feb",
   "metadata": {},
   "outputs": [
    {
     "data": {
      "text/plain": [
       "(10,)"
      ]
     },
     "execution_count": 96,
     "metadata": {},
     "output_type": "execute_result"
    }
   ],
   "source": [
    "daum_df[\"distributor\"].shape"
   ]
  },
  {
   "cell_type": "code",
   "execution_count": 83,
   "id": "94b22adb",
   "metadata": {},
   "outputs": [
    {
     "data": {
      "text/plain": [
       "(10, 5)"
      ]
     },
     "execution_count": 83,
     "metadata": {},
     "output_type": "execute_result"
    }
   ],
   "source": [
    "daum_df.shape"
   ]
  },
  {
   "cell_type": "code",
   "execution_count": 191,
   "id": "c06c94e6",
   "metadata": {},
   "outputs": [
    {
     "name": "stdout",
     "output_type": "stream",
     "text": [
      "0    1\n",
      "1    4\n",
      "2    3\n",
      "3    5\n",
      "4    0\n",
      "5    3\n",
      "6    2\n",
      "7    3\n",
      "8    2\n",
      "9    6\n",
      "Name: genre_lab, dtype: int64\n"
     ]
    }
   ],
   "source": [
    "X = val[[\"director_lab\",\"main_actor_lab\"]]\n",
    "Y = val[\"genre_lab\"]\n",
    "print(Y)\n",
    "x_train= X[:7].values\n",
    "x_test=X[7:].values\n",
    "\n",
    "y_train=Y[0:7].values\n",
    "y_test=Y[7:].values\n",
    "\n",
    "# x_train.shape,y_train.shape"
   ]
  },
  {
   "cell_type": "code",
   "execution_count": 161,
   "id": "262f802a",
   "metadata": {},
   "outputs": [],
   "source": [
    "# 머신러닝\n",
    "from sklearn.linear_model import LogisticRegression\n",
    "from sklearn.svm import SVC, LinearSVC\n",
    "from sklearn.ensemble import RandomForestClassifier\n",
    "from sklearn.neighbors import KNeighborsClassifier\n",
    "from sklearn.naive_bayes import GaussianNB\n",
    "from sklearn.linear_model import Perceptron\n",
    "from sklearn.linear_model import SGDClassifier\n",
    "from sklearn.tree import DecisionTreeClassifier\n",
    "\n",
    "import warnings\n",
    "warnings.filterwarnings(action='ignore')"
   ]
  },
  {
   "cell_type": "code",
   "execution_count": 192,
   "id": "4437bd81",
   "metadata": {},
   "outputs": [
    {
     "data": {
      "text/plain": [
       "71.43"
      ]
     },
     "execution_count": 192,
     "metadata": {},
     "output_type": "execute_result"
    }
   ],
   "source": [
    "# Logistic Regression\n",
    "\n",
    "logreg = LogisticRegression()\n",
    "logreg.fit(x_train, y_train)\n",
    "Y_pred = logreg.predict(x_test)\n",
    "acc_log = round(logreg.score(x_train, y_train) * 100, 2)\n",
    "acc_log"
   ]
  },
  {
   "cell_type": "code",
   "execution_count": 193,
   "id": "b6e83baf",
   "metadata": {},
   "outputs": [
    {
     "data": {
      "text/html": [
       "<div>\n",
       "<style scoped>\n",
       "    .dataframe tbody tr th:only-of-type {\n",
       "        vertical-align: middle;\n",
       "    }\n",
       "\n",
       "    .dataframe tbody tr th {\n",
       "        vertical-align: top;\n",
       "    }\n",
       "\n",
       "    .dataframe thead th {\n",
       "        text-align: right;\n",
       "    }\n",
       "</style>\n",
       "<table border=\"1\" class=\"dataframe\">\n",
       "  <thead>\n",
       "    <tr style=\"text-align: right;\">\n",
       "      <th></th>\n",
       "      <th>genre_lab</th>\n",
       "      <th>director_lab</th>\n",
       "      <th>main_actor_lab</th>\n",
       "    </tr>\n",
       "  </thead>\n",
       "  <tbody>\n",
       "    <tr>\n",
       "      <th>0</th>\n",
       "      <td>1</td>\n",
       "      <td>4</td>\n",
       "      <td>3</td>\n",
       "    </tr>\n",
       "    <tr>\n",
       "      <th>1</th>\n",
       "      <td>4</td>\n",
       "      <td>5</td>\n",
       "      <td>8</td>\n",
       "    </tr>\n",
       "    <tr>\n",
       "      <th>2</th>\n",
       "      <td>3</td>\n",
       "      <td>0</td>\n",
       "      <td>1</td>\n",
       "    </tr>\n",
       "    <tr>\n",
       "      <th>3</th>\n",
       "      <td>5</td>\n",
       "      <td>8</td>\n",
       "      <td>4</td>\n",
       "    </tr>\n",
       "    <tr>\n",
       "      <th>4</th>\n",
       "      <td>0</td>\n",
       "      <td>1</td>\n",
       "      <td>1</td>\n",
       "    </tr>\n",
       "    <tr>\n",
       "      <th>5</th>\n",
       "      <td>3</td>\n",
       "      <td>6</td>\n",
       "      <td>2</td>\n",
       "    </tr>\n",
       "    <tr>\n",
       "      <th>6</th>\n",
       "      <td>2</td>\n",
       "      <td>9</td>\n",
       "      <td>5</td>\n",
       "    </tr>\n",
       "    <tr>\n",
       "      <th>7</th>\n",
       "      <td>3</td>\n",
       "      <td>7</td>\n",
       "      <td>7</td>\n",
       "    </tr>\n",
       "    <tr>\n",
       "      <th>8</th>\n",
       "      <td>2</td>\n",
       "      <td>3</td>\n",
       "      <td>0</td>\n",
       "    </tr>\n",
       "    <tr>\n",
       "      <th>9</th>\n",
       "      <td>6</td>\n",
       "      <td>2</td>\n",
       "      <td>6</td>\n",
       "    </tr>\n",
       "  </tbody>\n",
       "</table>\n",
       "</div>"
      ],
      "text/plain": [
       "   genre_lab  director_lab  main_actor_lab\n",
       "0          1             4               3\n",
       "1          4             5               8\n",
       "2          3             0               1\n",
       "3          5             8               4\n",
       "4          0             1               1\n",
       "5          3             6               2\n",
       "6          2             9               5\n",
       "7          3             7               7\n",
       "8          2             3               0\n",
       "9          6             2               6"
      ]
     },
     "execution_count": 193,
     "metadata": {},
     "output_type": "execute_result"
    }
   ],
   "source": [
    "val"
   ]
  },
  {
   "cell_type": "code",
   "execution_count": 194,
   "id": "24885dfe",
   "metadata": {},
   "outputs": [
    {
     "name": "stdout",
     "output_type": "stream",
     "text": [
      "(1, 2)\n"
     ]
    },
    {
     "data": {
      "text/plain": [
       "array([3])"
      ]
     },
     "execution_count": 194,
     "metadata": {},
     "output_type": "execute_result"
    }
   ],
   "source": [
    "u1=np.array([[0,1]])\n",
    "print(u1.shape)\n",
    "logreg.predict(u1)"
   ]
  },
  {
   "cell_type": "code",
   "execution_count": 196,
   "id": "c9a978aa",
   "metadata": {},
   "outputs": [
    {
     "data": {
      "text/plain": [
       "57.14"
      ]
     },
     "execution_count": 196,
     "metadata": {},
     "output_type": "execute_result"
    }
   ],
   "source": [
    "# Support Vector Machines\n",
    "\n",
    "svc = SVC()\n",
    "svc.fit(x_train, y_train)\n",
    "Y_pred = svc.predict(x_test)\n",
    "acc_svc = round(svc.score(x_train, y_train) * 100, 2)\n",
    "acc_svc"
   ]
  },
  {
   "cell_type": "code",
   "execution_count": 197,
   "id": "82e6fa7c",
   "metadata": {},
   "outputs": [
    {
     "name": "stdout",
     "output_type": "stream",
     "text": [
      "(1, 2)\n"
     ]
    },
    {
     "data": {
      "text/plain": [
       "array([3])"
      ]
     },
     "execution_count": 197,
     "metadata": {},
     "output_type": "execute_result"
    }
   ],
   "source": [
    "u1=np.array([[0,1]])\n",
    "print(u1.shape)\n",
    "logreg.predict(u1)"
   ]
  },
  {
   "cell_type": "code",
   "execution_count": 199,
   "id": "9c2d08af",
   "metadata": {},
   "outputs": [
    {
     "data": {
      "text/plain": [
       "28.57"
      ]
     },
     "execution_count": 199,
     "metadata": {},
     "output_type": "execute_result"
    }
   ],
   "source": [
    "knn = KNeighborsClassifier(n_neighbors = 3)\n",
    "knn.fit(x_train, y_train)\n",
    "Y_pred = knn.predict(x_test)\n",
    "acc_knn = round(knn.score(x_train, y_train) * 100, 2)\n",
    "acc_knn"
   ]
  },
  {
   "cell_type": "code",
   "execution_count": 200,
   "id": "c5154104",
   "metadata": {},
   "outputs": [
    {
     "name": "stdout",
     "output_type": "stream",
     "text": [
      "(1, 2)\n"
     ]
    },
    {
     "data": {
      "text/plain": [
       "array([3])"
      ]
     },
     "execution_count": 200,
     "metadata": {},
     "output_type": "execute_result"
    }
   ],
   "source": [
    "u1=np.array([[0,1]])\n",
    "print(u1.shape)\n",
    "logreg.predict(u1)"
   ]
  },
  {
   "cell_type": "code",
   "execution_count": 202,
   "id": "b5296487",
   "metadata": {},
   "outputs": [
    {
     "data": {
      "text/plain": [
       "100.0"
      ]
     },
     "execution_count": 202,
     "metadata": {},
     "output_type": "execute_result"
    }
   ],
   "source": [
    "# Decision Tree\n",
    "\n",
    "decision_tree = DecisionTreeClassifier()\n",
    "decision_tree.fit(x_train, y_train)\n",
    "Y_pred = decision_tree.predict(x_test)\n",
    "acc_decision_tree = round(decision_tree.score(x_train, y_train) * 100, 2)\n",
    "acc_decision_tree"
   ]
  },
  {
   "cell_type": "code",
   "execution_count": 203,
   "id": "277ab1be",
   "metadata": {},
   "outputs": [
    {
     "name": "stdout",
     "output_type": "stream",
     "text": [
      "(1, 2)\n"
     ]
    },
    {
     "data": {
      "text/plain": [
       "array([3])"
      ]
     },
     "execution_count": 203,
     "metadata": {},
     "output_type": "execute_result"
    }
   ],
   "source": [
    "u1=np.array([[0,1]])\n",
    "print(u1.shape)\n",
    "logreg.predict(u1)"
   ]
  },
  {
   "cell_type": "code",
   "execution_count": 204,
   "id": "f32cf6fd",
   "metadata": {},
   "outputs": [
    {
     "data": {
      "text/plain": [
       "100.0"
      ]
     },
     "execution_count": 204,
     "metadata": {},
     "output_type": "execute_result"
    }
   ],
   "source": [
    "# Random Forest\n",
    "\n",
    "random_forest = RandomForestClassifier(n_estimators=100)\n",
    "random_forest.fit(x_train, y_train)\n",
    "Y_pred = random_forest.predict(x_test)\n",
    "random_forest.score(x_train, y_train)\n",
    "acc_random_forest = round(random_forest.score(x_train, y_train) * 100, 2)\n",
    "acc_random_forest"
   ]
  },
  {
   "cell_type": "code",
   "execution_count": 205,
   "id": "6d5d45a4",
   "metadata": {},
   "outputs": [
    {
     "name": "stdout",
     "output_type": "stream",
     "text": [
      "(1, 2)\n"
     ]
    },
    {
     "data": {
      "text/plain": [
       "array([3])"
      ]
     },
     "execution_count": 205,
     "metadata": {},
     "output_type": "execute_result"
    }
   ],
   "source": [
    "u1=np.array([[0,1]])\n",
    "print(u1.shape)\n",
    "logreg.predict(u1)"
   ]
  },
  {
   "cell_type": "code",
   "execution_count": 206,
   "id": "71e54ab4",
   "metadata": {},
   "outputs": [
    {
     "data": {
      "text/html": [
       "<div>\n",
       "<style scoped>\n",
       "    .dataframe tbody tr th:only-of-type {\n",
       "        vertical-align: middle;\n",
       "    }\n",
       "\n",
       "    .dataframe tbody tr th {\n",
       "        vertical-align: top;\n",
       "    }\n",
       "\n",
       "    .dataframe thead th {\n",
       "        text-align: right;\n",
       "    }\n",
       "</style>\n",
       "<table border=\"1\" class=\"dataframe\">\n",
       "  <thead>\n",
       "    <tr style=\"text-align: right;\">\n",
       "      <th></th>\n",
       "      <th>Model</th>\n",
       "      <th>Score</th>\n",
       "    </tr>\n",
       "  </thead>\n",
       "  <tbody>\n",
       "    <tr>\n",
       "      <th>3</th>\n",
       "      <td>Random Forest</td>\n",
       "      <td>100.00</td>\n",
       "    </tr>\n",
       "    <tr>\n",
       "      <th>4</th>\n",
       "      <td>Decision Tree</td>\n",
       "      <td>100.00</td>\n",
       "    </tr>\n",
       "    <tr>\n",
       "      <th>2</th>\n",
       "      <td>Logistic Regression</td>\n",
       "      <td>71.43</td>\n",
       "    </tr>\n",
       "    <tr>\n",
       "      <th>0</th>\n",
       "      <td>Support Vector Machines</td>\n",
       "      <td>57.14</td>\n",
       "    </tr>\n",
       "    <tr>\n",
       "      <th>1</th>\n",
       "      <td>KNN</td>\n",
       "      <td>28.57</td>\n",
       "    </tr>\n",
       "  </tbody>\n",
       "</table>\n",
       "</div>"
      ],
      "text/plain": [
       "                     Model   Score\n",
       "3            Random Forest  100.00\n",
       "4            Decision Tree  100.00\n",
       "2      Logistic Regression   71.43\n",
       "0  Support Vector Machines   57.14\n",
       "1                      KNN   28.57"
      ]
     },
     "execution_count": 206,
     "metadata": {},
     "output_type": "execute_result"
    }
   ],
   "source": [
    "models = pd.DataFrame({\n",
    "    'Model': ['Support Vector Machines', 'KNN', 'Logistic Regression', \n",
    "              'Random Forest', 'Decision Tree'],\n",
    "    'Score': [acc_svc, acc_knn, acc_log, \n",
    "              acc_random_forest, acc_decision_tree]})\n",
    "models.sort_values(by='Score', ascending=False)"
   ]
  },
  {
   "cell_type": "code",
   "execution_count": null,
   "id": "ec78152b",
   "metadata": {},
   "outputs": [],
   "source": []
  }
 ],
 "metadata": {
  "kernelspec": {
   "display_name": "Python 3 (ipykernel)",
   "language": "python",
   "name": "python3"
  },
  "language_info": {
   "codemirror_mode": {
    "name": "ipython",
    "version": 3
   },
   "file_extension": ".py",
   "mimetype": "text/x-python",
   "name": "python",
   "nbconvert_exporter": "python",
   "pygments_lexer": "ipython3",
   "version": "3.9.12"
  }
 },
 "nbformat": 4,
 "nbformat_minor": 5
}
