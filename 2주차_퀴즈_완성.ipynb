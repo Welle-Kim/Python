{
  "nbformat": 4,
  "nbformat_minor": 0,
  "metadata": {
    "colab": {
      "name": "2주차 퀴즈 완성.ipynb",
      "provenance": [],
      "collapsed_sections": [],
      "authorship_tag": "ABX9TyNUNIBjrDZcZHHLlZOVkwuq",
      "include_colab_link": true
    },
    "kernelspec": {
      "name": "python3",
      "display_name": "Python 3"
    },
    "language_info": {
      "name": "python"
    }
  },
  "cells": [
    {
      "cell_type": "markdown",
      "metadata": {
        "id": "view-in-github",
        "colab_type": "text"
      },
      "source": [
        "<a href=\"https://colab.research.google.com/github/Welle-Kim/Python/blob/master/2%EC%A3%BC%EC%B0%A8_%ED%80%B4%EC%A6%88_%EC%99%84%EC%84%B1.ipynb\" target=\"_parent\"><img src=\"https://colab.research.google.com/assets/colab-badge.svg\" alt=\"Open In Colab\"/></a>"
      ]
    },
    {
      "cell_type": "code",
      "execution_count": null,
      "metadata": {
        "id": "B4e82LowwWji"
      },
      "outputs": [],
      "source": [
        "def score(b):\n",
        "  global grade\n",
        "  if b <=60:\n",
        "    grade=\"F\"\n",
        "    \n",
        "  elif b<=65:\n",
        "    grade=\"D\"\n",
        "    \n",
        "  elif b<=70:\n",
        "    grade=\"D+\"\n",
        "    \n",
        "  elif b<=75:\n",
        "    grade=\"C\"\n",
        "    \n",
        "  elif b<=80:\n",
        "    grade=\"C+\"\n",
        "    \n",
        "  elif b<=85:\n",
        "    grade=\"B\"\n",
        "    \n",
        "  elif b<=90:\n",
        "    grade=\"B\"\n",
        "    \n",
        "  elif b<=95:\n",
        "    grade=\"A\"\n",
        "    \n",
        "  elif b<=100:\n",
        "    grade=\"A+\"\n",
        "  return grade\n",
        "\n",
        "a, b = input('이름과 점수를 입력하세요: ').split() \n",
        "b=int(b)\n",
        "\n",
        "while True:\n",
        "  if b > 100:\n",
        "    b = int(input(\"다시 입력\"))\n",
        "  else:\n",
        "    grade= score(b)\n",
        "    print(f\"학생이름: {a}\")\n",
        "    print(f\"점수: {b}\")\n",
        "    print(f\"학점: {grade}\")\n",
        "    break"
      ]
    },
    {
      "cell_type": "code",
      "source": [
        "def bus_fare(age, way):\n",
        "  global fare\n",
        "  if age <= -1:\n",
        "    age, way = input(\"연령과 지불수단(카드/현금)을 입력해주세요(예: 24 카드)\").split()\n",
        "    age=int(age)\n",
        "    bus_fare(age, way)\n",
        "  elif -1<age<8:\n",
        "    fare=\"무료\"\n",
        "  elif age<14 and way==\"카드\":\n",
        "    fare=\"450원\"\n",
        "  elif age<14 and way==\"현금\":\n",
        "    fare=\"450원\"\n",
        "  elif age<20 and way==\"카드\":\n",
        "    fare=\"720원\"\n",
        "  elif age<20 and way==\"현금\":\n",
        "    fare=\"1000원\"\n",
        "  elif age<75 and way==\"카드\":\n",
        "    fare=\"1200원\"\n",
        "  elif age<75 and way==\"현금\":\n",
        "    fare=\"1300원\"\n",
        "  elif 75<=age:\n",
        "    fare=\"무료\"\n",
        "\n",
        "  return fare,age,way\n",
        "\n",
        "age, way = input(\"연령과 지불수단(카드/현금)을 입력해주세요(예: 24 카드)\").split()\n",
        "age=int(age)\n",
        "fare,age,way= bus_fare(age, way)\n",
        "print(f\"나이: {age}\")\n",
        "print(f\"지불유형: {way}\")\n",
        "print(f\"버스요금: {fare}\")\n"
      ],
      "metadata": {
        "id": "XkfgH3BGxcmE"
      },
      "execution_count": null,
      "outputs": []
    },
    {
      "cell_type": "code",
      "source": [
        "# 월급 입력 #2주차퀴즈 -2번\n",
        "\n",
        "salary=int(input(\"월급을 만원단위로 입력해주세요: \"))\n",
        "real_salary=salary*12 \n",
        "\n",
        "def Aftertax(real_salary):\n",
        "\n",
        "  if 0<real_salary<1200:\n",
        "    real_salary=real_salary*(1-0.06)\n",
        "\n",
        "  elif 1200< real_salary < 4600:\n",
        "    real_salary=real_salary*(1-0.15)\n",
        "  \n",
        "  elif 4600< real_salary < 8800:\n",
        "    real_salary=real_salary*(1-0.24)\n",
        "    \n",
        "  elif 8800< real_salary < 15000:\n",
        "    real_salary=real_salary*(1-0.35)\n",
        "  \n",
        "  elif 15000< real_salary <30000:\n",
        "    real_salary=real_salary*(1-0.38)\n",
        "    \n",
        "  elif 30000< real_salary <50000:\n",
        "    real_salary=real_salary*(1-0.4)\n",
        "    \n",
        "  elif real_salary >50000:\n",
        "    real_salary=real_salary*(1-0.42)\n",
        "\n",
        "  return real_salary\n",
        "\n",
        "\n",
        "\n",
        "while True:\n",
        "  if salary < 1:\n",
        "    salary = int(input(\"다시 입력: \"))\n",
        "    real_salary=salary*12 \n",
        "  else:\n",
        "    print(f\"세전 연봉: {real_salary}만원\")\n",
        "    real_salary= Aftertax(real_salary)\n",
        "    print(f\"세후 연봉: {real_salary}만원\")\n",
        "    break\n",
        "\n",
        "\n"
      ],
      "metadata": {
        "colab": {
          "base_uri": "https://localhost:8080/"
        },
        "id": "WiEpBl62xHRR",
        "outputId": "8f437f8e-5ecc-4054-dfc2-ae4d20ac2ce2"
      },
      "execution_count": null,
      "outputs": [
        {
          "output_type": "stream",
          "name": "stdout",
          "text": [
            "월급을 만원단위로 입력해주세요: -30\n",
            "다시 입력: 30\n",
            "세전 연봉: 360만원\n",
            "세후 연봉: 338.4만원\n"
          ]
        }
      ]
    },
    {
      "cell_type": "code",
      "source": [
        "def Aftertax(salary):\n",
        "    if(salary < 0) :\n",
        "            # 급여가 잘못 입력되었다면 함수 밖으로 나감\n",
        "            print(\"입력한 급여가 정확하지 않습니다.\")\n",
        "            return\n",
        "    else:\n",
        "            # 세전 연봉 = 월급 * 12\n",
        "            real_salary = salary * 12\n",
        "\n",
        "            # 연봉 구간 별로 세금 구하기\n",
        "            if real_salary <= 1200:\n",
        "                tax = 0.06  \n",
        "            elif real_salary <= 4600:\n",
        "                tax = 0.15   \n",
        "            elif real_salary <= 8800:\n",
        "                tax = 0.24\n",
        "            elif real_salary <= 15000:\n",
        "                tax = 0.35\n",
        "            elif real_salary <= 30000:\n",
        "                tax = 0.38\n",
        "            elif real_salary <= 50000:\n",
        "                tax = 0.40\n",
        "            else:\n",
        "                tax = 0.42\n",
        "\n",
        "            # 세후 연봉 = 세전 연봉 - 세금\n",
        "            after_tax = real_salary - (real_salary * tax)\n",
        "\n",
        "            print(f\"월급: {salary}만원\")\n",
        "            print(f\"세전 연봉: {real_salary}만원\")\n",
        "            print(f\"세후 연봉: {after_tax}만원\")\n",
        "            \n",
        "            flag = False\n",
        "            return flag\n",
        "\n",
        "flag = True       \n",
        "while flag:\n",
        "    salary = int(input(\"월급을 만원단위로 입력해주세요: \"))\n",
        "    Aftertax(salary)"
      ],
      "metadata": {
        "id": "hPH2yTB13gwE"
      },
      "execution_count": null,
      "outputs": []
    },
    {
      "cell_type": "code",
      "source": [
        "def Aftertax(salary):\n",
        "    if(salary < 0) :\n",
        "            # 급여가 잘못 입력되었다면 함수 밖으로 나감\n",
        "            print(\"입력한 급여가 정확하지 않습니다.\")\n",
        "            new_salary = int(input(\"월급을 만원단위로 입력해주세요: \"))\n",
        "            Aftertax(new_salary)\n",
        "            return\n",
        "    else:\n",
        "            # 세전 연봉 = 월급 * 12\n",
        "            real_salary = salary * 12\n",
        "\n",
        "            # 연봉 구간 별로 세금 구하기\n",
        "            if real_salary <= 1200:\n",
        "                tax = 0.06  \n",
        "            elif real_salary <= 4600:\n",
        "                tax = 0.15   \n",
        "            elif real_salary <= 8800:\n",
        "                tax = 0.24\n",
        "            elif real_salary <= 15000:\n",
        "                tax = 0.35\n",
        "            elif real_salary <= 30000:\n",
        "                tax = 0.38\n",
        "            elif real_salary <= 50000:\n",
        "                tax = 0.40\n",
        "            else:\n",
        "                tax = 0.42\n",
        "\n",
        "            # 세후 연봉 = 세전 연봉 - 세금\n",
        "            after_tax = real_salary - (real_salary * tax)\n",
        "\n",
        "            print(f\"세전 연봉: {real_salary}만원\")\n",
        "            print(f\"세후 연봉: {after_tax}만원\")\n",
        "    \n",
        "\n",
        "salary = int(input(\"월급을 만원단위로 입력해주세요: \"))"
      ],
      "metadata": {
        "id": "ZO1isRmj6T99"
      },
      "execution_count": null,
      "outputs": []
    },
    {
      "cell_type": "code",
      "source": [
        "flag=True\n",
        "print(flag)\n",
        "print(type(flag))\n",
        "\n",
        "if flag:\n",
        "  print(\"True입니다. \")\n",
        "\n",
        "else:\n",
        "  print(\"false입니다. \")"
      ],
      "metadata": {
        "colab": {
          "base_uri": "https://localhost:8080/"
        },
        "id": "J9QEZkzi4riH",
        "outputId": "18de7c9b-7078-4b98-c58d-02bf2fee6a3c"
      },
      "execution_count": null,
      "outputs": [
        {
          "output_type": "stream",
          "name": "stdout",
          "text": [
            "True\n",
            "<class 'bool'>\n",
            "True입니다. \n"
          ]
        }
      ]
    },
    {
      "cell_type": "code",
      "source": [
        "import random\n",
        "def rsp():\n",
        "  my = input(\"가위 바위 보: \")\n",
        "  jong=[\"가위\",\"바위\",\"보\"]\n",
        "  computer = random.choice(jong)\n",
        "  print(\"나: \",my)\n",
        "  print(\"컴퓨터: \",computer)\n",
        "\n",
        "  if my==computer:\n",
        "    print(\"same\")\n",
        "    return rsp()\n",
        "  elif my==\"보\" and computer==\"가위\":\n",
        "    print(\"컴퓨터 승리\")\n",
        "  elif my==\"가위\" and computer==\"바위\":\n",
        "    print(\"컴퓨터 승리\")\n",
        "  elif my==\"바위\" and computer==\"보\":\n",
        "    print(\"컴퓨터 승리\")\n",
        "  else:\n",
        "    if not my==\"가위\" or \"바위\" or \"보\":\n",
        "      print(\"다시 입력해주세요\")\n",
        "      return rsp()\n",
        "    print(\"나의 승리\")\n",
        "\n",
        "\n",
        "rsp()"
      ],
      "metadata": {
        "id": "zkfEiXffuyxJ"
      },
      "execution_count": null,
      "outputs": []
    }
  ]
}