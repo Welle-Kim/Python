{
  "nbformat": 4,
  "nbformat_minor": 0,
  "metadata": {
    "colab": {
      "provenance": [],
      "authorship_tag": "ABX9TyPAwYUaRgk8weJZ+qWxM9SK",
      "include_colab_link": true
    },
    "kernelspec": {
      "name": "python3",
      "display_name": "Python 3"
    },
    "language_info": {
      "name": "python"
    }
  },
  "cells": [
    {
      "cell_type": "markdown",
      "metadata": {
        "id": "view-in-github",
        "colab_type": "text"
      },
      "source": [
        "<a href=\"https://colab.research.google.com/github/Welle-Kim/Python/blob/master/%EC%9B%8C%EB%93%9C%ED%81%B4%EB%9D%BC%EC%9A%B0%EB%93%9C%ED%8F%B0%ED%8A%B8ipynb.ipynb\" target=\"_parent\"><img src=\"https://colab.research.google.com/assets/colab-badge.svg\" alt=\"Open In Colab\"/></a>"
      ]
    },
    {
      "cell_type": "code",
      "execution_count": null,
      "metadata": {
        "id": "3p9FDmKoTDhS"
      },
      "outputs": [],
      "source": [
        "WC_mask=np.array(Image.open(\"C:/02.내부자료/분석역량/2. WordCloud/Shape/smallcircle.jpg\"))\n",
        "\n",
        "#WC_mask=np.array(Image.open(\"C:/02.내부자료/분석역량/2. WordCloud/Shape/작은원.jpg\"))\n",
        "\n",
        "wc = WordCloud(\n",
        "    mask=WC_mask,\n",
        "    background_color='white',\n",
        "    width=200,\n",
        "    height=300,\n",
        "    max_font_size=100,\n",
        "    min_font_size=5,\n",
        "    prefer_horizontal=1,\n",
        "    max_words=150,\n",
        "    #font_path='C:/Users/RSN/AppData/LocalLow/Microsoft/Windows/Fonts/Nanumsquareb.ttf'\n",
        "    #font_path='C:/Users/RSN/AppData/Microsoft/Windows/Fonts/나눔스퀘어OTF')\n",
        "    font_path='C:/Users/RSN/AppData/Local/Microsoft/Windows/Fonts/NANUMSQUAREB.otf')\n",
        "\n",
        "wc.generate_from_frequencies(data_dict)\n",
        "\n",
        "color_to_words = { # 지정단어 색상 / WordCloud Color 파일 참조\n",
        "    '#EB5053' : [\"기업\",\"산업\",\"기술\",\"조성\",\"지역\"],\n",
        "    '#EB5053' : [\"기업\",\"산업\",\"기술\",\"조성\",\"지역\"],\n",
        "}\n",
        "# Words that are not in any of the color_to_words values\n",
        "# will be colored with a grey single color function\n",
        "default_color = '#000000'\n",
        "#default_color = 'red'\n",
        "\n",
        "grouped_color_func = SimpleGroupedColorFunc(color_to_words, default_color)\n",
        "\n",
        "#grouped_color_func = GroupedColorFunc(color_to_words, default_color)\n",
        "\n",
        "# Apply our color function\n",
        "wc.recolor(color_func=grouped_color_func)\n",
        "\n",
        "fig=plt.figure(figsize=(20,20))\n",
        "plt.imshow(wc, interpolation=\"lanczos\")\n",
        "plt.axis(\"off\")\n",
        "plt.show()\n",
        "fig.savefig('result/소부장_2021png')\n"
      ]
    }
  ]
}